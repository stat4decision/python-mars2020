{
 "cells": [
  {
   "cell_type": "markdown",
   "metadata": {
    "slideshow": {
     "slide_type": "slide"
    }
   },
   "source": [
    "![image](./images/pandas.png)\n",
    "\n",
    "Pandas est le package de prédilection pour traiter des données structurées.\n",
    "\n",
    "Pandas est basé sur 2 structures extrêmement liées les Series et le DataFrame.\n",
    "\n",
    "Ces deux structures permettent de traiter des données sous forme de tableaux indexés.\n",
    "\n",
    "Les classes de Pandas utilisent des classes de Numpy, il est donc possible d'utiliser les fonctions universelles de Numpy sur les objets Pandas."
   ]
  },
  {
   "cell_type": "code",
   "execution_count": 1,
   "metadata": {
    "slideshow": {
     "slide_type": "subslide"
    }
   },
   "outputs": [],
   "source": [
    "# on importe pandas avec :\n",
    "import pandas as pd\n",
    "import numpy as np\n",
    "%matplotlib inline"
   ]
  },
  {
   "cell_type": "markdown",
   "metadata": {
    "slideshow": {
     "slide_type": "slide"
    }
   },
   "source": [
    "# Les Series de Pandas\n",
    "\n",
    "- Les Series sont indexées, c'est leur avantage sur les arrays de NumPy\n",
    "- On peut utiliser les fonctions `.values` et `.index` pour voir les différentes parties de chaque Series\n",
    "- On définit une Series par `pd.Series([,], index=['','',])`\n",
    "- On peut appeler un élément avec `ma_serie['France']`\n",
    "- On peut aussi faire des conditions :\n",
    "```python\n",
    "ma_serie[ma_serie>5000000]\n",
    "```\n",
    "```\n",
    "'France' in ma_serie\n",
    "```\n",
    "- Les objets Series peuvent être transformés en dictionnaires en utilisant :\n",
    "`.to_dict()`"
   ]
  },
  {
   "cell_type": "markdown",
   "metadata": {
    "slideshow": {
     "slide_type": "subslide"
    }
   },
   "source": [
    "**Exercice :**\n",
    "    \n",
    "Définir un objet Series comprenant la population de 5 pays puis afficher les pays ayant une population > 50’000’000.\n"
   ]
  },
  {
   "cell_type": "code",
   "execution_count": 2,
   "metadata": {},
   "outputs": [],
   "source": [
    "serie_pop = pd.Series([70,8,300,1200], index=[\"France\",\"Suisse\",\"USA\",\"Chine\"])"
   ]
  },
  {
   "cell_type": "code",
   "execution_count": 3,
   "metadata": {},
   "outputs": [
    {
     "data": {
      "text/plain": [
       "France      70\n",
       "Suisse       8\n",
       "USA        300\n",
       "Chine     1200\n",
       "dtype: int64"
      ]
     },
     "execution_count": 3,
     "metadata": {},
     "output_type": "execute_result"
    }
   ],
   "source": [
    "serie_pop"
   ]
  },
  {
   "cell_type": "code",
   "execution_count": 4,
   "metadata": {},
   "outputs": [
    {
     "data": {
      "text/plain": [
       "8"
      ]
     },
     "execution_count": 4,
     "metadata": {},
     "output_type": "execute_result"
    }
   ],
   "source": [
    "serie_pop[\"Suisse\"]"
   ]
  },
  {
   "cell_type": "code",
   "execution_count": 5,
   "metadata": {},
   "outputs": [
    {
     "data": {
      "text/plain": [
       "8"
      ]
     },
     "execution_count": 5,
     "metadata": {},
     "output_type": "execute_result"
    }
   ],
   "source": [
    "serie_pop2 = pd.Series([70,8,300,1200], index=[1,0,3,5])\n",
    "serie_pop2.iloc[1]"
   ]
  },
  {
   "cell_type": "code",
   "execution_count": 6,
   "metadata": {},
   "outputs": [
    {
     "data": {
      "text/plain": [
       "France    70\n",
       "Suisse     8\n",
       "dtype: int64"
      ]
     },
     "execution_count": 6,
     "metadata": {},
     "output_type": "execute_result"
    }
   ],
   "source": [
    "serie_pop[[\"France\",\"Suisse\"]]"
   ]
  },
  {
   "cell_type": "code",
   "execution_count": 7,
   "metadata": {},
   "outputs": [
    {
     "data": {
      "text/plain": [
       "France     True\n",
       "Suisse    False\n",
       "USA        True\n",
       "Chine      True\n",
       "dtype: bool"
      ]
     },
     "execution_count": 7,
     "metadata": {},
     "output_type": "execute_result"
    }
   ],
   "source": [
    "serie_pop>50"
   ]
  },
  {
   "cell_type": "code",
   "execution_count": 8,
   "metadata": {},
   "outputs": [
    {
     "data": {
      "text/plain": [
       "France      70\n",
       "USA        300\n",
       "Chine     1200\n",
       "dtype: int64"
      ]
     },
     "execution_count": 8,
     "metadata": {},
     "output_type": "execute_result"
    }
   ],
   "source": [
    "serie_pop[serie_pop>50]"
   ]
  },
  {
   "cell_type": "markdown",
   "metadata": {
    "slideshow": {
     "slide_type": "subslide"
    }
   },
   "source": [
    "# D'autres opérations sur les objets series\n",
    "\n",
    "- Pour définir le nom de la Series, on utilise `.name`\n",
    "- Pour définir le titre de la colonne des observations, on utilise `.index.name`"
   ]
  },
  {
   "cell_type": "markdown",
   "metadata": {
    "slideshow": {
     "slide_type": "subslide"
    }
   },
   "source": [
    "**Exercice :**\n",
    "    \n",
    "Définir les noms de l’objet et de la colonne des pays pour la Series précédente\n"
   ]
  },
  {
   "cell_type": "code",
   "execution_count": 9,
   "metadata": {},
   "outputs": [],
   "source": [
    "serie_pop.name = \"Populations\"\n",
    "serie_pop.index.name = \"Pays\""
   ]
  },
  {
   "cell_type": "markdown",
   "metadata": {
    "slideshow": {
     "slide_type": "subslide"
    }
   },
   "source": [
    "# Les données manquantes\n",
    "\n",
    "Dans pandas, les données manquantes sont identifiés avec les fonctions de Numpy (`np.nan`). On a d'autres fonctions telles que :"
   ]
  },
  {
   "cell_type": "code",
   "execution_count": 10,
   "metadata": {
    "slideshow": {
     "slide_type": "fragment"
    }
   },
   "outputs": [
    {
     "data": {
      "text/plain": [
       "a    False\n",
       "b     True\n",
       "c    False\n",
       "dtype: bool"
      ]
     },
     "execution_count": 10,
     "metadata": {},
     "output_type": "execute_result"
    }
   ],
   "source": [
    "pd.isna(pd.Series([2,np.nan,4],index=['a','b','c']))"
   ]
  },
  {
   "cell_type": "code",
   "execution_count": 11,
   "metadata": {
    "slideshow": {
     "slide_type": "fragment"
    }
   },
   "outputs": [
    {
     "data": {
      "text/plain": [
       "a     True\n",
       "b    False\n",
       "c     True\n",
       "dtype: bool"
      ]
     },
     "execution_count": 11,
     "metadata": {},
     "output_type": "execute_result"
    }
   ],
   "source": [
    "pd.notna(pd.Series([2,np.nan,4],index=['a','b','c']))"
   ]
  },
  {
   "cell_type": "code",
   "execution_count": 12,
   "metadata": {},
   "outputs": [],
   "source": [
    "ser_nan = pd.Series([2,np.nan,4],index=['a','b','c'])"
   ]
  },
  {
   "cell_type": "code",
   "execution_count": 13,
   "metadata": {},
   "outputs": [
    {
     "data": {
      "text/plain": [
       "3.0"
      ]
     },
     "execution_count": 13,
     "metadata": {},
     "output_type": "execute_result"
    }
   ],
   "source": [
    "ser_nan.mean()"
   ]
  },
  {
   "cell_type": "markdown",
   "metadata": {
    "slideshow": {
     "slide_type": "slide"
    }
   },
   "source": [
    "# Les dates avec pandas\n",
    "\n",
    "- Python possède un module datetime qui permet de gérer facilement des dates\n",
    "- Pandas permet d'appliquer les opérations sur les dates aux Series et aux DataFrame\n",
    "- Le format es dates Python est `YYYY-MM-DD HH:MM:SS`\n",
    "\n",
    "- On peut générer des dates avec la fonction `pd.date_range()` avec différente fréquences `freq=`\n",
    "- On peut utiliser ces dates comme index dans un DataFrame ou dans un objet Series\n",
    "- On peut changer la fréquence en utilisant `.asfreq()`\n",
    "- Pour transformer une chaine de caractère en date, on utilise `pd.to_datetime()` avec l’option `dayfirst=True` si on est dans le cas français\n",
    "-On pourra aussi spécifier un format pour accélérer le processus `%Y%m%d`"
   ]
  },
  {
   "cell_type": "markdown",
   "metadata": {
    "slideshow": {
     "slide_type": "subslide"
    }
   },
   "source": [
    "**Exercice :**\n",
    "\n",
    "Créez un objet Series et ajoutez des dates partant du 3 octobre 2017 par jour jusqu’à aujourd’hui. Afficher le résultat dans un graphique (on utilisera la méthode `.plot()`"
   ]
  },
  {
   "cell_type": "code",
   "execution_count": 14,
   "metadata": {},
   "outputs": [],
   "source": [
    "import datetime"
   ]
  },
  {
   "cell_type": "code",
   "execution_count": 15,
   "metadata": {
    "slideshow": {
     "slide_type": "fragment"
    }
   },
   "outputs": [
    {
     "data": {
      "text/plain": [
       "<matplotlib.axes._subplots.AxesSubplot at 0x1a6660a7148>"
      ]
     },
     "execution_count": 15,
     "metadata": {},
     "output_type": "execute_result"
    },
    {
     "data": {
      "image/png": "[encoded data removed]",
      "text/plain": [
       "<Figure size 432x288 with 1 Axes>"
      ]
     },
     "metadata": {
      "needs_background": "light"
     },
     "output_type": "display_data"
    }
   ],
   "source": [
    "dates = pd.date_range(start=\"2017-10-03\",end=datetime.date.today(),periods=100)\n",
    "donnees = np.random.randn(len(dates))\n",
    "serie_temp = pd.Series(donnees,index=dates)\n",
    "serie_temp.plot()"
   ]
  },
  {
   "cell_type": "code",
   "execution_count": 16,
   "metadata": {},
   "outputs": [],
   "source": [
    "def affiche_graphique(start, freq=\"D\"):\n",
    "    dates = pd.date_range(start=start,end=datetime.date.today(),freq=freq)\n",
    "    donnees = np.random.randn(len(dates))\n",
    "    serie_temp = pd.Series(donnees,index=dates)\n",
    "    serie_temp.plot()"
   ]
  },
  {
   "cell_type": "code",
   "execution_count": 17,
   "metadata": {},
   "outputs": [
    {
     "data": {
      "image/png": "[encoded data removed]",
      "text/plain": [
       "<Figure size 432x288 with 1 Axes>"
      ]
     },
     "metadata": {
      "needs_background": "light"
     },
     "output_type": "display_data"
    }
   ],
   "source": [
    "affiche_graphique(\"2019-01-01\",freq=\"2 D\")"
   ]
  },
  {
   "cell_type": "markdown",
   "metadata": {
    "slideshow": {
     "slide_type": "subslide"
    }
   },
   "source": [
    "# Aller plus loin avec les dates\n",
    "\n",
    "- On peut définir avec pandas des fuseaux horaires\n",
    "    - On utilise `.tz_localize(\"Europe/Paris\")`\n",
    "    - On peut changer de fuseau horaire avec `.tz_convert()`\n",
    "\n",
    "- On peut aussi travailler sur des périodes plutôt que sur des dates\n",
    "    - On utilise `pd.period_range()`\n"
   ]
  },
  {
   "cell_type": "markdown",
   "metadata": {
    "slideshow": {
     "slide_type": "slide"
    }
   },
   "source": [
    "# Le DataFrame \n",
    "\n",
    "- Les DataFrame sont des objets très souples pouvant être construits de différentes façon\n",
    "- On peut les construire en récupérant des données copier / coller, où directement sur Internet, ou en entrant les valeurs manuellement\n",
    "\n",
    "\n",
    "- Les DataFrame se rapprochent des dictionnaires et on peut construire ces objets en utilisant `DataFrame(dico)`\n",
    "- De nombreux détails sur la création des DataFrame se trouve sur ce site :\n",
    "\n",
    "<http://pandas.pydata.org/pandas-docs/dev/generated/pandas.DataFrame.html>\n"
   ]
  },
  {
   "cell_type": "markdown",
   "metadata": {
    "slideshow": {
     "slide_type": "subslide"
    }
   },
   "source": [
    "# Construction de DataFrame\n",
    "\n",
    "On peut simplement construire un DataFrame avec le classe pd.DataFrame() à partir de différentes structures :"
   ]
  },
  {
   "cell_type": "code",
   "execution_count": 18,
   "metadata": {
    "slideshow": {
     "slide_type": "fragment"
    }
   },
   "outputs": [
    {
     "data": {
      "text/html": [
       "<div>\n",
       "<style scoped>\n",
       "    .dataframe tbody tr th:only-of-type {\n",
       "        vertical-align: middle;\n",
       "    }\n",
       "\n",
       "    .dataframe tbody tr th {\n",
       "        vertical-align: top;\n",
       "    }\n",
       "\n",
       "    .dataframe thead th {\n",
       "        text-align: right;\n",
       "    }\n",
       "</style>\n",
       "<table border=\"1\" class=\"dataframe\">\n",
       "  <thead>\n",
       "    <tr style=\"text-align: right;\">\n",
       "      <th></th>\n",
       "      <th>col_0</th>\n",
       "      <th>col_1</th>\n",
       "    </tr>\n",
       "  </thead>\n",
       "  <tbody>\n",
       "    <tr>\n",
       "      <th>obs_0</th>\n",
       "      <td>-0.368908</td>\n",
       "      <td>0.837867</td>\n",
       "    </tr>\n",
       "    <tr>\n",
       "      <th>obs_1</th>\n",
       "      <td>-0.837323</td>\n",
       "      <td>-0.252969</td>\n",
       "    </tr>\n",
       "    <tr>\n",
       "      <th>obs_2</th>\n",
       "      <td>-0.582708</td>\n",
       "      <td>-0.688394</td>\n",
       "    </tr>\n",
       "    <tr>\n",
       "      <th>obs_3</th>\n",
       "      <td>0.060093</td>\n",
       "      <td>0.203725</td>\n",
       "    </tr>\n",
       "    <tr>\n",
       "      <th>obs_4</th>\n",
       "      <td>-0.267241</td>\n",
       "      <td>-0.014807</td>\n",
       "    </tr>\n",
       "  </tbody>\n",
       "</table>\n",
       "</div>"
      ],
      "text/plain": [
       "          col_0     col_1\n",
       "obs_0 -0.368908  0.837867\n",
       "obs_1 -0.837323 -0.252969\n",
       "obs_2 -0.582708 -0.688394\n",
       "obs_3  0.060093  0.203725\n",
       "obs_4 -0.267241 -0.014807"
      ]
     },
     "execution_count": 18,
     "metadata": {},
     "output_type": "execute_result"
    }
   ],
   "source": [
    "frame1=pd.DataFrame(np.random.randn(10).reshape(5,2),\n",
    "             index=[\"obs_\"+str(i) for i in range(5)],\n",
    "             columns=[\"col_\"+str(i) for i in range(2)])\n",
    "frame1"
   ]
  },
  {
   "cell_type": "markdown",
   "metadata": {
    "slideshow": {
     "slide_type": "subslide"
    }
   },
   "source": [
    "# Opérations sur les DataFrame\n",
    "\n",
    "On peut afficher le nom des colonnes :"
   ]
  },
  {
   "cell_type": "code",
   "execution_count": 19,
   "metadata": {
    "slideshow": {
     "slide_type": "fragment"
    }
   },
   "outputs": [
    {
     "name": "stdout",
     "output_type": "stream",
     "text": [
      "Index(['col_0', 'col_1'], dtype='object')\n"
     ]
    }
   ],
   "source": [
    "print(frame1.columns)"
   ]
  },
  {
   "cell_type": "markdown",
   "metadata": {
    "slideshow": {
     "slide_type": "fragment"
    }
   },
   "source": [
    "On peut accéder à une colonne avec :\n",
    "- `frame1.col_0` : attention au cas de nom de colonnes avec des espaces...\n",
    "- `frame1['col_0']`\n",
    "\n",
    "On peut accéder à une cellule avec :\n",
    "- `frame1.loc['obs1','col_0']` : on utilise les index et le nom des colonnes\n",
    "- `frame1.iloc[1,0]` : on utilise les positions dans le DataFrame\n"
   ]
  },
  {
   "cell_type": "markdown",
   "metadata": {
    "slideshow": {
     "slide_type": "subslide"
    }
   },
   "source": [
    "# Options de visualisation et de résumé\n",
    "\n",
    "Pour afficher les 3 premières lignes, on peut utiliser :\n"
   ]
  },
  {
   "cell_type": "code",
   "execution_count": 20,
   "metadata": {
    "slideshow": {
     "slide_type": "fragment"
    }
   },
   "outputs": [
    {
     "data": {
      "text/html": [
       "<div>\n",
       "<style scoped>\n",
       "    .dataframe tbody tr th:only-of-type {\n",
       "        vertical-align: middle;\n",
       "    }\n",
       "\n",
       "    .dataframe tbody tr th {\n",
       "        vertical-align: top;\n",
       "    }\n",
       "\n",
       "    .dataframe thead th {\n",
       "        text-align: right;\n",
       "    }\n",
       "</style>\n",
       "<table border=\"1\" class=\"dataframe\">\n",
       "  <thead>\n",
       "    <tr style=\"text-align: right;\">\n",
       "      <th></th>\n",
       "      <th>col_0</th>\n",
       "      <th>col_1</th>\n",
       "    </tr>\n",
       "  </thead>\n",
       "  <tbody>\n",
       "    <tr>\n",
       "      <th>obs_0</th>\n",
       "      <td>-0.368908</td>\n",
       "      <td>0.837867</td>\n",
       "    </tr>\n",
       "    <tr>\n",
       "      <th>obs_1</th>\n",
       "      <td>-0.837323</td>\n",
       "      <td>-0.252969</td>\n",
       "    </tr>\n",
       "    <tr>\n",
       "      <th>obs_2</th>\n",
       "      <td>-0.582708</td>\n",
       "      <td>-0.688394</td>\n",
       "    </tr>\n",
       "  </tbody>\n",
       "</table>\n",
       "</div>"
      ],
      "text/plain": [
       "          col_0     col_1\n",
       "obs_0 -0.368908  0.837867\n",
       "obs_1 -0.837323 -0.252969\n",
       "obs_2 -0.582708 -0.688394"
      ]
     },
     "execution_count": 20,
     "metadata": {},
     "output_type": "execute_result"
    }
   ],
   "source": [
    "frame1.head(3)"
   ]
  },
  {
   "cell_type": "markdown",
   "metadata": {
    "slideshow": {
     "slide_type": "subslide"
    }
   },
   "source": [
    "Pour afficher un résumé du DF :"
   ]
  },
  {
   "cell_type": "code",
   "execution_count": 21,
   "metadata": {
    "slideshow": {
     "slide_type": "fragment"
    }
   },
   "outputs": [
    {
     "name": "stdout",
     "output_type": "stream",
     "text": [
      "<class 'pandas.core.frame.DataFrame'>\n",
      "Index: 5 entries, obs_0 to obs_4\n",
      "Data columns (total 2 columns):\n",
      " #   Column  Non-Null Count  Dtype  \n",
      "---  ------  --------------  -----  \n",
      " 0   col_0   5 non-null      float64\n",
      " 1   col_1   5 non-null      float64\n",
      "dtypes: float64(2)\n",
      "memory usage: 120.0+ bytes\n"
     ]
    }
   ],
   "source": [
    "frame1.info()"
   ]
  },
  {
   "cell_type": "markdown",
   "metadata": {
    "slideshow": {
     "slide_type": "slide"
    }
   },
   "source": [
    "# Importer des données externes\n",
    "\n",
    "Pandas est l'outil le plus efficace pour importer des données externes, il prend en charge de nombreux formats dont csv, Excel, SQL, SAS...\n",
    "\n",
    "\n",
    "## Importation de données avec Pandas\n",
    "\n",
    "Quel que soit le type de fichier, Pandas possède une fonction :\n",
    "```python\n",
    "frame=pd.read_...('chemin_du_fichier/nom_du_fichier',...)\n",
    "```\n",
    "Pour écrire un DataFrame dans un fichier, on utilise :\n",
    "```python\n",
    "frame.to_...('chemin_du_fichier/nom_du_fichier',...)\n",
    "```"
   ]
  },
  {
   "cell_type": "markdown",
   "metadata": {
    "slideshow": {
     "slide_type": "subslide"
    }
   },
   "source": [
    "**Exercice :**\n",
    "    \n",
    "Importer un fichier `.csv` avec `pd.read_csv()`. On utilisera le fichier \"./data/airbnb.csv\""
   ]
  },
  {
   "cell_type": "code",
   "execution_count": 22,
   "metadata": {},
   "outputs": [
    {
     "name": "stderr",
     "output_type": "stream",
     "text": [
      "C:\\Users\\s4d-asus-14\\Anaconda3\\lib\\site-packages\\IPython\\core\\interactiveshell.py:3063: DtypeWarning: Columns (43,61,62) have mixed types.Specify dtype option on import or set low_memory=False.\n",
      "  interactivity=interactivity, compiler=compiler, result=result)\n"
     ]
    },
    {
     "data": {
      "text/html": [
       "<div>\n",
       "<style scoped>\n",
       "    .dataframe tbody tr th:only-of-type {\n",
       "        vertical-align: middle;\n",
       "    }\n",
       "\n",
       "    .dataframe tbody tr th {\n",
       "        vertical-align: top;\n",
       "    }\n",
       "\n",
       "    .dataframe thead th {\n",
       "        text-align: right;\n",
       "    }\n",
       "</style>\n",
       "<table border=\"1\" class=\"dataframe\">\n",
       "  <thead>\n",
       "    <tr style=\"text-align: right;\">\n",
       "      <th></th>\n",
       "      <th>listing_url</th>\n",
       "      <th>scrape_id</th>\n",
       "      <th>last_scraped</th>\n",
       "      <th>name</th>\n",
       "      <th>summary</th>\n",
       "      <th>space</th>\n",
       "      <th>description</th>\n",
       "      <th>experiences_offered</th>\n",
       "      <th>neighborhood_overview</th>\n",
       "      <th>notes</th>\n",
       "      <th>...</th>\n",
       "      <th>instant_bookable</th>\n",
       "      <th>is_business_travel_ready</th>\n",
       "      <th>cancellation_policy</th>\n",
       "      <th>require_guest_profile_picture</th>\n",
       "      <th>require_guest_phone_verification</th>\n",
       "      <th>calculated_host_listings_count</th>\n",
       "      <th>calculated_host_listings_count_entire_homes</th>\n",
       "      <th>calculated_host_listings_count_private_rooms</th>\n",
       "      <th>calculated_host_listings_count_shared_rooms</th>\n",
       "      <th>reviews_per_month</th>\n",
       "    </tr>\n",
       "    <tr>\n",
       "      <th>id</th>\n",
       "      <th></th>\n",
       "      <th></th>\n",
       "      <th></th>\n",
       "      <th></th>\n",
       "      <th></th>\n",
       "      <th></th>\n",
       "      <th></th>\n",
       "      <th></th>\n",
       "      <th></th>\n",
       "      <th></th>\n",
       "      <th></th>\n",
       "      <th></th>\n",
       "      <th></th>\n",
       "      <th></th>\n",
       "      <th></th>\n",
       "      <th></th>\n",
       "      <th></th>\n",
       "      <th></th>\n",
       "      <th></th>\n",
       "      <th></th>\n",
       "      <th></th>\n",
       "    </tr>\n",
       "  </thead>\n",
       "  <tbody>\n",
       "    <tr>\n",
       "      <th>3109</th>\n",
       "      <td>https://www.airbnb.com/rooms/3109</td>\n",
       "      <td>20190507030954</td>\n",
       "      <td>2019-05-07</td>\n",
       "      <td>zen and calm</td>\n",
       "      <td>Appartement très calme de 50M2 Utilisation de ...</td>\n",
       "      <td>I bedroom appartment in Paris 14</td>\n",
       "      <td>I bedroom appartment in Paris 14 Good restaura...</td>\n",
       "      <td>none</td>\n",
       "      <td>Good restaurants very close the Montparnasse S...</td>\n",
       "      <td>NaN</td>\n",
       "      <td>...</td>\n",
       "      <td>f</td>\n",
       "      <td>f</td>\n",
       "      <td>flexible</td>\n",
       "      <td>f</td>\n",
       "      <td>f</td>\n",
       "      <td>1</td>\n",
       "      <td>1</td>\n",
       "      <td>0</td>\n",
       "      <td>0</td>\n",
       "      <td>0.28</td>\n",
       "    </tr>\n",
       "    <tr>\n",
       "      <th>5396</th>\n",
       "      <td>https://www.airbnb.com/rooms/5396</td>\n",
       "      <td>20190507030954</td>\n",
       "      <td>2019-05-08</td>\n",
       "      <td>Explore the heart of old Paris</td>\n",
       "      <td>Cozy, well-appointed and graciously designed s...</td>\n",
       "      <td>Small, well appointed studio apartment at the ...</td>\n",
       "      <td>Cozy, well-appointed and graciously designed s...</td>\n",
       "      <td>none</td>\n",
       "      <td>You are within walking distance to the Louvre,...</td>\n",
       "      <td>The staircase leading up to the apartment is n...</td>\n",
       "      <td>...</td>\n",
       "      <td>t</td>\n",
       "      <td>f</td>\n",
       "      <td>strict_14_with_grace_period</td>\n",
       "      <td>f</td>\n",
       "      <td>f</td>\n",
       "      <td>1</td>\n",
       "      <td>1</td>\n",
       "      <td>0</td>\n",
       "      <td>0</td>\n",
       "      <td>1.44</td>\n",
       "    </tr>\n",
       "    <tr>\n",
       "      <th>7397</th>\n",
       "      <td>https://www.airbnb.com/rooms/7397</td>\n",
       "      <td>20190507030954</td>\n",
       "      <td>2019-05-07</td>\n",
       "      <td>MARAIS - 2ROOMS APT - 2/4 PEOPLE</td>\n",
       "      <td>VERY CONVENIENT, WITH THE BEST LOCATION !</td>\n",
       "      <td>PLEASE ASK ME BEFORE TO MAKE A REQUEST !!! No ...</td>\n",
       "      <td>VERY CONVENIENT, WITH THE BEST LOCATION ! PLEA...</td>\n",
       "      <td>none</td>\n",
       "      <td>NaN</td>\n",
       "      <td>Important: Be conscious that an apartment in a...</td>\n",
       "      <td>...</td>\n",
       "      <td>f</td>\n",
       "      <td>f</td>\n",
       "      <td>moderate</td>\n",
       "      <td>f</td>\n",
       "      <td>f</td>\n",
       "      <td>1</td>\n",
       "      <td>1</td>\n",
       "      <td>0</td>\n",
       "      <td>0</td>\n",
       "      <td>2.47</td>\n",
       "    </tr>\n",
       "    <tr>\n",
       "      <th>8522</th>\n",
       "      <td>https://www.airbnb.com/rooms/8522</td>\n",
       "      <td>20190507030954</td>\n",
       "      <td>2019-05-08</td>\n",
       "      <td>GREAT FLAT w/ CITY VIEW</td>\n",
       "      <td>NaN</td>\n",
       "      <td>Really nice flat located in the 20th district ...</td>\n",
       "      <td>Really nice flat located in the 20th district ...</td>\n",
       "      <td>none</td>\n",
       "      <td>NaN</td>\n",
       "      <td>NaN</td>\n",
       "      <td>...</td>\n",
       "      <td>f</td>\n",
       "      <td>f</td>\n",
       "      <td>moderate</td>\n",
       "      <td>f</td>\n",
       "      <td>f</td>\n",
       "      <td>1</td>\n",
       "      <td>1</td>\n",
       "      <td>0</td>\n",
       "      <td>0</td>\n",
       "      <td>0.01</td>\n",
       "    </tr>\n",
       "    <tr>\n",
       "      <th>9359</th>\n",
       "      <td>https://www.airbnb.com/rooms/9359</td>\n",
       "      <td>20190507030954</td>\n",
       "      <td>2019-05-07</td>\n",
       "      <td>Cozy, Central Paris: WALK or VELIB EVERYWHERE !</td>\n",
       "      <td>Location! Location! Location! Just bring your ...</td>\n",
       "      <td>Since I live in the USA, it is difficult to ma...</td>\n",
       "      <td>Location! Location! Location! Just bring your ...</td>\n",
       "      <td>none</td>\n",
       "      <td>NaN</td>\n",
       "      <td>Velib station outside.</td>\n",
       "      <td>...</td>\n",
       "      <td>f</td>\n",
       "      <td>f</td>\n",
       "      <td>strict_14_with_grace_period</td>\n",
       "      <td>t</td>\n",
       "      <td>t</td>\n",
       "      <td>1</td>\n",
       "      <td>1</td>\n",
       "      <td>0</td>\n",
       "      <td>0</td>\n",
       "      <td>NaN</td>\n",
       "    </tr>\n",
       "  </tbody>\n",
       "</table>\n",
       "<p>5 rows × 105 columns</p>\n",
       "</div>"
      ],
      "text/plain": [
       "                            listing_url       scrape_id last_scraped  \\\n",
       "id                                                                     \n",
       "3109  https://www.airbnb.com/rooms/3109  20190507030954   2019-05-07   \n",
       "5396  https://www.airbnb.com/rooms/5396  20190507030954   2019-05-08   \n",
       "7397  https://www.airbnb.com/rooms/7397  20190507030954   2019-05-07   \n",
       "8522  https://www.airbnb.com/rooms/8522  20190507030954   2019-05-08   \n",
       "9359  https://www.airbnb.com/rooms/9359  20190507030954   2019-05-07   \n",
       "\n",
       "                                                 name  \\\n",
       "id                                                      \n",
       "3109                                     zen and calm   \n",
       "5396                   Explore the heart of old Paris   \n",
       "7397                 MARAIS - 2ROOMS APT - 2/4 PEOPLE   \n",
       "8522                          GREAT FLAT w/ CITY VIEW   \n",
       "9359  Cozy, Central Paris: WALK or VELIB EVERYWHERE !   \n",
       "\n",
       "                                                summary  \\\n",
       "id                                                        \n",
       "3109  Appartement très calme de 50M2 Utilisation de ...   \n",
       "5396  Cozy, well-appointed and graciously designed s...   \n",
       "7397          VERY CONVENIENT, WITH THE BEST LOCATION !   \n",
       "8522                                                NaN   \n",
       "9359  Location! Location! Location! Just bring your ...   \n",
       "\n",
       "                                                  space  \\\n",
       "id                                                        \n",
       "3109                   I bedroom appartment in Paris 14   \n",
       "5396  Small, well appointed studio apartment at the ...   \n",
       "7397  PLEASE ASK ME BEFORE TO MAKE A REQUEST !!! No ...   \n",
       "8522  Really nice flat located in the 20th district ...   \n",
       "9359  Since I live in the USA, it is difficult to ma...   \n",
       "\n",
       "                                            description experiences_offered  \\\n",
       "id                                                                            \n",
       "3109  I bedroom appartment in Paris 14 Good restaura...                none   \n",
       "5396  Cozy, well-appointed and graciously designed s...                none   \n",
       "7397  VERY CONVENIENT, WITH THE BEST LOCATION ! PLEA...                none   \n",
       "8522  Really nice flat located in the 20th district ...                none   \n",
       "9359  Location! Location! Location! Just bring your ...                none   \n",
       "\n",
       "                                  neighborhood_overview  \\\n",
       "id                                                        \n",
       "3109  Good restaurants very close the Montparnasse S...   \n",
       "5396  You are within walking distance to the Louvre,...   \n",
       "7397                                                NaN   \n",
       "8522                                                NaN   \n",
       "9359                                                NaN   \n",
       "\n",
       "                                                  notes  ... instant_bookable  \\\n",
       "id                                                       ...                    \n",
       "3109                                                NaN  ...                f   \n",
       "5396  The staircase leading up to the apartment is n...  ...                t   \n",
       "7397  Important: Be conscious that an apartment in a...  ...                f   \n",
       "8522                                                NaN  ...                f   \n",
       "9359                             Velib station outside.  ...                f   \n",
       "\n",
       "     is_business_travel_ready          cancellation_policy  \\\n",
       "id                                                           \n",
       "3109                        f                     flexible   \n",
       "5396                        f  strict_14_with_grace_period   \n",
       "7397                        f                     moderate   \n",
       "8522                        f                     moderate   \n",
       "9359                        f  strict_14_with_grace_period   \n",
       "\n",
       "     require_guest_profile_picture  require_guest_phone_verification  \\\n",
       "id                                                                     \n",
       "3109                             f                                 f   \n",
       "5396                             f                                 f   \n",
       "7397                             f                                 f   \n",
       "8522                             f                                 f   \n",
       "9359                             t                                 t   \n",
       "\n",
       "      calculated_host_listings_count  \\\n",
       "id                                     \n",
       "3109                               1   \n",
       "5396                               1   \n",
       "7397                               1   \n",
       "8522                               1   \n",
       "9359                               1   \n",
       "\n",
       "     calculated_host_listings_count_entire_homes  \\\n",
       "id                                                 \n",
       "3109                                           1   \n",
       "5396                                           1   \n",
       "7397                                           1   \n",
       "8522                                           1   \n",
       "9359                                           1   \n",
       "\n",
       "      calculated_host_listings_count_private_rooms  \\\n",
       "id                                                   \n",
       "3109                                             0   \n",
       "5396                                             0   \n",
       "7397                                             0   \n",
       "8522                                             0   \n",
       "9359                                             0   \n",
       "\n",
       "      calculated_host_listings_count_shared_rooms reviews_per_month  \n",
       "id                                                                   \n",
       "3109                                            0              0.28  \n",
       "5396                                            0              1.44  \n",
       "7397                                            0              2.47  \n",
       "8522                                            0              0.01  \n",
       "9359                                            0               NaN  \n",
       "\n",
       "[5 rows x 105 columns]"
      ]
     },
     "execution_count": 22,
     "metadata": {},
     "output_type": "execute_result"
    }
   ],
   "source": [
    "airbnb = pd.read_csv(\"https://www.stat4decision.com/airbnb.csv\",index_col='id',dtype={\"scrape_id\":object})\n",
    "airbnb.head()"
   ]
  },
  {
   "cell_type": "code",
   "execution_count": 23,
   "metadata": {},
   "outputs": [
    {
     "name": "stdout",
     "output_type": "stream",
     "text": [
      "<class 'pandas.core.frame.DataFrame'>\n",
      "Int64Index: 59126 entries, 3109 to 34477345\n",
      "Data columns (total 105 columns):\n",
      " #   Column                                        Dtype  \n",
      "---  ------                                        -----  \n",
      " 0   listing_url                                   object \n",
      " 1   scrape_id                                     object \n",
      " 2   last_scraped                                  object \n",
      " 3   name                                          object \n",
      " 4   summary                                       object \n",
      " 5   space                                         object \n",
      " 6   description                                   object \n",
      " 7   experiences_offered                           object \n",
      " 8   neighborhood_overview                         object \n",
      " 9   notes                                         object \n",
      " 10  transit                                       object \n",
      " 11  access                                        object \n",
      " 12  interaction                                   object \n",
      " 13  house_rules                                   object \n",
      " 14  thumbnail_url                                 float64\n",
      " 15  medium_url                                    float64\n",
      " 16  picture_url                                   object \n",
      " 17  xl_picture_url                                float64\n",
      " 18  host_id                                       int64  \n",
      " 19  host_url                                      object \n",
      " 20  host_name                                     object \n",
      " 21  host_since                                    object \n",
      " 22  host_location                                 object \n",
      " 23  host_about                                    object \n",
      " 24  host_response_time                            object \n",
      " 25  host_response_rate                            object \n",
      " 26  host_acceptance_rate                          float64\n",
      " 27  host_is_superhost                             object \n",
      " 28  host_thumbnail_url                            object \n",
      " 29  host_picture_url                              object \n",
      " 30  host_neighbourhood                            object \n",
      " 31  host_listings_count                           float64\n",
      " 32  host_total_listings_count                     float64\n",
      " 33  host_verifications                            object \n",
      " 34  host_has_profile_pic                          object \n",
      " 35  host_identity_verified                        object \n",
      " 36  street                                        object \n",
      " 37  neighbourhood                                 object \n",
      " 38  neighbourhood_cleansed                        object \n",
      " 39  neighbourhood_group_cleansed                  float64\n",
      " 40  city                                          object \n",
      " 41  state                                         object \n",
      " 42  zipcode                                       object \n",
      " 43  market                                        object \n",
      " 44  smart_location                                object \n",
      " 45  country_code                                  object \n",
      " 46  country                                       object \n",
      " 47  latitude                                      float64\n",
      " 48  longitude                                     float64\n",
      " 49  is_location_exact                             object \n",
      " 50  property_type                                 object \n",
      " 51  room_type                                     object \n",
      " 52  accommodates                                  int64  \n",
      " 53  bathrooms                                     float64\n",
      " 54  bedrooms                                      float64\n",
      " 55  beds                                          float64\n",
      " 56  bed_type                                      object \n",
      " 57  amenities                                     object \n",
      " 58  square_feet                                   float64\n",
      " 59  price                                         object \n",
      " 60  weekly_price                                  object \n",
      " 61  monthly_price                                 object \n",
      " 62  security_deposit                              object \n",
      " 63  cleaning_fee                                  object \n",
      " 64  guests_included                               int64  \n",
      " 65  extra_people                                  object \n",
      " 66  minimum_nights                                int64  \n",
      " 67  maximum_nights                                int64  \n",
      " 68  minimum_minimum_nights                        int64  \n",
      " 69  maximum_minimum_nights                        int64  \n",
      " 70  minimum_maximum_nights                        int64  \n",
      " 71  maximum_maximum_nights                        int64  \n",
      " 72  minimum_nights_avg_ntm                        float64\n",
      " 73  maximum_nights_avg_ntm                        float64\n",
      " 74  calendar_updated                              object \n",
      " 75  has_availability                              object \n",
      " 76  availability_30                               int64  \n",
      " 77  availability_60                               int64  \n",
      " 78  availability_90                               int64  \n",
      " 79  availability_365                              int64  \n",
      " 80  calendar_last_scraped                         object \n",
      " 81  number_of_reviews                             int64  \n",
      " 82  number_of_reviews_ltm                         int64  \n",
      " 83  first_review                                  object \n",
      " 84  last_review                                   object \n",
      " 85  review_scores_rating                          float64\n",
      " 86  review_scores_accuracy                        float64\n",
      " 87  review_scores_cleanliness                     float64\n",
      " 88  review_scores_checkin                         float64\n",
      " 89  review_scores_communication                   float64\n",
      " 90  review_scores_location                        float64\n",
      " 91  review_scores_value                           float64\n",
      " 92  requires_license                              object \n",
      " 93  license                                       object \n",
      " 94  jurisdiction_names                            object \n",
      " 95  instant_bookable                              object \n",
      " 96  is_business_travel_ready                      object \n",
      " 97  cancellation_policy                           object \n",
      " 98  require_guest_profile_picture                 object \n",
      " 99  require_guest_phone_verification              object \n",
      " 100 calculated_host_listings_count                int64  \n",
      " 101 calculated_host_listings_count_entire_homes   int64  \n",
      " 102 calculated_host_listings_count_private_rooms  int64  \n",
      " 103 calculated_host_listings_count_shared_rooms   int64  \n",
      " 104 reviews_per_month                             float64\n",
      "dtypes: float64(23), int64(19), object(63)\n",
      "memory usage: 47.8+ MB\n"
     ]
    }
   ],
   "source": [
    "airbnb.info(verbose=1)"
   ]
  },
  {
   "cell_type": "code",
   "execution_count": 24,
   "metadata": {},
   "outputs": [
    {
     "data": {
      "text/plain": [
       "Index(['listing_url', 'scrape_id', 'last_scraped', 'name', 'summary', 'space',\n",
       "       'description', 'experiences_offered', 'neighborhood_overview', 'notes',\n",
       "       ...\n",
       "       'instant_bookable', 'is_business_travel_ready', 'cancellation_policy',\n",
       "       'require_guest_profile_picture', 'require_guest_phone_verification',\n",
       "       'calculated_host_listings_count',\n",
       "       'calculated_host_listings_count_entire_homes',\n",
       "       'calculated_host_listings_count_private_rooms',\n",
       "       'calculated_host_listings_count_shared_rooms', 'reviews_per_month'],\n",
       "      dtype='object', length=105)"
      ]
     },
     "execution_count": 24,
     "metadata": {},
     "output_type": "execute_result"
    }
   ],
   "source": [
    "airbnb.columns"
   ]
  },
  {
   "cell_type": "code",
   "execution_count": 25,
   "metadata": {},
   "outputs": [
    {
     "data": {
      "text/plain": [
       "id\n",
       "3109                                             zen and calm\n",
       "5396                           Explore the heart of old Paris\n",
       "7397                         MARAIS - 2ROOMS APT - 2/4 PEOPLE\n",
       "8522                                  GREAT FLAT w/ CITY VIEW\n",
       "9359          Cozy, Central Paris: WALK or VELIB EVERYWHERE !\n",
       "                                  ...                        \n",
       "34474966        Newly renovated Studio in the center of Paris\n",
       "34475492                             New family flat in Paris\n",
       "34476275    Charmante Petite Maison près du Canal Saint Ma...\n",
       "34476597                         Quiet Pop Art Room / Central\n",
       "34477345               Appartement au bord du Canal St Martin\n",
       "Name: name, Length: 59126, dtype: object"
      ]
     },
     "execution_count": 25,
     "metadata": {},
     "output_type": "execute_result"
    }
   ],
   "source": [
    "# pour extraire une colonne, on utilise :\n",
    "airbnb[\"name\"]\n",
    "#airbnb.name"
   ]
  },
  {
   "cell_type": "code",
   "execution_count": 26,
   "metadata": {},
   "outputs": [
    {
     "name": "stdout",
     "output_type": "stream",
     "text": [
      "thumbnail_url : nan\n",
      "medium_url : nan\n",
      "xl_picture_url : nan\n",
      "host_acceptance_rate : nan\n",
      "host_listings_count : 0.0\n",
      "host_total_listings_count : 0.0\n",
      "neighbourhood_group_cleansed : nan\n",
      "latitude : 48.81237\n",
      "longitude : 2.2248099999999997\n",
      "bathrooms : 0.0\n",
      "bedrooms : 0.0\n",
      "beds : 0.0\n",
      "square_feet : 0.0\n",
      "minimum_nights_avg_ntm : 1.0\n",
      "maximum_nights_avg_ntm : 1.0\n",
      "review_scores_rating : 20.0\n",
      "review_scores_accuracy : 2.0\n",
      "review_scores_cleanliness : 2.0\n",
      "review_scores_checkin : 2.0\n",
      "review_scores_communication : 2.0\n",
      "review_scores_location : 2.0\n",
      "review_scores_value : 2.0\n",
      "reviews_per_month : 0.0\n"
     ]
    }
   ],
   "source": [
    "for col in airbnb.columns:\n",
    "    if airbnb[col].dtype == np.number:\n",
    "        print(col, airbnb[col].min(), sep=\" : \")"
   ]
  },
  {
   "cell_type": "markdown",
   "metadata": {
    "slideshow": {
     "slide_type": "subslide"
    }
   },
   "source": [
    "# D'autres types de données\n",
    "\n",
    "## JSON\n",
    "Les objets JSON ressemblent à des dictionnaires.\n",
    "\n",
    "On utilise le module `json` puis la fonction `json.loads()` pour transformer une entrée JSON en objet json\n",
    "\n",
    "## HTML\n",
    "On utilise `pd.read_html(url)`. Cet fonction est basée sur les packages `beautifulsoup` et `html5lib`\n",
    "\n",
    "Cette fonction renvoie une liste de DataFrame qui représentent tous les DataFrame de la page. On ira ensuite chercher l'élément qui nous intéresse avec `frame_list[0]`"
   ]
  },
  {
   "cell_type": "markdown",
   "metadata": {
    "slideshow": {
     "slide_type": "subslide"
    }
   },
   "source": [
    "**Exercice :**\n",
    "    \n",
    "Importez un tableau en html depuis la page <http://www.fdic.gov/bank/individual/failed/banklist.html>"
   ]
  },
  {
   "cell_type": "code",
   "execution_count": 27,
   "metadata": {},
   "outputs": [],
   "source": [
    "frame_list = pd.read_html(\"http://www.fdic.gov/bank/individual/failed/banklist.html\")"
   ]
  },
  {
   "cell_type": "code",
   "execution_count": 28,
   "metadata": {},
   "outputs": [
    {
     "data": {
      "text/plain": [
       "list"
      ]
     },
     "execution_count": 28,
     "metadata": {},
     "output_type": "execute_result"
    }
   ],
   "source": [
    "type(frame_list)"
   ]
  },
  {
   "cell_type": "code",
   "execution_count": 29,
   "metadata": {},
   "outputs": [
    {
     "data": {
      "text/plain": [
       "1"
      ]
     },
     "execution_count": 29,
     "metadata": {},
     "output_type": "execute_result"
    }
   ],
   "source": [
    "len(frame_list)"
   ]
  },
  {
   "cell_type": "code",
   "execution_count": 30,
   "metadata": {},
   "outputs": [
    {
     "data": {
      "text/html": [
       "<div>\n",
       "<style scoped>\n",
       "    .dataframe tbody tr th:only-of-type {\n",
       "        vertical-align: middle;\n",
       "    }\n",
       "\n",
       "    .dataframe tbody tr th {\n",
       "        vertical-align: top;\n",
       "    }\n",
       "\n",
       "    .dataframe thead th {\n",
       "        text-align: right;\n",
       "    }\n",
       "</style>\n",
       "<table border=\"1\" class=\"dataframe\">\n",
       "  <thead>\n",
       "    <tr style=\"text-align: right;\">\n",
       "      <th></th>\n",
       "      <th>Bank Name</th>\n",
       "      <th>City</th>\n",
       "      <th>ST</th>\n",
       "      <th>CERT</th>\n",
       "      <th>Acquiring Institution</th>\n",
       "      <th>Closing Date</th>\n",
       "    </tr>\n",
       "  </thead>\n",
       "  <tbody>\n",
       "    <tr>\n",
       "      <th>0</th>\n",
       "      <td>Ericson State Bank</td>\n",
       "      <td>Ericson</td>\n",
       "      <td>NE</td>\n",
       "      <td>18265</td>\n",
       "      <td>Farmers and Merchants Bank</td>\n",
       "      <td>February 14, 2020</td>\n",
       "    </tr>\n",
       "    <tr>\n",
       "      <th>1</th>\n",
       "      <td>City National Bank of New Jersey</td>\n",
       "      <td>Newark</td>\n",
       "      <td>NJ</td>\n",
       "      <td>21111</td>\n",
       "      <td>Industrial Bank</td>\n",
       "      <td>November 1, 2019</td>\n",
       "    </tr>\n",
       "    <tr>\n",
       "      <th>2</th>\n",
       "      <td>Resolute Bank</td>\n",
       "      <td>Maumee</td>\n",
       "      <td>OH</td>\n",
       "      <td>58317</td>\n",
       "      <td>Buckeye State Bank</td>\n",
       "      <td>October 25, 2019</td>\n",
       "    </tr>\n",
       "    <tr>\n",
       "      <th>3</th>\n",
       "      <td>Louisa Community Bank</td>\n",
       "      <td>Louisa</td>\n",
       "      <td>KY</td>\n",
       "      <td>58112</td>\n",
       "      <td>Kentucky Farmers Bank Corporation</td>\n",
       "      <td>October 25, 2019</td>\n",
       "    </tr>\n",
       "    <tr>\n",
       "      <th>4</th>\n",
       "      <td>The Enloe State Bank</td>\n",
       "      <td>Cooper</td>\n",
       "      <td>TX</td>\n",
       "      <td>10716</td>\n",
       "      <td>Legend Bank, N. A.</td>\n",
       "      <td>May 31, 2019</td>\n",
       "    </tr>\n",
       "  </tbody>\n",
       "</table>\n",
       "</div>"
      ],
      "text/plain": [
       "                          Bank Name     City  ST   CERT  \\\n",
       "0                Ericson State Bank  Ericson  NE  18265   \n",
       "1  City National Bank of New Jersey   Newark  NJ  21111   \n",
       "2                     Resolute Bank   Maumee  OH  58317   \n",
       "3             Louisa Community Bank   Louisa  KY  58112   \n",
       "4              The Enloe State Bank   Cooper  TX  10716   \n",
       "\n",
       "               Acquiring Institution       Closing Date  \n",
       "0         Farmers and Merchants Bank  February 14, 2020  \n",
       "1                    Industrial Bank   November 1, 2019  \n",
       "2                 Buckeye State Bank   October 25, 2019  \n",
       "3  Kentucky Farmers Bank Corporation   October 25, 2019  \n",
       "4                 Legend Bank, N. A.       May 31, 2019  "
      ]
     },
     "execution_count": 30,
     "metadata": {},
     "output_type": "execute_result"
    }
   ],
   "source": [
    "frame_list[0].head()"
   ]
  },
  {
   "cell_type": "markdown",
   "metadata": {
    "slideshow": {
     "slide_type": "subslide"
    }
   },
   "source": [
    "# Importer depuis Excel\n",
    "\n",
    "On a deux approches pour Excel :\n",
    "- On peut utiliser `pd.read_excel()`\n",
    "- On peut utiliser la classe `pd.ExcelFile()`\n",
    "\n",
    "Dans ce cas, on utilise :\n",
    "```python\n",
    "xlsfile=pd.ExcelFile('fichier.xlsx')\n",
    "xlsfile.parse('Sheet1')\n",
    "```"
   ]
  },
  {
   "cell_type": "markdown",
   "metadata": {
    "slideshow": {
     "slide_type": "subslide"
    }
   },
   "source": [
    "**Exercice :** \n",
    "    \n",
    "Importez un fichier Excel avec les deux approches, on utilisera : `credit2.xlsx` et `ville.xls`"
   ]
  },
  {
   "cell_type": "code",
   "execution_count": 31,
   "metadata": {},
   "outputs": [],
   "source": [
    "credit2 = pd.read_excel(\"./data/credit2.xlsx\")#,usecols=\"A:D\")"
   ]
  },
  {
   "cell_type": "code",
   "execution_count": 32,
   "metadata": {},
   "outputs": [
    {
     "data": {
      "text/html": [
       "<div>\n",
       "<style scoped>\n",
       "    .dataframe tbody tr th:only-of-type {\n",
       "        vertical-align: middle;\n",
       "    }\n",
       "\n",
       "    .dataframe tbody tr th {\n",
       "        vertical-align: top;\n",
       "    }\n",
       "\n",
       "    .dataframe thead th {\n",
       "        text-align: right;\n",
       "    }\n",
       "</style>\n",
       "<table border=\"1\" class=\"dataframe\">\n",
       "  <thead>\n",
       "    <tr style=\"text-align: right;\">\n",
       "      <th></th>\n",
       "      <th>Age</th>\n",
       "      <th>Gender</th>\n",
       "      <th>Marital_Status</th>\n",
       "      <th>Age_Youngest_Child</th>\n",
       "      <th>Number_of_Workers_in_Household</th>\n",
       "      <th>Percentage_White_Collar_Workers</th>\n",
       "      <th>Household_Debt_to_Equity_Ratio</th>\n",
       "      <th>Income</th>\n",
       "      <th>Homeowner</th>\n",
       "      <th>Customer_ID</th>\n",
       "    </tr>\n",
       "  </thead>\n",
       "  <tbody>\n",
       "    <tr>\n",
       "      <th>0</th>\n",
       "      <td>40</td>\n",
       "      <td>F</td>\n",
       "      <td>S</td>\n",
       "      <td>11</td>\n",
       "      <td>6</td>\n",
       "      <td>37</td>\n",
       "      <td>56</td>\n",
       "      <td>37073</td>\n",
       "      <td>F</td>\n",
       "      <td>5409</td>\n",
       "    </tr>\n",
       "    <tr>\n",
       "      <th>1</th>\n",
       "      <td>47</td>\n",
       "      <td>M</td>\n",
       "      <td>M</td>\n",
       "      <td>13</td>\n",
       "      <td>13</td>\n",
       "      <td>30</td>\n",
       "      <td>56</td>\n",
       "      <td>50721</td>\n",
       "      <td>F</td>\n",
       "      <td>5477</td>\n",
       "    </tr>\n",
       "    <tr>\n",
       "      <th>2</th>\n",
       "      <td>35</td>\n",
       "      <td>F</td>\n",
       "      <td>U</td>\n",
       "      <td>1</td>\n",
       "      <td>9</td>\n",
       "      <td>33</td>\n",
       "      <td>57</td>\n",
       "      <td>43578</td>\n",
       "      <td>T</td>\n",
       "      <td>5507</td>\n",
       "    </tr>\n",
       "    <tr>\n",
       "      <th>3</th>\n",
       "      <td>45</td>\n",
       "      <td>M</td>\n",
       "      <td>U</td>\n",
       "      <td>15</td>\n",
       "      <td>7</td>\n",
       "      <td>30</td>\n",
       "      <td>62</td>\n",
       "      <td>69553</td>\n",
       "      <td>F</td>\n",
       "      <td>8</td>\n",
       "    </tr>\n",
       "    <tr>\n",
       "      <th>4</th>\n",
       "      <td>13</td>\n",
       "      <td>F</td>\n",
       "      <td>S</td>\n",
       "      <td>0</td>\n",
       "      <td>7</td>\n",
       "      <td>27</td>\n",
       "      <td>64</td>\n",
       "      <td>37502</td>\n",
       "      <td>T</td>\n",
       "      <td>158</td>\n",
       "    </tr>\n",
       "  </tbody>\n",
       "</table>\n",
       "</div>"
      ],
      "text/plain": [
       "   Age Gender Marital_Status  Age_Youngest_Child  \\\n",
       "0   40      F              S                  11   \n",
       "1   47      M              M                  13   \n",
       "2   35      F              U                   1   \n",
       "3   45      M              U                  15   \n",
       "4   13      F              S                   0   \n",
       "\n",
       "   Number_of_Workers_in_Household  Percentage_White_Collar_Workers  \\\n",
       "0                               6                               37   \n",
       "1                              13                               30   \n",
       "2                               9                               33   \n",
       "3                               7                               30   \n",
       "4                               7                               27   \n",
       "\n",
       "   Household_Debt_to_Equity_Ratio  Income Homeowner  Customer_ID  \n",
       "0                              56   37073         F         5409  \n",
       "1                              56   50721         F         5477  \n",
       "2                              57   43578         T         5507  \n",
       "3                              62   69553         F            8  \n",
       "4                              64   37502         T          158  "
      ]
     },
     "execution_count": 32,
     "metadata": {},
     "output_type": "execute_result"
    }
   ],
   "source": [
    "credit2.head()"
   ]
  },
  {
   "cell_type": "code",
   "execution_count": 33,
   "metadata": {},
   "outputs": [],
   "source": [
    "ville = pd.ExcelFile(\"./data/ville.xls\")"
   ]
  },
  {
   "cell_type": "code",
   "execution_count": 34,
   "metadata": {},
   "outputs": [
    {
     "data": {
      "text/plain": [
       "pandas.io.excel._base.ExcelFile"
      ]
     },
     "execution_count": 34,
     "metadata": {},
     "output_type": "execute_result"
    }
   ],
   "source": [
    "type(ville)"
   ]
  },
  {
   "cell_type": "code",
   "execution_count": 35,
   "metadata": {},
   "outputs": [
    {
     "data": {
      "text/plain": [
       "['ville', 'ville-ain']"
      ]
     },
     "execution_count": 35,
     "metadata": {},
     "output_type": "execute_result"
    }
   ],
   "source": [
    "ville.sheet_names"
   ]
  },
  {
   "cell_type": "markdown",
   "metadata": {},
   "source": [
    "On cherche à extraire les feuilles avec le mot \"ain\" dans le nom de la feuille"
   ]
  },
  {
   "cell_type": "code",
   "execution_count": 36,
   "metadata": {},
   "outputs": [],
   "source": [
    "def extraire_feuilles_nom(io, terme):\n",
    "    \"\"\" Fonction permettant d'extraire les feuilles comprenant un terme dans leur nom de feuille\n",
    "    sous forme de liste de DataFrames\"\"\"\n",
    "    \n",
    "    liste_feuilles = []\n",
    "    classeur = pd.ExcelFile(io)\n",
    "\n",
    "    for nom_feuille in classeur.sheet_names:\n",
    "        if terme in nom_feuille:\n",
    "            liste_feuilles.append(classeur.parse(nom_feuille))\n",
    "    \n",
    "    return liste_feuilles"
   ]
  },
  {
   "cell_type": "code",
   "execution_count": 37,
   "metadata": {},
   "outputs": [],
   "source": [
    "liste_ain = extraire_feuilles_nom(\"./data/ville.xls\", terme=\"ville\")"
   ]
  },
  {
   "cell_type": "code",
   "execution_count": 38,
   "metadata": {},
   "outputs": [
    {
     "data": {
      "text/plain": [
       "<matplotlib.collections.PathCollection at 0x1a66b31c788>"
      ]
     },
     "execution_count": 38,
     "metadata": {},
     "output_type": "execute_result"
    },
    {
     "data": {
      "image/png": "[encoded data removed]",
      "text/plain": [
       "<Figure size 432x288 with 1 Axes>"
      ]
     },
     "metadata": {
      "needs_background": "light"
     },
     "output_type": "display_data"
    }
   ],
   "source": [
    "import matplotlib.pyplot as plt\n",
    "plt.scatter(\" Longitude \",\" Latitude \",data=liste_ain[0],s=1,c=\"red\")"
   ]
  },
  {
   "cell_type": "markdown",
   "metadata": {
    "slideshow": {
     "slide_type": "subslide"
    }
   },
   "source": [
    "# Importer des données SQL\n",
    "\n",
    "Pandas possède une fonction `read_sql()` qui permet d’importer directement des bases de données ou des queries dans des DataFrame\n",
    "\n",
    "Il faut tout de même un connecteur pour accéder aux bases de données\n",
    "\n",
    "Pour mettre en place ce connecteur, on utlise le package SQLAlchemy.\n",
    "\n",
    "Suivant le type de base de données, on utilisera différents codes mais la structure du code est toujours la même"
   ]
  },
  {
   "cell_type": "code",
   "execution_count": 39,
   "metadata": {
    "slideshow": {
     "slide_type": "subslide"
    }
   },
   "outputs": [],
   "source": [
    "# on importe l'outil de connexion\n",
    "from sqlalchemy import create_engine"
   ]
  },
  {
   "cell_type": "markdown",
   "metadata": {
    "slideshow": {
     "slide_type": "fragment"
    }
   },
   "source": [
    "On crée une connexion\n",
    "```python\n",
    "connexion=create_engine(\"sqlite:///(...).sqlite\")\n",
    "```"
   ]
  },
  {
   "cell_type": "markdown",
   "metadata": {
    "slideshow": {
     "slide_type": "fragment"
    }
   },
   "source": [
    "On utlise une des fonctions de Pandas pour charger les données\n",
    "```python\n",
    "requete=\"\"\"select ... from ...\"\"\"\n",
    "frame_sql=pd.read_sql_query(requete,connexion)\n",
    "```"
   ]
  },
  {
   "cell_type": "markdown",
   "metadata": {
    "slideshow": {
     "slide_type": "subslide"
    }
   },
   "source": [
    "**Exercices :**\n",
    "    \n",
    "Importez la base de données SQLite salaries et récupérez la table Salaries dans un DataFrame "
   ]
  },
  {
   "cell_type": "code",
   "execution_count": 40,
   "metadata": {},
   "outputs": [],
   "source": [
    "connexion=create_engine(\"sqlite:///./data/salaries.sqlite\")"
   ]
  },
  {
   "cell_type": "code",
   "execution_count": 41,
   "metadata": {},
   "outputs": [
    {
     "data": {
      "text/plain": [
       "['Salaries']"
      ]
     },
     "execution_count": 41,
     "metadata": {},
     "output_type": "execute_result"
    }
   ],
   "source": [
    "connexion.table_names()"
   ]
  },
  {
   "cell_type": "code",
   "execution_count": 42,
   "metadata": {},
   "outputs": [],
   "source": [
    "salaries = pd.read_sql_query(\"select * from salaries\",con=connexion)"
   ]
  },
  {
   "cell_type": "code",
   "execution_count": 43,
   "metadata": {},
   "outputs": [
    {
     "data": {
      "text/html": [
       "<div>\n",
       "<style scoped>\n",
       "    .dataframe tbody tr th:only-of-type {\n",
       "        vertical-align: middle;\n",
       "    }\n",
       "\n",
       "    .dataframe tbody tr th {\n",
       "        vertical-align: top;\n",
       "    }\n",
       "\n",
       "    .dataframe thead th {\n",
       "        text-align: right;\n",
       "    }\n",
       "</style>\n",
       "<table border=\"1\" class=\"dataframe\">\n",
       "  <thead>\n",
       "    <tr style=\"text-align: right;\">\n",
       "      <th></th>\n",
       "      <th>Id</th>\n",
       "      <th>EmployeeName</th>\n",
       "      <th>JobTitle</th>\n",
       "      <th>BasePay</th>\n",
       "      <th>OvertimePay</th>\n",
       "      <th>OtherPay</th>\n",
       "      <th>Benefits</th>\n",
       "      <th>TotalPay</th>\n",
       "      <th>TotalPayBenefits</th>\n",
       "      <th>Year</th>\n",
       "      <th>Notes</th>\n",
       "      <th>Agency</th>\n",
       "      <th>Status</th>\n",
       "    </tr>\n",
       "  </thead>\n",
       "  <tbody>\n",
       "    <tr>\n",
       "      <th>0</th>\n",
       "      <td>1</td>\n",
       "      <td>NATHANIEL FORD</td>\n",
       "      <td>GENERAL MANAGER-METROPOLITAN TRANSIT AUTHORITY</td>\n",
       "      <td>167411</td>\n",
       "      <td>0</td>\n",
       "      <td>400184</td>\n",
       "      <td></td>\n",
       "      <td>567595.43</td>\n",
       "      <td>567595.43</td>\n",
       "      <td>2011</td>\n",
       "      <td></td>\n",
       "      <td>San Francisco</td>\n",
       "      <td></td>\n",
       "    </tr>\n",
       "    <tr>\n",
       "      <th>1</th>\n",
       "      <td>2</td>\n",
       "      <td>GARY JIMENEZ</td>\n",
       "      <td>CAPTAIN III (POLICE DEPARTMENT)</td>\n",
       "      <td>155966</td>\n",
       "      <td>245132</td>\n",
       "      <td>137811</td>\n",
       "      <td></td>\n",
       "      <td>538909.28</td>\n",
       "      <td>538909.28</td>\n",
       "      <td>2011</td>\n",
       "      <td></td>\n",
       "      <td>San Francisco</td>\n",
       "      <td></td>\n",
       "    </tr>\n",
       "    <tr>\n",
       "      <th>2</th>\n",
       "      <td>3</td>\n",
       "      <td>ALBERT PARDINI</td>\n",
       "      <td>CAPTAIN III (POLICE DEPARTMENT)</td>\n",
       "      <td>212739</td>\n",
       "      <td>106088</td>\n",
       "      <td>16452.6</td>\n",
       "      <td></td>\n",
       "      <td>335279.91</td>\n",
       "      <td>335279.91</td>\n",
       "      <td>2011</td>\n",
       "      <td></td>\n",
       "      <td>San Francisco</td>\n",
       "      <td></td>\n",
       "    </tr>\n",
       "    <tr>\n",
       "      <th>3</th>\n",
       "      <td>4</td>\n",
       "      <td>CHRISTOPHER CHONG</td>\n",
       "      <td>WIRE ROPE CABLE MAINTENANCE MECHANIC</td>\n",
       "      <td>77916</td>\n",
       "      <td>56120.7</td>\n",
       "      <td>198307</td>\n",
       "      <td></td>\n",
       "      <td>332343.61</td>\n",
       "      <td>332343.61</td>\n",
       "      <td>2011</td>\n",
       "      <td></td>\n",
       "      <td>San Francisco</td>\n",
       "      <td></td>\n",
       "    </tr>\n",
       "    <tr>\n",
       "      <th>4</th>\n",
       "      <td>5</td>\n",
       "      <td>PATRICK GARDNER</td>\n",
       "      <td>DEPUTY CHIEF OF DEPARTMENT,(FIRE DEPARTMENT)</td>\n",
       "      <td>134402</td>\n",
       "      <td>9737</td>\n",
       "      <td>182235</td>\n",
       "      <td></td>\n",
       "      <td>326373.19</td>\n",
       "      <td>326373.19</td>\n",
       "      <td>2011</td>\n",
       "      <td></td>\n",
       "      <td>San Francisco</td>\n",
       "      <td></td>\n",
       "    </tr>\n",
       "  </tbody>\n",
       "</table>\n",
       "</div>"
      ],
      "text/plain": [
       "   Id       EmployeeName                                        JobTitle  \\\n",
       "0   1     NATHANIEL FORD  GENERAL MANAGER-METROPOLITAN TRANSIT AUTHORITY   \n",
       "1   2       GARY JIMENEZ                 CAPTAIN III (POLICE DEPARTMENT)   \n",
       "2   3     ALBERT PARDINI                 CAPTAIN III (POLICE DEPARTMENT)   \n",
       "3   4  CHRISTOPHER CHONG            WIRE ROPE CABLE MAINTENANCE MECHANIC   \n",
       "4   5    PATRICK GARDNER    DEPUTY CHIEF OF DEPARTMENT,(FIRE DEPARTMENT)   \n",
       "\n",
       "  BasePay OvertimePay OtherPay Benefits   TotalPay  TotalPayBenefits  Year  \\\n",
       "0  167411           0   400184           567595.43         567595.43  2011   \n",
       "1  155966      245132   137811           538909.28         538909.28  2011   \n",
       "2  212739      106088  16452.6           335279.91         335279.91  2011   \n",
       "3   77916     56120.7   198307           332343.61         332343.61  2011   \n",
       "4  134402        9737   182235           326373.19         326373.19  2011   \n",
       "\n",
       "  Notes         Agency Status  \n",
       "0        San Francisco         \n",
       "1        San Francisco         \n",
       "2        San Francisco         \n",
       "3        San Francisco         \n",
       "4        San Francisco         "
      ]
     },
     "execution_count": 43,
     "metadata": {},
     "output_type": "execute_result"
    }
   ],
   "source": [
    "salaries.head()"
   ]
  },
  {
   "cell_type": "markdown",
   "metadata": {
    "slideshow": {
     "slide_type": "slide"
    }
   },
   "source": [
    "# Les tris avec Pandas \n",
    "\n",
    "Pour effectuer des tris, on utilise :\n",
    "- `.sort_index()` pour le tri des index\n",
    "- `.sort_values()` pour le tri des données\n",
    "- `.rank()` affiche le rang des observations\n",
    "\n",
    "Il peut y avoir plusieurs tris dans la même opération. Dans ce cas, on utilise des listes de colonnes :\n",
    "```python\n",
    "frame.sort_values([\"col_1\",\"col_2\"])\n",
    "```"
   ]
  },
  {
   "cell_type": "markdown",
   "metadata": {
    "slideshow": {
     "slide_type": "subslide"
    }
   },
   "source": [
    "**Exercice :** \n",
    "    \n",
    "Triez les données sur airbnb en se basant sur le prix"
   ]
  },
  {
   "cell_type": "code",
   "execution_count": 44,
   "metadata": {},
   "outputs": [],
   "source": [
    "# on transforme la colonne prix\n",
    "airbnb[\"price_num\"] = pd.to_numeric(airbnb[\"price\"].str[1:].str.replace(\",\",\"\"))\n",
    "airbnb[\"price_num2\"] = pd.to_numeric(airbnb[\"price\"].str.replace(\"$\",\"\").str.replace(\",\",\"\"))"
   ]
  },
  {
   "cell_type": "code",
   "execution_count": 45,
   "metadata": {},
   "outputs": [
    {
     "data": {
      "text/html": [
       "<div>\n",
       "<style scoped>\n",
       "    .dataframe tbody tr th:only-of-type {\n",
       "        vertical-align: middle;\n",
       "    }\n",
       "\n",
       "    .dataframe tbody tr th {\n",
       "        vertical-align: top;\n",
       "    }\n",
       "\n",
       "    .dataframe thead th {\n",
       "        text-align: right;\n",
       "    }\n",
       "</style>\n",
       "<table border=\"1\" class=\"dataframe\">\n",
       "  <thead>\n",
       "    <tr style=\"text-align: right;\">\n",
       "      <th></th>\n",
       "      <th>listing_url</th>\n",
       "      <th>scrape_id</th>\n",
       "      <th>last_scraped</th>\n",
       "      <th>name</th>\n",
       "      <th>summary</th>\n",
       "      <th>space</th>\n",
       "      <th>description</th>\n",
       "      <th>experiences_offered</th>\n",
       "      <th>neighborhood_overview</th>\n",
       "      <th>notes</th>\n",
       "      <th>...</th>\n",
       "      <th>cancellation_policy</th>\n",
       "      <th>require_guest_profile_picture</th>\n",
       "      <th>require_guest_phone_verification</th>\n",
       "      <th>calculated_host_listings_count</th>\n",
       "      <th>calculated_host_listings_count_entire_homes</th>\n",
       "      <th>calculated_host_listings_count_private_rooms</th>\n",
       "      <th>calculated_host_listings_count_shared_rooms</th>\n",
       "      <th>reviews_per_month</th>\n",
       "      <th>price_num</th>\n",
       "      <th>price_num2</th>\n",
       "    </tr>\n",
       "    <tr>\n",
       "      <th>id</th>\n",
       "      <th></th>\n",
       "      <th></th>\n",
       "      <th></th>\n",
       "      <th></th>\n",
       "      <th></th>\n",
       "      <th></th>\n",
       "      <th></th>\n",
       "      <th></th>\n",
       "      <th></th>\n",
       "      <th></th>\n",
       "      <th></th>\n",
       "      <th></th>\n",
       "      <th></th>\n",
       "      <th></th>\n",
       "      <th></th>\n",
       "      <th></th>\n",
       "      <th></th>\n",
       "      <th></th>\n",
       "      <th></th>\n",
       "      <th></th>\n",
       "      <th></th>\n",
       "    </tr>\n",
       "  </thead>\n",
       "  <tbody>\n",
       "    <tr>\n",
       "      <th>7225849</th>\n",
       "      <td>https://www.airbnb.com/rooms/7225849</td>\n",
       "      <td>20190507030954</td>\n",
       "      <td>2019-05-07</td>\n",
       "      <td>Artistic apartment, Montmartre</td>\n",
       "      <td>2 bedrooms on different floors in this Duplex....</td>\n",
       "      <td>English: Lots of art in various form will be s...</td>\n",
       "      <td>2 bedrooms on different floors in this Duplex....</td>\n",
       "      <td>none</td>\n",
       "      <td>NaN</td>\n",
       "      <td>NaN</td>\n",
       "      <td>...</td>\n",
       "      <td>moderate</td>\n",
       "      <td>f</td>\n",
       "      <td>f</td>\n",
       "      <td>1</td>\n",
       "      <td>1</td>\n",
       "      <td>0</td>\n",
       "      <td>0</td>\n",
       "      <td>0.51</td>\n",
       "      <td>9379.0</td>\n",
       "      <td>9379.0</td>\n",
       "    </tr>\n",
       "    <tr>\n",
       "      <th>27608896</th>\n",
       "      <td>https://www.airbnb.com/rooms/27608896</td>\n",
       "      <td>20190507030954</td>\n",
       "      <td>2019-05-07</td>\n",
       "      <td>Petit studio parisien</td>\n",
       "      <td>Petit studio tranquille dans le 14e Reposant e...</td>\n",
       "      <td>NaN</td>\n",
       "      <td>Petit studio tranquille dans le 14e Reposant e...</td>\n",
       "      <td>none</td>\n",
       "      <td>NaN</td>\n",
       "      <td>NaN</td>\n",
       "      <td>...</td>\n",
       "      <td>flexible</td>\n",
       "      <td>f</td>\n",
       "      <td>f</td>\n",
       "      <td>1</td>\n",
       "      <td>0</td>\n",
       "      <td>1</td>\n",
       "      <td>0</td>\n",
       "      <td>0.11</td>\n",
       "      <td>8932.0</td>\n",
       "      <td>8932.0</td>\n",
       "    </tr>\n",
       "    <tr>\n",
       "      <th>8093890</th>\n",
       "      <td>https://www.airbnb.com/rooms/8093890</td>\n",
       "      <td>20190507030954</td>\n",
       "      <td>2019-05-08</td>\n",
       "      <td>EIFFEL TOWER TROCADERO 2 BEDROOM</td>\n",
       "      <td>Wonderful parisian flat close (3 min walk) to ...</td>\n",
       "      <td>The room is situated in a very nice Parisian \"...</td>\n",
       "      <td>Wonderful parisian flat close (3 min walk) to ...</td>\n",
       "      <td>none</td>\n",
       "      <td>Close to Trocadero, arc de Triomphe, the area ...</td>\n",
       "      <td>NaN</td>\n",
       "      <td>...</td>\n",
       "      <td>strict_14_with_grace_period</td>\n",
       "      <td>f</td>\n",
       "      <td>f</td>\n",
       "      <td>1</td>\n",
       "      <td>1</td>\n",
       "      <td>0</td>\n",
       "      <td>0</td>\n",
       "      <td>0.21</td>\n",
       "      <td>8721.0</td>\n",
       "      <td>8721.0</td>\n",
       "    </tr>\n",
       "    <tr>\n",
       "      <th>25448670</th>\n",
       "      <td>https://www.airbnb.com/rooms/25448670</td>\n",
       "      <td>20190507030954</td>\n",
       "      <td>2019-05-08</td>\n",
       "      <td>cosytiti Paris 15</td>\n",
       "      <td>cosytiti</td>\n",
       "      <td>cosytiti</td>\n",
       "      <td>cosytiti cosytiti facile</td>\n",
       "      <td>none</td>\n",
       "      <td>NaN</td>\n",
       "      <td>NaN</td>\n",
       "      <td>...</td>\n",
       "      <td>flexible</td>\n",
       "      <td>f</td>\n",
       "      <td>f</td>\n",
       "      <td>1</td>\n",
       "      <td>1</td>\n",
       "      <td>0</td>\n",
       "      <td>0</td>\n",
       "      <td>0.18</td>\n",
       "      <td>8576.0</td>\n",
       "      <td>8576.0</td>\n",
       "    </tr>\n",
       "    <tr>\n",
       "      <th>6088687</th>\n",
       "      <td>https://www.airbnb.com/rooms/6088687</td>\n",
       "      <td>20190507030954</td>\n",
       "      <td>2019-05-07</td>\n",
       "      <td>Lovely Duplex 30m2 - Le Marais</td>\n",
       "      <td>The apartment is a charming studio organized i...</td>\n",
       "      <td>Hello! I entrust to you my charming duplex apa...</td>\n",
       "      <td>The apartment is a charming studio organized i...</td>\n",
       "      <td>none</td>\n",
       "      <td>Great neighbourhood, very central in the 3rd d...</td>\n",
       "      <td>-I do not charge any cleaning fees but I want ...</td>\n",
       "      <td>...</td>\n",
       "      <td>strict_14_with_grace_period</td>\n",
       "      <td>f</td>\n",
       "      <td>f</td>\n",
       "      <td>1</td>\n",
       "      <td>1</td>\n",
       "      <td>0</td>\n",
       "      <td>0</td>\n",
       "      <td>0.78</td>\n",
       "      <td>8500.0</td>\n",
       "      <td>8500.0</td>\n",
       "    </tr>\n",
       "    <tr>\n",
       "      <th>...</th>\n",
       "      <td>...</td>\n",
       "      <td>...</td>\n",
       "      <td>...</td>\n",
       "      <td>...</td>\n",
       "      <td>...</td>\n",
       "      <td>...</td>\n",
       "      <td>...</td>\n",
       "      <td>...</td>\n",
       "      <td>...</td>\n",
       "      <td>...</td>\n",
       "      <td>...</td>\n",
       "      <td>...</td>\n",
       "      <td>...</td>\n",
       "      <td>...</td>\n",
       "      <td>...</td>\n",
       "      <td>...</td>\n",
       "      <td>...</td>\n",
       "      <td>...</td>\n",
       "      <td>...</td>\n",
       "      <td>...</td>\n",
       "      <td>...</td>\n",
       "    </tr>\n",
       "    <tr>\n",
       "      <th>20219162</th>\n",
       "      <td>https://www.airbnb.com/rooms/20219162</td>\n",
       "      <td>20190507030954</td>\n",
       "      <td>2019-05-07</td>\n",
       "      <td>Nice &amp; cosy parisian flat</td>\n",
       "      <td>Hello :) Welcome to the best area of Paris ! T...</td>\n",
       "      <td>NaN</td>\n",
       "      <td>Hello :) Welcome to the best area of Paris ! T...</td>\n",
       "      <td>none</td>\n",
       "      <td>NaN</td>\n",
       "      <td>NaN</td>\n",
       "      <td>...</td>\n",
       "      <td>moderate</td>\n",
       "      <td>f</td>\n",
       "      <td>f</td>\n",
       "      <td>1</td>\n",
       "      <td>1</td>\n",
       "      <td>0</td>\n",
       "      <td>0</td>\n",
       "      <td>0.12</td>\n",
       "      <td>0.0</td>\n",
       "      <td>0.0</td>\n",
       "    </tr>\n",
       "    <tr>\n",
       "      <th>20291987</th>\n",
       "      <td>https://www.airbnb.com/rooms/20291987</td>\n",
       "      <td>20190507030954</td>\n",
       "      <td>2019-05-08</td>\n",
       "      <td>Romantic Garden view near Champs-Elysées</td>\n",
       "      <td>Very private, on an inner romantic garden, rem...</td>\n",
       "      <td>The studio offers a well-equipped space and is...</td>\n",
       "      <td>Very private, on an inner romantic garden, rem...</td>\n",
       "      <td>none</td>\n",
       "      <td>Quiet neighborhood, small supermarket across t...</td>\n",
       "      <td>We have another apartment on the 3rd floor, ex...</td>\n",
       "      <td>...</td>\n",
       "      <td>strict_14_with_grace_period</td>\n",
       "      <td>f</td>\n",
       "      <td>f</td>\n",
       "      <td>5</td>\n",
       "      <td>5</td>\n",
       "      <td>0</td>\n",
       "      <td>0</td>\n",
       "      <td>1.42</td>\n",
       "      <td>0.0</td>\n",
       "      <td>0.0</td>\n",
       "    </tr>\n",
       "    <tr>\n",
       "      <th>20962304</th>\n",
       "      <td>https://www.airbnb.com/rooms/20962304</td>\n",
       "      <td>20190507030954</td>\n",
       "      <td>2019-05-07</td>\n",
       "      <td>Beau deux pièces au cœur du 15e</td>\n",
       "      <td>NaN</td>\n",
       "      <td>Bel appartement de 45 m2 au cœur du 15 éme arr...</td>\n",
       "      <td>Bel appartement de 45 m2 au cœur du 15 éme arr...</td>\n",
       "      <td>none</td>\n",
       "      <td>Le logement se trouve dans un quartier calme, ...</td>\n",
       "      <td>NaN</td>\n",
       "      <td>...</td>\n",
       "      <td>flexible</td>\n",
       "      <td>f</td>\n",
       "      <td>f</td>\n",
       "      <td>1</td>\n",
       "      <td>1</td>\n",
       "      <td>0</td>\n",
       "      <td>0</td>\n",
       "      <td>NaN</td>\n",
       "      <td>0.0</td>\n",
       "      <td>0.0</td>\n",
       "    </tr>\n",
       "    <tr>\n",
       "      <th>21258874</th>\n",
       "      <td>https://www.airbnb.com/rooms/21258874</td>\n",
       "      <td>20190507030954</td>\n",
       "      <td>2019-05-07</td>\n",
       "      <td>Joli T2 37m2 arrêt Maison Blanche</td>\n",
       "      <td>Joli T2 très lumineux de 37 m2 situé au cœur d...</td>\n",
       "      <td>Joli T2 rénové récemment au pied du Métro lign...</td>\n",
       "      <td>Joli T2 très lumineux de 37 m2 situé au cœur d...</td>\n",
       "      <td>none</td>\n",
       "      <td>Situé en plein quartier chinois vous trouverez...</td>\n",
       "      <td>Attention l'appartement est situé au 5 eme éta...</td>\n",
       "      <td>...</td>\n",
       "      <td>moderate</td>\n",
       "      <td>f</td>\n",
       "      <td>f</td>\n",
       "      <td>1</td>\n",
       "      <td>1</td>\n",
       "      <td>0</td>\n",
       "      <td>0</td>\n",
       "      <td>NaN</td>\n",
       "      <td>0.0</td>\n",
       "      <td>0.0</td>\n",
       "    </tr>\n",
       "    <tr>\n",
       "      <th>19974916</th>\n",
       "      <td>https://www.airbnb.com/rooms/19974916</td>\n",
       "      <td>20190507030954</td>\n",
       "      <td>2019-05-07</td>\n",
       "      <td>Petit nid - village de Montmartre</td>\n",
       "      <td>À deux pas de la Basilique du Sacré Cœur. Dans...</td>\n",
       "      <td>À deux pas du Sacré Cœur dans une charmante ru...</td>\n",
       "      <td>À deux pas de la Basilique du Sacré Cœur. Dans...</td>\n",
       "      <td>none</td>\n",
       "      <td>Montmartre!</td>\n",
       "      <td>Cheminée disponible, Éléments de combustion à ...</td>\n",
       "      <td>...</td>\n",
       "      <td>strict_14_with_grace_period</td>\n",
       "      <td>f</td>\n",
       "      <td>f</td>\n",
       "      <td>1</td>\n",
       "      <td>1</td>\n",
       "      <td>0</td>\n",
       "      <td>0</td>\n",
       "      <td>2.58</td>\n",
       "      <td>0.0</td>\n",
       "      <td>0.0</td>\n",
       "    </tr>\n",
       "  </tbody>\n",
       "</table>\n",
       "<p>59126 rows × 107 columns</p>\n",
       "</div>"
      ],
      "text/plain": [
       "                                    listing_url       scrape_id last_scraped  \\\n",
       "id                                                                             \n",
       "7225849    https://www.airbnb.com/rooms/7225849  20190507030954   2019-05-07   \n",
       "27608896  https://www.airbnb.com/rooms/27608896  20190507030954   2019-05-07   \n",
       "8093890    https://www.airbnb.com/rooms/8093890  20190507030954   2019-05-08   \n",
       "25448670  https://www.airbnb.com/rooms/25448670  20190507030954   2019-05-08   \n",
       "6088687    https://www.airbnb.com/rooms/6088687  20190507030954   2019-05-07   \n",
       "...                                         ...             ...          ...   \n",
       "20219162  https://www.airbnb.com/rooms/20219162  20190507030954   2019-05-07   \n",
       "20291987  https://www.airbnb.com/rooms/20291987  20190507030954   2019-05-08   \n",
       "20962304  https://www.airbnb.com/rooms/20962304  20190507030954   2019-05-07   \n",
       "21258874  https://www.airbnb.com/rooms/21258874  20190507030954   2019-05-07   \n",
       "19974916  https://www.airbnb.com/rooms/19974916  20190507030954   2019-05-07   \n",
       "\n",
       "                                              name  \\\n",
       "id                                                   \n",
       "7225849             Artistic apartment, Montmartre   \n",
       "27608896                     Petit studio parisien   \n",
       "8093890           EIFFEL TOWER TROCADERO 2 BEDROOM   \n",
       "25448670                         cosytiti Paris 15   \n",
       "6088687             Lovely Duplex 30m2 - Le Marais   \n",
       "...                                            ...   \n",
       "20219162                 Nice & cosy parisian flat   \n",
       "20291987  Romantic Garden view near Champs-Elysées   \n",
       "20962304           Beau deux pièces au cœur du 15e   \n",
       "21258874         Joli T2 37m2 arrêt Maison Blanche   \n",
       "19974916         Petit nid - village de Montmartre   \n",
       "\n",
       "                                                    summary  \\\n",
       "id                                                            \n",
       "7225849   2 bedrooms on different floors in this Duplex....   \n",
       "27608896  Petit studio tranquille dans le 14e Reposant e...   \n",
       "8093890   Wonderful parisian flat close (3 min walk) to ...   \n",
       "25448670                                           cosytiti   \n",
       "6088687   The apartment is a charming studio organized i...   \n",
       "...                                                     ...   \n",
       "20219162  Hello :) Welcome to the best area of Paris ! T...   \n",
       "20291987  Very private, on an inner romantic garden, rem...   \n",
       "20962304                                                NaN   \n",
       "21258874  Joli T2 très lumineux de 37 m2 situé au cœur d...   \n",
       "19974916  À deux pas de la Basilique du Sacré Cœur. Dans...   \n",
       "\n",
       "                                                      space  \\\n",
       "id                                                            \n",
       "7225849   English: Lots of art in various form will be s...   \n",
       "27608896                                                NaN   \n",
       "8093890   The room is situated in a very nice Parisian \"...   \n",
       "25448670                                           cosytiti   \n",
       "6088687   Hello! I entrust to you my charming duplex apa...   \n",
       "...                                                     ...   \n",
       "20219162                                                NaN   \n",
       "20291987  The studio offers a well-equipped space and is...   \n",
       "20962304  Bel appartement de 45 m2 au cœur du 15 éme arr...   \n",
       "21258874  Joli T2 rénové récemment au pied du Métro lign...   \n",
       "19974916  À deux pas du Sacré Cœur dans une charmante ru...   \n",
       "\n",
       "                                                description  \\\n",
       "id                                                            \n",
       "7225849   2 bedrooms on different floors in this Duplex....   \n",
       "27608896  Petit studio tranquille dans le 14e Reposant e...   \n",
       "8093890   Wonderful parisian flat close (3 min walk) to ...   \n",
       "25448670                           cosytiti cosytiti facile   \n",
       "6088687   The apartment is a charming studio organized i...   \n",
       "...                                                     ...   \n",
       "20219162  Hello :) Welcome to the best area of Paris ! T...   \n",
       "20291987  Very private, on an inner romantic garden, rem...   \n",
       "20962304  Bel appartement de 45 m2 au cœur du 15 éme arr...   \n",
       "21258874  Joli T2 très lumineux de 37 m2 situé au cœur d...   \n",
       "19974916  À deux pas de la Basilique du Sacré Cœur. Dans...   \n",
       "\n",
       "         experiences_offered  \\\n",
       "id                             \n",
       "7225849                 none   \n",
       "27608896                none   \n",
       "8093890                 none   \n",
       "25448670                none   \n",
       "6088687                 none   \n",
       "...                      ...   \n",
       "20219162                none   \n",
       "20291987                none   \n",
       "20962304                none   \n",
       "21258874                none   \n",
       "19974916                none   \n",
       "\n",
       "                                      neighborhood_overview  \\\n",
       "id                                                            \n",
       "7225849                                                 NaN   \n",
       "27608896                                                NaN   \n",
       "8093890   Close to Trocadero, arc de Triomphe, the area ...   \n",
       "25448670                                                NaN   \n",
       "6088687   Great neighbourhood, very central in the 3rd d...   \n",
       "...                                                     ...   \n",
       "20219162                                                NaN   \n",
       "20291987  Quiet neighborhood, small supermarket across t...   \n",
       "20962304  Le logement se trouve dans un quartier calme, ...   \n",
       "21258874  Situé en plein quartier chinois vous trouverez...   \n",
       "19974916                                        Montmartre!   \n",
       "\n",
       "                                                      notes  ...  \\\n",
       "id                                                           ...   \n",
       "7225849                                                 NaN  ...   \n",
       "27608896                                                NaN  ...   \n",
       "8093890                                                 NaN  ...   \n",
       "25448670                                                NaN  ...   \n",
       "6088687   -I do not charge any cleaning fees but I want ...  ...   \n",
       "...                                                     ...  ...   \n",
       "20219162                                                NaN  ...   \n",
       "20291987  We have another apartment on the 3rd floor, ex...  ...   \n",
       "20962304                                                NaN  ...   \n",
       "21258874  Attention l'appartement est situé au 5 eme éta...  ...   \n",
       "19974916  Cheminée disponible, Éléments de combustion à ...  ...   \n",
       "\n",
       "                  cancellation_policy require_guest_profile_picture  \\\n",
       "id                                                                    \n",
       "7225849                      moderate                             f   \n",
       "27608896                     flexible                             f   \n",
       "8093890   strict_14_with_grace_period                             f   \n",
       "25448670                     flexible                             f   \n",
       "6088687   strict_14_with_grace_period                             f   \n",
       "...                               ...                           ...   \n",
       "20219162                     moderate                             f   \n",
       "20291987  strict_14_with_grace_period                             f   \n",
       "20962304                     flexible                             f   \n",
       "21258874                     moderate                             f   \n",
       "19974916  strict_14_with_grace_period                             f   \n",
       "\n",
       "         require_guest_phone_verification calculated_host_listings_count  \\\n",
       "id                                                                         \n",
       "7225849                                 f                              1   \n",
       "27608896                                f                              1   \n",
       "8093890                                 f                              1   \n",
       "25448670                                f                              1   \n",
       "6088687                                 f                              1   \n",
       "...                                   ...                            ...   \n",
       "20219162                                f                              1   \n",
       "20291987                                f                              5   \n",
       "20962304                                f                              1   \n",
       "21258874                                f                              1   \n",
       "19974916                                f                              1   \n",
       "\n",
       "          calculated_host_listings_count_entire_homes  \\\n",
       "id                                                      \n",
       "7225849                                             1   \n",
       "27608896                                            0   \n",
       "8093890                                             1   \n",
       "25448670                                            1   \n",
       "6088687                                             1   \n",
       "...                                               ...   \n",
       "20219162                                            1   \n",
       "20291987                                            5   \n",
       "20962304                                            1   \n",
       "21258874                                            1   \n",
       "19974916                                            1   \n",
       "\n",
       "          calculated_host_listings_count_private_rooms  \\\n",
       "id                                                       \n",
       "7225849                                              0   \n",
       "27608896                                             1   \n",
       "8093890                                              0   \n",
       "25448670                                             0   \n",
       "6088687                                              0   \n",
       "...                                                ...   \n",
       "20219162                                             0   \n",
       "20291987                                             0   \n",
       "20962304                                             0   \n",
       "21258874                                             0   \n",
       "19974916                                             0   \n",
       "\n",
       "         calculated_host_listings_count_shared_rooms  reviews_per_month  \\\n",
       "id                                                                        \n",
       "7225849                                            0               0.51   \n",
       "27608896                                           0               0.11   \n",
       "8093890                                            0               0.21   \n",
       "25448670                                           0               0.18   \n",
       "6088687                                            0               0.78   \n",
       "...                                              ...                ...   \n",
       "20219162                                           0               0.12   \n",
       "20291987                                           0               1.42   \n",
       "20962304                                           0                NaN   \n",
       "21258874                                           0                NaN   \n",
       "19974916                                           0               2.58   \n",
       "\n",
       "          price_num price_num2  \n",
       "id                              \n",
       "7225849      9379.0     9379.0  \n",
       "27608896     8932.0     8932.0  \n",
       "8093890      8721.0     8721.0  \n",
       "25448670     8576.0     8576.0  \n",
       "6088687      8500.0     8500.0  \n",
       "...             ...        ...  \n",
       "20219162        0.0        0.0  \n",
       "20291987        0.0        0.0  \n",
       "20962304        0.0        0.0  \n",
       "21258874        0.0        0.0  \n",
       "19974916        0.0        0.0  \n",
       "\n",
       "[59126 rows x 107 columns]"
      ]
     },
     "execution_count": 45,
     "metadata": {},
     "output_type": "execute_result"
    }
   ],
   "source": [
    "airbnb.sort_values(\"price_num\",ascending=False)"
   ]
  },
  {
   "cell_type": "code",
   "execution_count": 46,
   "metadata": {},
   "outputs": [
    {
     "data": {
      "text/html": [
       "<div>\n",
       "<style scoped>\n",
       "    .dataframe tbody tr th:only-of-type {\n",
       "        vertical-align: middle;\n",
       "    }\n",
       "\n",
       "    .dataframe tbody tr th {\n",
       "        vertical-align: top;\n",
       "    }\n",
       "\n",
       "    .dataframe thead th {\n",
       "        text-align: right;\n",
       "    }\n",
       "</style>\n",
       "<table border=\"1\" class=\"dataframe\">\n",
       "  <thead>\n",
       "    <tr style=\"text-align: right;\">\n",
       "      <th></th>\n",
       "      <th>cancellation_policy</th>\n",
       "      <th>price_num</th>\n",
       "    </tr>\n",
       "    <tr>\n",
       "      <th>id</th>\n",
       "      <th></th>\n",
       "      <th></th>\n",
       "    </tr>\n",
       "  </thead>\n",
       "  <tbody>\n",
       "    <tr>\n",
       "      <th>27608896</th>\n",
       "      <td>flexible</td>\n",
       "      <td>8932.0</td>\n",
       "    </tr>\n",
       "    <tr>\n",
       "      <th>25448670</th>\n",
       "      <td>flexible</td>\n",
       "      <td>8576.0</td>\n",
       "    </tr>\n",
       "    <tr>\n",
       "      <th>23713978</th>\n",
       "      <td>flexible</td>\n",
       "      <td>3500.0</td>\n",
       "    </tr>\n",
       "    <tr>\n",
       "      <th>20047271</th>\n",
       "      <td>flexible</td>\n",
       "      <td>3000.0</td>\n",
       "    </tr>\n",
       "    <tr>\n",
       "      <th>32885765</th>\n",
       "      <td>flexible</td>\n",
       "      <td>3000.0</td>\n",
       "    </tr>\n",
       "    <tr>\n",
       "      <th>...</th>\n",
       "      <td>...</td>\n",
       "      <td>...</td>\n",
       "    </tr>\n",
       "    <tr>\n",
       "      <th>23660261</th>\n",
       "      <td>super_strict_60</td>\n",
       "      <td>64.0</td>\n",
       "    </tr>\n",
       "    <tr>\n",
       "      <th>2535256</th>\n",
       "      <td>super_strict_60</td>\n",
       "      <td>63.0</td>\n",
       "    </tr>\n",
       "    <tr>\n",
       "      <th>12894872</th>\n",
       "      <td>super_strict_60</td>\n",
       "      <td>63.0</td>\n",
       "    </tr>\n",
       "    <tr>\n",
       "      <th>3076276</th>\n",
       "      <td>super_strict_60</td>\n",
       "      <td>48.0</td>\n",
       "    </tr>\n",
       "    <tr>\n",
       "      <th>31006402</th>\n",
       "      <td>super_strict_60</td>\n",
       "      <td>47.0</td>\n",
       "    </tr>\n",
       "  </tbody>\n",
       "</table>\n",
       "<p>59126 rows × 2 columns</p>\n",
       "</div>"
      ],
      "text/plain": [
       "         cancellation_policy  price_num\n",
       "id                                     \n",
       "27608896            flexible     8932.0\n",
       "25448670            flexible     8576.0\n",
       "23713978            flexible     3500.0\n",
       "20047271            flexible     3000.0\n",
       "32885765            flexible     3000.0\n",
       "...                      ...        ...\n",
       "23660261     super_strict_60       64.0\n",
       "2535256      super_strict_60       63.0\n",
       "12894872     super_strict_60       63.0\n",
       "3076276      super_strict_60       48.0\n",
       "31006402     super_strict_60       47.0\n",
       "\n",
       "[59126 rows x 2 columns]"
      ]
     },
     "execution_count": 46,
     "metadata": {},
     "output_type": "execute_result"
    }
   ],
   "source": [
    "airbnb_sorted = airbnb.sort_values([\"cancellation_policy\",\"price_num\"],ascending=[True,False])\n",
    "airbnb_sorted[[\"cancellation_policy\",\"price_num\"]]"
   ]
  },
  {
   "cell_type": "markdown",
   "metadata": {
    "slideshow": {
     "slide_type": "slide"
    }
   },
   "source": [
    "# Les statistiques simples\n",
    "\n",
    "Les Dataframe possèdent de nombreuses méthodes pour calculer des statistiques simples :\n",
    "- `.sum(axis=0)` permet de faire une somme par colonne\n",
    "- `.sum(axis=1)` permet de faire une somme par ligne\n",
    "- `.min()` et `.max()` donnent le minimum par colonne\n",
    "- `.idxmin()` et `.idxmax()` donnent l’index du minimum et du maximum\n",
    "- `.describe()` affiche un tableau de statistiques descriptives par colonne\n",
    "- `.corr()` pour calculer la corrélation entre les colonnes"
   ]
  },
  {
   "cell_type": "markdown",
   "metadata": {
    "slideshow": {
     "slide_type": "subslide"
    }
   },
   "source": [
    "**Exercice :**\n",
    "    \n",
    "Obtenir les différentes statistiques descriptives pour les données AirBnB.\n"
   ]
  },
  {
   "cell_type": "code",
   "execution_count": 47,
   "metadata": {},
   "outputs": [
    {
     "data": {
      "text/plain": [
       "116.32598180157629"
      ]
     },
     "execution_count": 47,
     "metadata": {},
     "output_type": "execute_result"
    }
   ],
   "source": [
    "airbnb[\"price_num\"].mean()"
   ]
  },
  {
   "cell_type": "code",
   "execution_count": 48,
   "metadata": {},
   "outputs": [
    {
     "data": {
      "text/plain": [
       "80.0"
      ]
     },
     "execution_count": 48,
     "metadata": {},
     "output_type": "execute_result"
    }
   ],
   "source": [
    "airbnb[\"price_num\"].median()"
   ]
  },
  {
   "cell_type": "code",
   "execution_count": 49,
   "metadata": {},
   "outputs": [
    {
     "data": {
      "text/plain": [
       "count    59126.000000\n",
       "mean       116.325982\n",
       "std        167.669754\n",
       "min          0.000000\n",
       "25%         59.000000\n",
       "50%         80.000000\n",
       "75%        120.000000\n",
       "max       9379.000000\n",
       "Name: price_num, dtype: float64"
      ]
     },
     "execution_count": 49,
     "metadata": {},
     "output_type": "execute_result"
    }
   ],
   "source": [
    "airbnb[\"price_num\"].describe()"
   ]
  },
  {
   "cell_type": "code",
   "execution_count": 50,
   "metadata": {},
   "outputs": [],
   "source": [
    "def etendue(col):\n",
    "    return col.max()-col.min()"
   ]
  },
  {
   "cell_type": "code",
   "execution_count": 51,
   "metadata": {},
   "outputs": [],
   "source": [
    "airbnb[[\"price_num\",\"review_scores_location\"]].agg([\"mean\",\"median\",\"std\",lambda x : x.max()-x.min(),etendue]).to_excel(\"stat_aribnb.xlsx\")"
   ]
  },
  {
   "cell_type": "markdown",
   "metadata": {
    "slideshow": {
     "slide_type": "slide"
    }
   },
   "source": [
    "# Le traitement des données manquantes\n",
    "\n",
    "- Les données manquantes sont identifiées par `NaN`\n",
    "\n",
    "\n",
    "- `.dropna()` permet de retirer les données manquantes dans un objet Series et l’ensemble d’une ligne dans le cas d’un DataFrame\n",
    "- Pour éliminer par colonne, on utilise `.dropna(axis=1)`\n",
    "- Remplacer toutes les données manquantes `.fillna(valeur)`\n"
   ]
  },
  {
   "cell_type": "code",
   "execution_count": 52,
   "metadata": {},
   "outputs": [],
   "source": [
    "airbnb[\"price_num\"] = airbnb[\"price_num\"].fillna(airbnb[\"price_num\"].mean())"
   ]
  },
  {
   "cell_type": "code",
   "execution_count": 53,
   "metadata": {},
   "outputs": [
    {
     "data": {
      "text/html": [
       "<div>\n",
       "<style scoped>\n",
       "    .dataframe tbody tr th:only-of-type {\n",
       "        vertical-align: middle;\n",
       "    }\n",
       "\n",
       "    .dataframe tbody tr th {\n",
       "        vertical-align: top;\n",
       "    }\n",
       "\n",
       "    .dataframe thead th {\n",
       "        text-align: right;\n",
       "    }\n",
       "</style>\n",
       "<table border=\"1\" class=\"dataframe\">\n",
       "  <thead>\n",
       "    <tr style=\"text-align: right;\">\n",
       "      <th></th>\n",
       "      <th>listing_url</th>\n",
       "      <th>scrape_id</th>\n",
       "      <th>last_scraped</th>\n",
       "      <th>name</th>\n",
       "      <th>summary</th>\n",
       "      <th>space</th>\n",
       "      <th>description</th>\n",
       "      <th>experiences_offered</th>\n",
       "      <th>neighborhood_overview</th>\n",
       "      <th>notes</th>\n",
       "      <th>...</th>\n",
       "      <th>first_review</th>\n",
       "      <th>last_review</th>\n",
       "      <th>requires_license</th>\n",
       "      <th>license</th>\n",
       "      <th>jurisdiction_names</th>\n",
       "      <th>instant_bookable</th>\n",
       "      <th>is_business_travel_ready</th>\n",
       "      <th>cancellation_policy</th>\n",
       "      <th>require_guest_profile_picture</th>\n",
       "      <th>require_guest_phone_verification</th>\n",
       "    </tr>\n",
       "    <tr>\n",
       "      <th>id</th>\n",
       "      <th></th>\n",
       "      <th></th>\n",
       "      <th></th>\n",
       "      <th></th>\n",
       "      <th></th>\n",
       "      <th></th>\n",
       "      <th></th>\n",
       "      <th></th>\n",
       "      <th></th>\n",
       "      <th></th>\n",
       "      <th></th>\n",
       "      <th></th>\n",
       "      <th></th>\n",
       "      <th></th>\n",
       "      <th></th>\n",
       "      <th></th>\n",
       "      <th></th>\n",
       "      <th></th>\n",
       "      <th></th>\n",
       "      <th></th>\n",
       "      <th></th>\n",
       "    </tr>\n",
       "  </thead>\n",
       "  <tbody>\n",
       "    <tr>\n",
       "      <th>3109</th>\n",
       "      <td>https://www.airbnb.com/rooms/3109</td>\n",
       "      <td>20190507030954</td>\n",
       "      <td>2019-05-07</td>\n",
       "      <td>zen and calm</td>\n",
       "      <td>Appartement très calme de 50M2 Utilisation de ...</td>\n",
       "      <td>I bedroom appartment in Paris 14</td>\n",
       "      <td>I bedroom appartment in Paris 14 Good restaura...</td>\n",
       "      <td>none</td>\n",
       "      <td>Good restaurants very close the Montparnasse S...</td>\n",
       "      <td>manquant</td>\n",
       "      <td>...</td>\n",
       "      <td>2016-12-27</td>\n",
       "      <td>2018-12-19</td>\n",
       "      <td>t</td>\n",
       "      <td>manquant</td>\n",
       "      <td>{PARIS}</td>\n",
       "      <td>f</td>\n",
       "      <td>f</td>\n",
       "      <td>flexible</td>\n",
       "      <td>f</td>\n",
       "      <td>f</td>\n",
       "    </tr>\n",
       "    <tr>\n",
       "      <th>5396</th>\n",
       "      <td>https://www.airbnb.com/rooms/5396</td>\n",
       "      <td>20190507030954</td>\n",
       "      <td>2019-05-08</td>\n",
       "      <td>Explore the heart of old Paris</td>\n",
       "      <td>Cozy, well-appointed and graciously designed s...</td>\n",
       "      <td>Small, well appointed studio apartment at the ...</td>\n",
       "      <td>Cozy, well-appointed and graciously designed s...</td>\n",
       "      <td>none</td>\n",
       "      <td>You are within walking distance to the Louvre,...</td>\n",
       "      <td>The staircase leading up to the apartment is n...</td>\n",
       "      <td>...</td>\n",
       "      <td>2009-06-30</td>\n",
       "      <td>2019-04-19</td>\n",
       "      <td>t</td>\n",
       "      <td>7510402838018</td>\n",
       "      <td>{PARIS}</td>\n",
       "      <td>t</td>\n",
       "      <td>f</td>\n",
       "      <td>strict_14_with_grace_period</td>\n",
       "      <td>f</td>\n",
       "      <td>f</td>\n",
       "    </tr>\n",
       "    <tr>\n",
       "      <th>7397</th>\n",
       "      <td>https://www.airbnb.com/rooms/7397</td>\n",
       "      <td>20190507030954</td>\n",
       "      <td>2019-05-07</td>\n",
       "      <td>MARAIS - 2ROOMS APT - 2/4 PEOPLE</td>\n",
       "      <td>VERY CONVENIENT, WITH THE BEST LOCATION !</td>\n",
       "      <td>PLEASE ASK ME BEFORE TO MAKE A REQUEST !!! No ...</td>\n",
       "      <td>VERY CONVENIENT, WITH THE BEST LOCATION ! PLEA...</td>\n",
       "      <td>none</td>\n",
       "      <td>manquant</td>\n",
       "      <td>Important: Be conscious that an apartment in a...</td>\n",
       "      <td>...</td>\n",
       "      <td>2011-04-08</td>\n",
       "      <td>2019-04-20</td>\n",
       "      <td>t</td>\n",
       "      <td>7510400829623</td>\n",
       "      <td>{PARIS}</td>\n",
       "      <td>f</td>\n",
       "      <td>f</td>\n",
       "      <td>moderate</td>\n",
       "      <td>f</td>\n",
       "      <td>f</td>\n",
       "    </tr>\n",
       "    <tr>\n",
       "      <th>8522</th>\n",
       "      <td>https://www.airbnb.com/rooms/8522</td>\n",
       "      <td>20190507030954</td>\n",
       "      <td>2019-05-08</td>\n",
       "      <td>GREAT FLAT w/ CITY VIEW</td>\n",
       "      <td>manquant</td>\n",
       "      <td>Really nice flat located in the 20th district ...</td>\n",
       "      <td>Really nice flat located in the 20th district ...</td>\n",
       "      <td>none</td>\n",
       "      <td>manquant</td>\n",
       "      <td>manquant</td>\n",
       "      <td>...</td>\n",
       "      <td>2010-06-16</td>\n",
       "      <td>2010-06-16</td>\n",
       "      <td>t</td>\n",
       "      <td>manquant</td>\n",
       "      <td>{PARIS}</td>\n",
       "      <td>f</td>\n",
       "      <td>f</td>\n",
       "      <td>moderate</td>\n",
       "      <td>f</td>\n",
       "      <td>f</td>\n",
       "    </tr>\n",
       "    <tr>\n",
       "      <th>9359</th>\n",
       "      <td>https://www.airbnb.com/rooms/9359</td>\n",
       "      <td>20190507030954</td>\n",
       "      <td>2019-05-07</td>\n",
       "      <td>Cozy, Central Paris: WALK or VELIB EVERYWHERE !</td>\n",
       "      <td>Location! Location! Location! Just bring your ...</td>\n",
       "      <td>Since I live in the USA, it is difficult to ma...</td>\n",
       "      <td>Location! Location! Location! Just bring your ...</td>\n",
       "      <td>none</td>\n",
       "      <td>manquant</td>\n",
       "      <td>Velib station outside.</td>\n",
       "      <td>...</td>\n",
       "      <td>manquant</td>\n",
       "      <td>manquant</td>\n",
       "      <td>t</td>\n",
       "      <td>manquant</td>\n",
       "      <td>{PARIS}</td>\n",
       "      <td>f</td>\n",
       "      <td>f</td>\n",
       "      <td>strict_14_with_grace_period</td>\n",
       "      <td>t</td>\n",
       "      <td>t</td>\n",
       "    </tr>\n",
       "    <tr>\n",
       "      <th>...</th>\n",
       "      <td>...</td>\n",
       "      <td>...</td>\n",
       "      <td>...</td>\n",
       "      <td>...</td>\n",
       "      <td>...</td>\n",
       "      <td>...</td>\n",
       "      <td>...</td>\n",
       "      <td>...</td>\n",
       "      <td>...</td>\n",
       "      <td>...</td>\n",
       "      <td>...</td>\n",
       "      <td>...</td>\n",
       "      <td>...</td>\n",
       "      <td>...</td>\n",
       "      <td>...</td>\n",
       "      <td>...</td>\n",
       "      <td>...</td>\n",
       "      <td>...</td>\n",
       "      <td>...</td>\n",
       "      <td>...</td>\n",
       "      <td>...</td>\n",
       "    </tr>\n",
       "    <tr>\n",
       "      <th>34474966</th>\n",
       "      <td>https://www.airbnb.com/rooms/34474966</td>\n",
       "      <td>20190507030954</td>\n",
       "      <td>2019-05-07</td>\n",
       "      <td>Newly renovated Studio in the center of Paris</td>\n",
       "      <td>Newly renovated studio in the center of Paris ...</td>\n",
       "      <td>Completely renovated studio in the heart of Pa...</td>\n",
       "      <td>Newly renovated studio in the center of Paris ...</td>\n",
       "      <td>none</td>\n",
       "      <td>The studio is situated on the border to the 3r...</td>\n",
       "      <td>manquant</td>\n",
       "      <td>...</td>\n",
       "      <td>manquant</td>\n",
       "      <td>manquant</td>\n",
       "      <td>t</td>\n",
       "      <td>7511002575655</td>\n",
       "      <td>{PARIS}</td>\n",
       "      <td>f</td>\n",
       "      <td>f</td>\n",
       "      <td>flexible</td>\n",
       "      <td>f</td>\n",
       "      <td>f</td>\n",
       "    </tr>\n",
       "    <tr>\n",
       "      <th>34475492</th>\n",
       "      <td>https://www.airbnb.com/rooms/34475492</td>\n",
       "      <td>20190507030954</td>\n",
       "      <td>2019-05-08</td>\n",
       "      <td>New family flat in Paris</td>\n",
       "      <td>L'appartement est de 175m2, il est idéal pour ...</td>\n",
       "      <td>manquant</td>\n",
       "      <td>L'appartement est de 175m2, il est idéal pour ...</td>\n",
       "      <td>none</td>\n",
       "      <td>Beaucoup de commerces à proximité.</td>\n",
       "      <td>manquant</td>\n",
       "      <td>...</td>\n",
       "      <td>manquant</td>\n",
       "      <td>manquant</td>\n",
       "      <td>t</td>\n",
       "      <td>manquant</td>\n",
       "      <td>{PARIS}</td>\n",
       "      <td>f</td>\n",
       "      <td>f</td>\n",
       "      <td>strict_14_with_grace_period</td>\n",
       "      <td>f</td>\n",
       "      <td>f</td>\n",
       "    </tr>\n",
       "    <tr>\n",
       "      <th>34476275</th>\n",
       "      <td>https://www.airbnb.com/rooms/34476275</td>\n",
       "      <td>20190507030954</td>\n",
       "      <td>2019-05-07</td>\n",
       "      <td>Charmante Petite Maison près du Canal Saint Ma...</td>\n",
       "      <td>Charmante petite maison singulière au bord du ...</td>\n",
       "      <td>Maison signifie que vous n'aurez pas à porter ...</td>\n",
       "      <td>Charmante petite maison singulière au bord du ...</td>\n",
       "      <td>none</td>\n",
       "      <td>Le Canal Saint Martin, point fort du tourisme ...</td>\n",
       "      <td>manquant</td>\n",
       "      <td>...</td>\n",
       "      <td>manquant</td>\n",
       "      <td>manquant</td>\n",
       "      <td>t</td>\n",
       "      <td>manquant</td>\n",
       "      <td>{PARIS}</td>\n",
       "      <td>f</td>\n",
       "      <td>f</td>\n",
       "      <td>flexible</td>\n",
       "      <td>f</td>\n",
       "      <td>f</td>\n",
       "    </tr>\n",
       "    <tr>\n",
       "      <th>34476597</th>\n",
       "      <td>https://www.airbnb.com/rooms/34476597</td>\n",
       "      <td>20190507030954</td>\n",
       "      <td>2019-05-08</td>\n",
       "      <td>Quiet Pop Art Room / Central</td>\n",
       "      <td>The flat (103 m2), very quiet, is between the ...</td>\n",
       "      <td>The flat is very comfortable : fiber-optic wif...</td>\n",
       "      <td>The flat (103 m2), very quiet, is between the ...</td>\n",
       "      <td>none</td>\n",
       "      <td>The new &amp; lively Ave de France, next door, is ...</td>\n",
       "      <td>Other informations : - All charges included. -...</td>\n",
       "      <td>...</td>\n",
       "      <td>manquant</td>\n",
       "      <td>manquant</td>\n",
       "      <td>t</td>\n",
       "      <td>manquant</td>\n",
       "      <td>{PARIS}</td>\n",
       "      <td>f</td>\n",
       "      <td>f</td>\n",
       "      <td>moderate</td>\n",
       "      <td>f</td>\n",
       "      <td>f</td>\n",
       "    </tr>\n",
       "    <tr>\n",
       "      <th>34477345</th>\n",
       "      <td>https://www.airbnb.com/rooms/34477345</td>\n",
       "      <td>20190507030954</td>\n",
       "      <td>2019-05-07</td>\n",
       "      <td>Appartement au bord du Canal St Martin</td>\n",
       "      <td>Lumineux appartement de 40m2 au bord du Canal ...</td>\n",
       "      <td>Notre joli appartement est composé d'une chamb...</td>\n",
       "      <td>Lumineux appartement de 40m2 au bord du Canal ...</td>\n",
       "      <td>none</td>\n",
       "      <td>Notre appartement est idéalement situé : au pi...</td>\n",
       "      <td>manquant</td>\n",
       "      <td>...</td>\n",
       "      <td>manquant</td>\n",
       "      <td>manquant</td>\n",
       "      <td>t</td>\n",
       "      <td>manquant</td>\n",
       "      <td>{PARIS}</td>\n",
       "      <td>f</td>\n",
       "      <td>f</td>\n",
       "      <td>flexible</td>\n",
       "      <td>f</td>\n",
       "      <td>f</td>\n",
       "    </tr>\n",
       "  </tbody>\n",
       "</table>\n",
       "<p>59126 rows × 63 columns</p>\n",
       "</div>"
      ],
      "text/plain": [
       "                                    listing_url       scrape_id last_scraped  \\\n",
       "id                                                                             \n",
       "3109          https://www.airbnb.com/rooms/3109  20190507030954   2019-05-07   \n",
       "5396          https://www.airbnb.com/rooms/5396  20190507030954   2019-05-08   \n",
       "7397          https://www.airbnb.com/rooms/7397  20190507030954   2019-05-07   \n",
       "8522          https://www.airbnb.com/rooms/8522  20190507030954   2019-05-08   \n",
       "9359          https://www.airbnb.com/rooms/9359  20190507030954   2019-05-07   \n",
       "...                                         ...             ...          ...   \n",
       "34474966  https://www.airbnb.com/rooms/34474966  20190507030954   2019-05-07   \n",
       "34475492  https://www.airbnb.com/rooms/34475492  20190507030954   2019-05-08   \n",
       "34476275  https://www.airbnb.com/rooms/34476275  20190507030954   2019-05-07   \n",
       "34476597  https://www.airbnb.com/rooms/34476597  20190507030954   2019-05-08   \n",
       "34477345  https://www.airbnb.com/rooms/34477345  20190507030954   2019-05-07   \n",
       "\n",
       "                                                       name  \\\n",
       "id                                                            \n",
       "3109                                           zen and calm   \n",
       "5396                         Explore the heart of old Paris   \n",
       "7397                       MARAIS - 2ROOMS APT - 2/4 PEOPLE   \n",
       "8522                                GREAT FLAT w/ CITY VIEW   \n",
       "9359        Cozy, Central Paris: WALK or VELIB EVERYWHERE !   \n",
       "...                                                     ...   \n",
       "34474966      Newly renovated Studio in the center of Paris   \n",
       "34475492                           New family flat in Paris   \n",
       "34476275  Charmante Petite Maison près du Canal Saint Ma...   \n",
       "34476597                       Quiet Pop Art Room / Central   \n",
       "34477345             Appartement au bord du Canal St Martin   \n",
       "\n",
       "                                                    summary  \\\n",
       "id                                                            \n",
       "3109      Appartement très calme de 50M2 Utilisation de ...   \n",
       "5396      Cozy, well-appointed and graciously designed s...   \n",
       "7397              VERY CONVENIENT, WITH THE BEST LOCATION !   \n",
       "8522                                               manquant   \n",
       "9359      Location! Location! Location! Just bring your ...   \n",
       "...                                                     ...   \n",
       "34474966  Newly renovated studio in the center of Paris ...   \n",
       "34475492  L'appartement est de 175m2, il est idéal pour ...   \n",
       "34476275  Charmante petite maison singulière au bord du ...   \n",
       "34476597  The flat (103 m2), very quiet, is between the ...   \n",
       "34477345  Lumineux appartement de 40m2 au bord du Canal ...   \n",
       "\n",
       "                                                      space  \\\n",
       "id                                                            \n",
       "3109                       I bedroom appartment in Paris 14   \n",
       "5396      Small, well appointed studio apartment at the ...   \n",
       "7397      PLEASE ASK ME BEFORE TO MAKE A REQUEST !!! No ...   \n",
       "8522      Really nice flat located in the 20th district ...   \n",
       "9359      Since I live in the USA, it is difficult to ma...   \n",
       "...                                                     ...   \n",
       "34474966  Completely renovated studio in the heart of Pa...   \n",
       "34475492                                           manquant   \n",
       "34476275  Maison signifie que vous n'aurez pas à porter ...   \n",
       "34476597  The flat is very comfortable : fiber-optic wif...   \n",
       "34477345  Notre joli appartement est composé d'une chamb...   \n",
       "\n",
       "                                                description  \\\n",
       "id                                                            \n",
       "3109      I bedroom appartment in Paris 14 Good restaura...   \n",
       "5396      Cozy, well-appointed and graciously designed s...   \n",
       "7397      VERY CONVENIENT, WITH THE BEST LOCATION ! PLEA...   \n",
       "8522      Really nice flat located in the 20th district ...   \n",
       "9359      Location! Location! Location! Just bring your ...   \n",
       "...                                                     ...   \n",
       "34474966  Newly renovated studio in the center of Paris ...   \n",
       "34475492  L'appartement est de 175m2, il est idéal pour ...   \n",
       "34476275  Charmante petite maison singulière au bord du ...   \n",
       "34476597  The flat (103 m2), very quiet, is between the ...   \n",
       "34477345  Lumineux appartement de 40m2 au bord du Canal ...   \n",
       "\n",
       "         experiences_offered  \\\n",
       "id                             \n",
       "3109                    none   \n",
       "5396                    none   \n",
       "7397                    none   \n",
       "8522                    none   \n",
       "9359                    none   \n",
       "...                      ...   \n",
       "34474966                none   \n",
       "34475492                none   \n",
       "34476275                none   \n",
       "34476597                none   \n",
       "34477345                none   \n",
       "\n",
       "                                      neighborhood_overview  \\\n",
       "id                                                            \n",
       "3109      Good restaurants very close the Montparnasse S...   \n",
       "5396      You are within walking distance to the Louvre,...   \n",
       "7397                                               manquant   \n",
       "8522                                               manquant   \n",
       "9359                                               manquant   \n",
       "...                                                     ...   \n",
       "34474966  The studio is situated on the border to the 3r...   \n",
       "34475492                 Beaucoup de commerces à proximité.   \n",
       "34476275  Le Canal Saint Martin, point fort du tourisme ...   \n",
       "34476597  The new & lively Ave de France, next door, is ...   \n",
       "34477345  Notre appartement est idéalement situé : au pi...   \n",
       "\n",
       "                                                      notes  ... first_review  \\\n",
       "id                                                           ...                \n",
       "3109                                               manquant  ...   2016-12-27   \n",
       "5396      The staircase leading up to the apartment is n...  ...   2009-06-30   \n",
       "7397      Important: Be conscious that an apartment in a...  ...   2011-04-08   \n",
       "8522                                               manquant  ...   2010-06-16   \n",
       "9359                                 Velib station outside.  ...     manquant   \n",
       "...                                                     ...  ...          ...   \n",
       "34474966                                           manquant  ...     manquant   \n",
       "34475492                                           manquant  ...     manquant   \n",
       "34476275                                           manquant  ...     manquant   \n",
       "34476597  Other informations : - All charges included. -...  ...     manquant   \n",
       "34477345                                           manquant  ...     manquant   \n",
       "\n",
       "         last_review requires_license        license jurisdiction_names  \\\n",
       "id                                                                        \n",
       "3109      2018-12-19                t       manquant            {PARIS}   \n",
       "5396      2019-04-19                t  7510402838018            {PARIS}   \n",
       "7397      2019-04-20                t  7510400829623            {PARIS}   \n",
       "8522      2010-06-16                t       manquant            {PARIS}   \n",
       "9359        manquant                t       manquant            {PARIS}   \n",
       "...              ...              ...            ...                ...   \n",
       "34474966    manquant                t  7511002575655            {PARIS}   \n",
       "34475492    manquant                t       manquant            {PARIS}   \n",
       "34476275    manquant                t       manquant            {PARIS}   \n",
       "34476597    manquant                t       manquant            {PARIS}   \n",
       "34477345    manquant                t       manquant            {PARIS}   \n",
       "\n",
       "         instant_bookable is_business_travel_ready  \\\n",
       "id                                                   \n",
       "3109                    f                        f   \n",
       "5396                    t                        f   \n",
       "7397                    f                        f   \n",
       "8522                    f                        f   \n",
       "9359                    f                        f   \n",
       "...                   ...                      ...   \n",
       "34474966                f                        f   \n",
       "34475492                f                        f   \n",
       "34476275                f                        f   \n",
       "34476597                f                        f   \n",
       "34477345                f                        f   \n",
       "\n",
       "                  cancellation_policy require_guest_profile_picture  \\\n",
       "id                                                                    \n",
       "3109                         flexible                             f   \n",
       "5396      strict_14_with_grace_period                             f   \n",
       "7397                         moderate                             f   \n",
       "8522                         moderate                             f   \n",
       "9359      strict_14_with_grace_period                             t   \n",
       "...                               ...                           ...   \n",
       "34474966                     flexible                             f   \n",
       "34475492  strict_14_with_grace_period                             f   \n",
       "34476275                     flexible                             f   \n",
       "34476597                     moderate                             f   \n",
       "34477345                     flexible                             f   \n",
       "\n",
       "         require_guest_phone_verification  \n",
       "id                                         \n",
       "3109                                    f  \n",
       "5396                                    f  \n",
       "7397                                    f  \n",
       "8522                                    f  \n",
       "9359                                    t  \n",
       "...                                   ...  \n",
       "34474966                                f  \n",
       "34475492                                f  \n",
       "34476275                                f  \n",
       "34476597                                f  \n",
       "34477345                                f  \n",
       "\n",
       "[59126 rows x 63 columns]"
      ]
     },
     "execution_count": 53,
     "metadata": {},
     "output_type": "execute_result"
    }
   ],
   "source": [
    "airbnb.select_dtypes(object).fillna(\"manquant\")"
   ]
  },
  {
   "cell_type": "markdown",
   "metadata": {
    "slideshow": {
     "slide_type": "slide"
    }
   },
   "source": [
    "# Les jointures avec Pandas\n",
    "\n",
    "On veut joindre des jeux de données en utilisant des clés (variables communes)\n",
    "\n",
    "- `pd.merge()` permet de joindre deux DataFrame, on utilise comme options `on='key'`\n",
    "\n",
    "- On peut utiliser comme option `how=`, on peut avoir :\n",
    "    - `left` dans ce cas, on garde le jeu de données à gauche et pour les données de droite des valeurs manquantes sont ajoutées.\n",
    "    - `outer`, on garde toutes les valeurs des deux jeux de données\n",
    "    - ...\n",
    "\n",
    "- On peut avoir plusieurs clés et faire une jointure sur les deux clés `on=['key1','key2']`\n",
    "\n",
    "Pour plus de détails : <http://pandas.pydata.org/pandas-docs/dev/generated/pandas.DataFrame.merge.html>\n"
   ]
  },
  {
   "cell_type": "markdown",
   "metadata": {
    "slideshow": {
     "slide_type": "subslide"
    }
   },
   "source": [
    "**Exercice :**\n",
    "    \n",
    "Joindre deux dataframes (credit1 et credit2).\n"
   ]
  },
  {
   "cell_type": "code",
   "execution_count": 54,
   "metadata": {},
   "outputs": [
    {
     "name": "stderr",
     "output_type": "stream",
     "text": [
      "C:\\Users\\s4d-asus-14\\Anaconda3\\lib\\site-packages\\IPython\\core\\interactiveshell.py:3063: DtypeWarning: Columns (43,61,62) have mixed types.Specify dtype option on import or set low_memory=False.\n",
      "  interactivity=interactivity, compiler=compiler, result=result)\n"
     ]
    }
   ],
   "source": [
    "airbnb = pd.read_csv(\"https://www.stat4decision.com/airbnb.csv\")\n",
    "airbnb[\"price_num\"] = pd.to_numeric(airbnb[\"price\"].str[1:].str.replace(\",\",\"\"))\n",
    "\n",
    "airbnb_reduit = airbnb[[\"id\",\"price_num\",\"review_scores_location\"]]"
   ]
  },
  {
   "cell_type": "code",
   "execution_count": 55,
   "metadata": {},
   "outputs": [
    {
     "data": {
      "text/html": [
       "<div>\n",
       "<style scoped>\n",
       "    .dataframe tbody tr th:only-of-type {\n",
       "        vertical-align: middle;\n",
       "    }\n",
       "\n",
       "    .dataframe tbody tr th {\n",
       "        vertical-align: top;\n",
       "    }\n",
       "\n",
       "    .dataframe thead th {\n",
       "        text-align: right;\n",
       "    }\n",
       "</style>\n",
       "<table border=\"1\" class=\"dataframe\">\n",
       "  <thead>\n",
       "    <tr style=\"text-align: right;\">\n",
       "      <th></th>\n",
       "      <th>id</th>\n",
       "      <th>price_num</th>\n",
       "      <th>review_scores_location</th>\n",
       "    </tr>\n",
       "  </thead>\n",
       "  <tbody>\n",
       "    <tr>\n",
       "      <th>0</th>\n",
       "      <td>3109</td>\n",
       "      <td>75.0</td>\n",
       "      <td>10.0</td>\n",
       "    </tr>\n",
       "    <tr>\n",
       "      <th>1</th>\n",
       "      <td>5396</td>\n",
       "      <td>115.0</td>\n",
       "      <td>10.0</td>\n",
       "    </tr>\n",
       "    <tr>\n",
       "      <th>2</th>\n",
       "      <td>7397</td>\n",
       "      <td>115.0</td>\n",
       "      <td>10.0</td>\n",
       "    </tr>\n",
       "    <tr>\n",
       "      <th>3</th>\n",
       "      <td>8522</td>\n",
       "      <td>90.0</td>\n",
       "      <td>NaN</td>\n",
       "    </tr>\n",
       "    <tr>\n",
       "      <th>4</th>\n",
       "      <td>9359</td>\n",
       "      <td>75.0</td>\n",
       "      <td>NaN</td>\n",
       "    </tr>\n",
       "  </tbody>\n",
       "</table>\n",
       "</div>"
      ],
      "text/plain": [
       "     id  price_num  review_scores_location\n",
       "0  3109       75.0                    10.0\n",
       "1  5396      115.0                    10.0\n",
       "2  7397      115.0                    10.0\n",
       "3  8522       90.0                     NaN\n",
       "4  9359       75.0                     NaN"
      ]
     },
     "execution_count": 55,
     "metadata": {},
     "output_type": "execute_result"
    }
   ],
   "source": [
    "airbnb_reduit.head()"
   ]
  },
  {
   "cell_type": "code",
   "execution_count": 56,
   "metadata": {},
   "outputs": [],
   "source": [
    "calendrier = pd.read_csv(\"https://www.stat4decision.com/calendar.csv.gz\")"
   ]
  },
  {
   "cell_type": "code",
   "execution_count": 57,
   "metadata": {},
   "outputs": [
    {
     "data": {
      "text/html": [
       "<div>\n",
       "<style scoped>\n",
       "    .dataframe tbody tr th:only-of-type {\n",
       "        vertical-align: middle;\n",
       "    }\n",
       "\n",
       "    .dataframe tbody tr th {\n",
       "        vertical-align: top;\n",
       "    }\n",
       "\n",
       "    .dataframe thead th {\n",
       "        text-align: right;\n",
       "    }\n",
       "</style>\n",
       "<table border=\"1\" class=\"dataframe\">\n",
       "  <thead>\n",
       "    <tr style=\"text-align: right;\">\n",
       "      <th></th>\n",
       "      <th>listing_id</th>\n",
       "      <th>date</th>\n",
       "      <th>available</th>\n",
       "      <th>price</th>\n",
       "    </tr>\n",
       "  </thead>\n",
       "  <tbody>\n",
       "    <tr>\n",
       "      <th>0</th>\n",
       "      <td>2679020</td>\n",
       "      <td>2019-03-09</td>\n",
       "      <td>f</td>\n",
       "      <td>NaN</td>\n",
       "    </tr>\n",
       "    <tr>\n",
       "      <th>1</th>\n",
       "      <td>2679020</td>\n",
       "      <td>2019-03-08</td>\n",
       "      <td>f</td>\n",
       "      <td>NaN</td>\n",
       "    </tr>\n",
       "    <tr>\n",
       "      <th>2</th>\n",
       "      <td>2679020</td>\n",
       "      <td>2019-03-07</td>\n",
       "      <td>f</td>\n",
       "      <td>NaN</td>\n",
       "    </tr>\n",
       "    <tr>\n",
       "      <th>3</th>\n",
       "      <td>2679020</td>\n",
       "      <td>2019-03-06</td>\n",
       "      <td>f</td>\n",
       "      <td>NaN</td>\n",
       "    </tr>\n",
       "    <tr>\n",
       "      <th>4</th>\n",
       "      <td>2679020</td>\n",
       "      <td>2019-03-05</td>\n",
       "      <td>f</td>\n",
       "      <td>NaN</td>\n",
       "    </tr>\n",
       "  </tbody>\n",
       "</table>\n",
       "</div>"
      ],
      "text/plain": [
       "   listing_id        date available price\n",
       "0     2679020  2019-03-09         f   NaN\n",
       "1     2679020  2019-03-08         f   NaN\n",
       "2     2679020  2019-03-07         f   NaN\n",
       "3     2679020  2019-03-06         f   NaN\n",
       "4     2679020  2019-03-05         f   NaN"
      ]
     },
     "execution_count": 57,
     "metadata": {},
     "output_type": "execute_result"
    }
   ],
   "source": [
    "calendrier.head()"
   ]
  },
  {
   "cell_type": "code",
   "execution_count": 58,
   "metadata": {},
   "outputs": [],
   "source": [
    "airbnb_merged = pd.merge(airbnb_reduit,calendrier,right_on=\"listing_id\",left_on=\"id\")"
   ]
  },
  {
   "cell_type": "code",
   "execution_count": 59,
   "metadata": {},
   "outputs": [
    {
     "data": {
      "text/plain": [
       "(13286730, 7)"
      ]
     },
     "execution_count": 59,
     "metadata": {},
     "output_type": "execute_result"
    }
   ],
   "source": [
    "airbnb_merged.shape"
   ]
  },
  {
   "cell_type": "code",
   "execution_count": 60,
   "metadata": {},
   "outputs": [
    {
     "data": {
      "text/html": [
       "<div>\n",
       "<style scoped>\n",
       "    .dataframe tbody tr th:only-of-type {\n",
       "        vertical-align: middle;\n",
       "    }\n",
       "\n",
       "    .dataframe tbody tr th {\n",
       "        vertical-align: top;\n",
       "    }\n",
       "\n",
       "    .dataframe thead th {\n",
       "        text-align: right;\n",
       "    }\n",
       "</style>\n",
       "<table border=\"1\" class=\"dataframe\">\n",
       "  <thead>\n",
       "    <tr style=\"text-align: right;\">\n",
       "      <th></th>\n",
       "      <th>id</th>\n",
       "      <th>price_num</th>\n",
       "      <th>review_scores_location</th>\n",
       "      <th>listing_id</th>\n",
       "      <th>date</th>\n",
       "      <th>available</th>\n",
       "      <th>price</th>\n",
       "    </tr>\n",
       "  </thead>\n",
       "  <tbody>\n",
       "    <tr>\n",
       "      <th>0</th>\n",
       "      <td>3109</td>\n",
       "      <td>75.0</td>\n",
       "      <td>10.0</td>\n",
       "      <td>3109</td>\n",
       "      <td>2019-03-08</td>\n",
       "      <td>t</td>\n",
       "      <td>$59.00</td>\n",
       "    </tr>\n",
       "    <tr>\n",
       "      <th>1</th>\n",
       "      <td>3109</td>\n",
       "      <td>75.0</td>\n",
       "      <td>10.0</td>\n",
       "      <td>3109</td>\n",
       "      <td>2019-03-07</td>\n",
       "      <td>t</td>\n",
       "      <td>$59.00</td>\n",
       "    </tr>\n",
       "    <tr>\n",
       "      <th>2</th>\n",
       "      <td>3109</td>\n",
       "      <td>75.0</td>\n",
       "      <td>10.0</td>\n",
       "      <td>3109</td>\n",
       "      <td>2019-03-06</td>\n",
       "      <td>t</td>\n",
       "      <td>$59.00</td>\n",
       "    </tr>\n",
       "    <tr>\n",
       "      <th>3</th>\n",
       "      <td>3109</td>\n",
       "      <td>75.0</td>\n",
       "      <td>10.0</td>\n",
       "      <td>3109</td>\n",
       "      <td>2019-03-05</td>\n",
       "      <td>t</td>\n",
       "      <td>$59.00</td>\n",
       "    </tr>\n",
       "    <tr>\n",
       "      <th>4</th>\n",
       "      <td>3109</td>\n",
       "      <td>75.0</td>\n",
       "      <td>10.0</td>\n",
       "      <td>3109</td>\n",
       "      <td>2019-03-04</td>\n",
       "      <td>t</td>\n",
       "      <td>$59.00</td>\n",
       "    </tr>\n",
       "    <tr>\n",
       "      <th>...</th>\n",
       "      <td>...</td>\n",
       "      <td>...</td>\n",
       "      <td>...</td>\n",
       "      <td>...</td>\n",
       "      <td>...</td>\n",
       "      <td>...</td>\n",
       "      <td>...</td>\n",
       "    </tr>\n",
       "    <tr>\n",
       "      <th>13286725</th>\n",
       "      <td>23646909</td>\n",
       "      <td>37.0</td>\n",
       "      <td>9.0</td>\n",
       "      <td>23646909</td>\n",
       "      <td>2018-03-11</td>\n",
       "      <td>f</td>\n",
       "      <td>NaN</td>\n",
       "    </tr>\n",
       "    <tr>\n",
       "      <th>13286726</th>\n",
       "      <td>23646909</td>\n",
       "      <td>37.0</td>\n",
       "      <td>9.0</td>\n",
       "      <td>23646909</td>\n",
       "      <td>2018-03-10</td>\n",
       "      <td>f</td>\n",
       "      <td>NaN</td>\n",
       "    </tr>\n",
       "    <tr>\n",
       "      <th>13286727</th>\n",
       "      <td>23646909</td>\n",
       "      <td>37.0</td>\n",
       "      <td>9.0</td>\n",
       "      <td>23646909</td>\n",
       "      <td>2018-03-09</td>\n",
       "      <td>f</td>\n",
       "      <td>NaN</td>\n",
       "    </tr>\n",
       "    <tr>\n",
       "      <th>13286728</th>\n",
       "      <td>23646909</td>\n",
       "      <td>37.0</td>\n",
       "      <td>9.0</td>\n",
       "      <td>23646909</td>\n",
       "      <td>2018-03-08</td>\n",
       "      <td>f</td>\n",
       "      <td>NaN</td>\n",
       "    </tr>\n",
       "    <tr>\n",
       "      <th>13286729</th>\n",
       "      <td>23646909</td>\n",
       "      <td>37.0</td>\n",
       "      <td>9.0</td>\n",
       "      <td>23646909</td>\n",
       "      <td>2018-03-07</td>\n",
       "      <td>f</td>\n",
       "      <td>NaN</td>\n",
       "    </tr>\n",
       "  </tbody>\n",
       "</table>\n",
       "<p>13286730 rows × 7 columns</p>\n",
       "</div>"
      ],
      "text/plain": [
       "                id  price_num  review_scores_location  listing_id        date  \\\n",
       "0             3109       75.0                    10.0        3109  2019-03-08   \n",
       "1             3109       75.0                    10.0        3109  2019-03-07   \n",
       "2             3109       75.0                    10.0        3109  2019-03-06   \n",
       "3             3109       75.0                    10.0        3109  2019-03-05   \n",
       "4             3109       75.0                    10.0        3109  2019-03-04   \n",
       "...            ...        ...                     ...         ...         ...   \n",
       "13286725  23646909       37.0                     9.0    23646909  2018-03-11   \n",
       "13286726  23646909       37.0                     9.0    23646909  2018-03-10   \n",
       "13286727  23646909       37.0                     9.0    23646909  2018-03-09   \n",
       "13286728  23646909       37.0                     9.0    23646909  2018-03-08   \n",
       "13286729  23646909       37.0                     9.0    23646909  2018-03-07   \n",
       "\n",
       "         available   price  \n",
       "0                t  $59.00  \n",
       "1                t  $59.00  \n",
       "2                t  $59.00  \n",
       "3                t  $59.00  \n",
       "4                t  $59.00  \n",
       "...            ...     ...  \n",
       "13286725         f     NaN  \n",
       "13286726         f     NaN  \n",
       "13286727         f     NaN  \n",
       "13286728         f     NaN  \n",
       "13286729         f     NaN  \n",
       "\n",
       "[13286730 rows x 7 columns]"
      ]
     },
     "execution_count": 60,
     "metadata": {},
     "output_type": "execute_result"
    }
   ],
   "source": [
    "airbnb_merged"
   ]
  },
  {
   "cell_type": "code",
   "execution_count": 61,
   "metadata": {},
   "outputs": [
    {
     "data": {
      "text/plain": [
       "93.85356196294548"
      ]
     },
     "execution_count": 61,
     "metadata": {},
     "output_type": "execute_result"
    }
   ],
   "source": [
    "# calcul du prix moyen des apparatements disponibles available == \"t\"\n",
    "airbnb_merged[airbnb_merged[\"available\"]==\"f\"][\"price_num\"].mean()"
   ]
  },
  {
   "cell_type": "code",
   "execution_count": 62,
   "metadata": {},
   "outputs": [
    {
     "data": {
      "text/plain": [
       "f    0.78342\n",
       "t    0.21658\n",
       "Name: available, dtype: float64"
      ]
     },
     "execution_count": 62,
     "metadata": {},
     "output_type": "execute_result"
    }
   ],
   "source": [
    "airbnb_merged[\"available\"].value_counts(normalize=True)"
   ]
  },
  {
   "cell_type": "code",
   "execution_count": 63,
   "metadata": {},
   "outputs": [
    {
     "data": {
      "text/plain": [
       "'2019-03-09'"
      ]
     },
     "execution_count": 63,
     "metadata": {},
     "output_type": "execute_result"
    }
   ],
   "source": [
    "airbnb_merged[\"date\"].max()"
   ]
  },
  {
   "cell_type": "markdown",
   "metadata": {
    "slideshow": {
     "slide_type": "slide"
    }
   },
   "source": [
    "# Gestion des duplications\n",
    "\n",
    "- On utilise `.duplicated()` ou `.drop_duplicates()` dans le cas où on désire effacer les lignes se répétant\n",
    "\n",
    "\n",
    "- On peut se concentrer sur une seule variables en entrant directement le nom de la variable. Dans ce cas, c’est la première apparition qui compte. Si on veut prendre la dernière apparition, on utilise l’option `keep=\"last\"`. On pourra avoir :\n",
    "```python\n",
    "frame1.drop_duplicates([\"col_0\",\"col_1\"],keep=\"last\")\n",
    "```"
   ]
  },
  {
   "cell_type": "markdown",
   "metadata": {
    "slideshow": {
     "slide_type": "slide"
    }
   },
   "source": [
    "# Discrétisation\n",
    "\n",
    "Pour discrétiser, on utilise la fonction `pd.cut()`, on va définir une liste de points pour discrétiser et on entre cette liste comme second paramètre de la fonction.\n",
    "\n",
    "Une fois discrétisé, on peut afficher les modalités obtenues en utilisant `.categories`\n",
    "\n",
    "On peut aussi compter les occurrence en utilisant `pd.value_counts()`\n",
    "\n",
    "Il est aussi possible d’entrer le nombre de segments comme second paramètre\n",
    "\n",
    "On utilisera aussi `qcut()`"
   ]
  },
  {
   "cell_type": "markdown",
   "metadata": {
    "slideshow": {
     "slide_type": "subslide"
    }
   },
   "source": [
    "**Exercice :**\n",
    "    \n",
    "Créez une variable dans le dataframe AirBnB pour obtenir des niveaux de prix.\n"
   ]
  },
  {
   "cell_type": "code",
   "execution_count": 64,
   "metadata": {},
   "outputs": [],
   "source": [
    "airbnb[\"price_disc1\"]= pd.cut(airbnb[\"price_num\"],4)"
   ]
  },
  {
   "cell_type": "code",
   "execution_count": 65,
   "metadata": {},
   "outputs": [
    {
     "data": {
      "text/plain": [
       "(-9.379, 2344.75]    59104\n",
       "(2344.75, 4689.5]       11\n",
       "(7034.25, 9379.0]        6\n",
       "(4689.5, 7034.25]        5\n",
       "Name: price_disc1, dtype: int64"
      ]
     },
     "execution_count": 65,
     "metadata": {},
     "output_type": "execute_result"
    }
   ],
   "source": [
    "airbnb[\"price_disc1\"].value_counts()"
   ]
  },
  {
   "cell_type": "code",
   "execution_count": 66,
   "metadata": {},
   "outputs": [],
   "source": [
    "airbnb[\"price_disc2\"]= pd.qcut(airbnb[\"price_num\"],4)#,labels=range(1,5))"
   ]
  },
  {
   "cell_type": "code",
   "execution_count": 67,
   "metadata": {},
   "outputs": [
    {
     "data": {
      "text/plain": [
       "(59.0, 80.0]       15593\n",
       "(-0.001, 59.0]     14842\n",
       "(80.0, 120.0]      14573\n",
       "(120.0, 9379.0]    14118\n",
       "Name: price_disc2, dtype: int64"
      ]
     },
     "execution_count": 67,
     "metadata": {},
     "output_type": "execute_result"
    }
   ],
   "source": [
    "airbnb[\"price_disc2\"].value_counts()"
   ]
  },
  {
   "cell_type": "code",
   "execution_count": null,
   "metadata": {},
   "outputs": [],
   "source": []
  },
  {
   "cell_type": "markdown",
   "metadata": {
    "slideshow": {
     "slide_type": "slide"
    }
   },
   "source": [
    "# Les tableaux croisés avec Pandas\n",
    "\n",
    "Les DataFrame possèdent des méthodes pour générer des tableaux croisés, notamment :\n",
    "```python\n",
    "frame1.pivot_table()\n",
    "```\n",
    "Cette méthode permet de gérer de nombreux cas avec des fonctions standards et sur mesure."
   ]
  },
  {
   "cell_type": "markdown",
   "metadata": {
    "slideshow": {
     "slide_type": "subslide"
    }
   },
   "source": [
    "**Exercice :**\n",
    "    \n",
    "Afficher un tableau Pivot pour les données AirBnB."
   ]
  },
  {
   "cell_type": "code",
   "execution_count": 68,
   "metadata": {},
   "outputs": [
    {
     "data": {
      "text/html": [
       "<div>\n",
       "<style scoped>\n",
       "    .dataframe tbody tr th:only-of-type {\n",
       "        vertical-align: middle;\n",
       "    }\n",
       "\n",
       "    .dataframe tbody tr th {\n",
       "        vertical-align: top;\n",
       "    }\n",
       "\n",
       "    .dataframe thead tr th {\n",
       "        text-align: left;\n",
       "    }\n",
       "\n",
       "    .dataframe thead tr:last-of-type th {\n",
       "        text-align: right;\n",
       "    }\n",
       "</style>\n",
       "<table border=\"1\" class=\"dataframe\">\n",
       "  <thead>\n",
       "    <tr>\n",
       "      <th></th>\n",
       "      <th colspan=\"8\" halign=\"left\">count</th>\n",
       "      <th colspan=\"8\" halign=\"left\">mean</th>\n",
       "    </tr>\n",
       "    <tr>\n",
       "      <th>review_scores_location</th>\n",
       "      <th>2.0</th>\n",
       "      <th>4.0</th>\n",
       "      <th>5.0</th>\n",
       "      <th>6.0</th>\n",
       "      <th>7.0</th>\n",
       "      <th>8.0</th>\n",
       "      <th>9.0</th>\n",
       "      <th>10.0</th>\n",
       "      <th>2.0</th>\n",
       "      <th>4.0</th>\n",
       "      <th>5.0</th>\n",
       "      <th>6.0</th>\n",
       "      <th>7.0</th>\n",
       "      <th>8.0</th>\n",
       "      <th>9.0</th>\n",
       "      <th>10.0</th>\n",
       "    </tr>\n",
       "    <tr>\n",
       "      <th>cancellation_policy</th>\n",
       "      <th></th>\n",
       "      <th></th>\n",
       "      <th></th>\n",
       "      <th></th>\n",
       "      <th></th>\n",
       "      <th></th>\n",
       "      <th></th>\n",
       "      <th></th>\n",
       "      <th></th>\n",
       "      <th></th>\n",
       "      <th></th>\n",
       "      <th></th>\n",
       "      <th></th>\n",
       "      <th></th>\n",
       "      <th></th>\n",
       "      <th></th>\n",
       "    </tr>\n",
       "  </thead>\n",
       "  <tbody>\n",
       "    <tr>\n",
       "      <th>flexible</th>\n",
       "      <td>11.0</td>\n",
       "      <td>14.0</td>\n",
       "      <td>4.0</td>\n",
       "      <td>108.0</td>\n",
       "      <td>76.0</td>\n",
       "      <td>816.0</td>\n",
       "      <td>2796.0</td>\n",
       "      <td>9136.0</td>\n",
       "      <td>87.636364</td>\n",
       "      <td>194.142857</td>\n",
       "      <td>78.250</td>\n",
       "      <td>100.425926</td>\n",
       "      <td>63.131579</td>\n",
       "      <td>86.116422</td>\n",
       "      <td>72.940987</td>\n",
       "      <td>93.324102</td>\n",
       "    </tr>\n",
       "    <tr>\n",
       "      <th>moderate</th>\n",
       "      <td>9.0</td>\n",
       "      <td>4.0</td>\n",
       "      <td>5.0</td>\n",
       "      <td>48.0</td>\n",
       "      <td>90.0</td>\n",
       "      <td>647.0</td>\n",
       "      <td>3774.0</td>\n",
       "      <td>10958.0</td>\n",
       "      <td>133.000000</td>\n",
       "      <td>51.250000</td>\n",
       "      <td>113.000</td>\n",
       "      <td>102.270833</td>\n",
       "      <td>79.688889</td>\n",
       "      <td>88.403400</td>\n",
       "      <td>89.689189</td>\n",
       "      <td>105.802336</td>\n",
       "    </tr>\n",
       "    <tr>\n",
       "      <th>strict</th>\n",
       "      <td>NaN</td>\n",
       "      <td>NaN</td>\n",
       "      <td>NaN</td>\n",
       "      <td>NaN</td>\n",
       "      <td>NaN</td>\n",
       "      <td>NaN</td>\n",
       "      <td>NaN</td>\n",
       "      <td>1.0</td>\n",
       "      <td>NaN</td>\n",
       "      <td>NaN</td>\n",
       "      <td>NaN</td>\n",
       "      <td>NaN</td>\n",
       "      <td>NaN</td>\n",
       "      <td>NaN</td>\n",
       "      <td>NaN</td>\n",
       "      <td>38.000000</td>\n",
       "    </tr>\n",
       "    <tr>\n",
       "      <th>strict_14_with_grace_period</th>\n",
       "      <td>12.0</td>\n",
       "      <td>9.0</td>\n",
       "      <td>8.0</td>\n",
       "      <td>61.0</td>\n",
       "      <td>84.0</td>\n",
       "      <td>571.0</td>\n",
       "      <td>3424.0</td>\n",
       "      <td>12184.0</td>\n",
       "      <td>160.750000</td>\n",
       "      <td>109.333333</td>\n",
       "      <td>60.375</td>\n",
       "      <td>100.557377</td>\n",
       "      <td>94.511905</td>\n",
       "      <td>119.387040</td>\n",
       "      <td>104.859229</td>\n",
       "      <td>137.705926</td>\n",
       "    </tr>\n",
       "    <tr>\n",
       "      <th>super_strict_30</th>\n",
       "      <td>1.0</td>\n",
       "      <td>NaN</td>\n",
       "      <td>NaN</td>\n",
       "      <td>1.0</td>\n",
       "      <td>1.0</td>\n",
       "      <td>8.0</td>\n",
       "      <td>29.0</td>\n",
       "      <td>60.0</td>\n",
       "      <td>71.000000</td>\n",
       "      <td>NaN</td>\n",
       "      <td>NaN</td>\n",
       "      <td>100.000000</td>\n",
       "      <td>177.000000</td>\n",
       "      <td>115.875000</td>\n",
       "      <td>279.586207</td>\n",
       "      <td>263.633333</td>\n",
       "    </tr>\n",
       "    <tr>\n",
       "      <th>super_strict_60</th>\n",
       "      <td>NaN</td>\n",
       "      <td>NaN</td>\n",
       "      <td>NaN</td>\n",
       "      <td>NaN</td>\n",
       "      <td>1.0</td>\n",
       "      <td>9.0</td>\n",
       "      <td>31.0</td>\n",
       "      <td>72.0</td>\n",
       "      <td>NaN</td>\n",
       "      <td>NaN</td>\n",
       "      <td>NaN</td>\n",
       "      <td>NaN</td>\n",
       "      <td>64.000000</td>\n",
       "      <td>288.000000</td>\n",
       "      <td>136.870968</td>\n",
       "      <td>433.750000</td>\n",
       "    </tr>\n",
       "  </tbody>\n",
       "</table>\n",
       "</div>"
      ],
      "text/plain": [
       "                            count                                         \\\n",
       "review_scores_location       2.0   4.0  5.0    6.0   7.0    8.0     9.0    \n",
       "cancellation_policy                                                        \n",
       "flexible                     11.0  14.0  4.0  108.0  76.0  816.0  2796.0   \n",
       "moderate                      9.0   4.0  5.0   48.0  90.0  647.0  3774.0   \n",
       "strict                        NaN   NaN  NaN    NaN   NaN    NaN     NaN   \n",
       "strict_14_with_grace_period  12.0   9.0  8.0   61.0  84.0  571.0  3424.0   \n",
       "super_strict_30               1.0   NaN  NaN    1.0   1.0    8.0    29.0   \n",
       "super_strict_60               NaN   NaN  NaN    NaN   1.0    9.0    31.0   \n",
       "\n",
       "                                            mean                       \\\n",
       "review_scores_location          10.0        2.0         4.0      5.0    \n",
       "cancellation_policy                                                     \n",
       "flexible                      9136.0   87.636364  194.142857   78.250   \n",
       "moderate                     10958.0  133.000000   51.250000  113.000   \n",
       "strict                           1.0         NaN         NaN      NaN   \n",
       "strict_14_with_grace_period  12184.0  160.750000  109.333333   60.375   \n",
       "super_strict_30                 60.0   71.000000         NaN      NaN   \n",
       "super_strict_60                 72.0         NaN         NaN      NaN   \n",
       "\n",
       "                                                                             \\\n",
       "review_scores_location             6.0         7.0         8.0         9.0    \n",
       "cancellation_policy                                                           \n",
       "flexible                     100.425926   63.131579   86.116422   72.940987   \n",
       "moderate                     102.270833   79.688889   88.403400   89.689189   \n",
       "strict                              NaN         NaN         NaN         NaN   \n",
       "strict_14_with_grace_period  100.557377   94.511905  119.387040  104.859229   \n",
       "super_strict_30              100.000000  177.000000  115.875000  279.586207   \n",
       "super_strict_60                     NaN   64.000000  288.000000  136.870968   \n",
       "\n",
       "                                         \n",
       "review_scores_location             10.0  \n",
       "cancellation_policy                      \n",
       "flexible                      93.324102  \n",
       "moderate                     105.802336  \n",
       "strict                        38.000000  \n",
       "strict_14_with_grace_period  137.705926  \n",
       "super_strict_30              263.633333  \n",
       "super_strict_60              433.750000  "
      ]
     },
     "execution_count": 68,
     "metadata": {},
     "output_type": "execute_result"
    }
   ],
   "source": [
    "airbnb.pivot_table(values=\"price_num\",\n",
    "                   index=\"cancellation_policy\",\n",
    "                   columns=\"review_scores_location\",\n",
    "                   aggfunc=[\"count\",\"mean\",])"
   ]
  },
  {
   "cell_type": "code",
   "execution_count": 69,
   "metadata": {},
   "outputs": [
    {
     "data": {
      "text/html": [
       "<div>\n",
       "<style scoped>\n",
       "    .dataframe tbody tr th:only-of-type {\n",
       "        vertical-align: middle;\n",
       "    }\n",
       "\n",
       "    .dataframe tbody tr th {\n",
       "        vertical-align: top;\n",
       "    }\n",
       "\n",
       "    .dataframe thead tr th {\n",
       "        text-align: left;\n",
       "    }\n",
       "\n",
       "    .dataframe thead tr:last-of-type th {\n",
       "        text-align: right;\n",
       "    }\n",
       "</style>\n",
       "<table border=\"1\" class=\"dataframe\">\n",
       "  <thead>\n",
       "    <tr>\n",
       "      <th></th>\n",
       "      <th colspan=\"8\" halign=\"left\">count</th>\n",
       "    </tr>\n",
       "    <tr>\n",
       "      <th>review_scores_location</th>\n",
       "      <th>2.0</th>\n",
       "      <th>4.0</th>\n",
       "      <th>5.0</th>\n",
       "      <th>6.0</th>\n",
       "      <th>7.0</th>\n",
       "      <th>8.0</th>\n",
       "      <th>9.0</th>\n",
       "      <th>10.0</th>\n",
       "    </tr>\n",
       "    <tr>\n",
       "      <th>cancellation_policy</th>\n",
       "      <th></th>\n",
       "      <th></th>\n",
       "      <th></th>\n",
       "      <th></th>\n",
       "      <th></th>\n",
       "      <th></th>\n",
       "      <th></th>\n",
       "      <th></th>\n",
       "    </tr>\n",
       "  </thead>\n",
       "  <tbody>\n",
       "    <tr>\n",
       "      <th>flexible</th>\n",
       "      <td>0.000849</td>\n",
       "      <td>0.001080</td>\n",
       "      <td>0.000309</td>\n",
       "      <td>0.008333</td>\n",
       "      <td>0.005864</td>\n",
       "      <td>0.062958</td>\n",
       "      <td>0.215724</td>\n",
       "      <td>0.704884</td>\n",
       "    </tr>\n",
       "    <tr>\n",
       "      <th>moderate</th>\n",
       "      <td>0.000579</td>\n",
       "      <td>0.000257</td>\n",
       "      <td>0.000322</td>\n",
       "      <td>0.003090</td>\n",
       "      <td>0.005793</td>\n",
       "      <td>0.041648</td>\n",
       "      <td>0.242935</td>\n",
       "      <td>0.705375</td>\n",
       "    </tr>\n",
       "    <tr>\n",
       "      <th>strict</th>\n",
       "      <td>0.000000</td>\n",
       "      <td>0.000000</td>\n",
       "      <td>0.000000</td>\n",
       "      <td>0.000000</td>\n",
       "      <td>0.000000</td>\n",
       "      <td>0.000000</td>\n",
       "      <td>0.000000</td>\n",
       "      <td>1.000000</td>\n",
       "    </tr>\n",
       "    <tr>\n",
       "      <th>strict_14_with_grace_period</th>\n",
       "      <td>0.000734</td>\n",
       "      <td>0.000550</td>\n",
       "      <td>0.000489</td>\n",
       "      <td>0.003730</td>\n",
       "      <td>0.005137</td>\n",
       "      <td>0.034917</td>\n",
       "      <td>0.209381</td>\n",
       "      <td>0.745062</td>\n",
       "    </tr>\n",
       "    <tr>\n",
       "      <th>super_strict_30</th>\n",
       "      <td>0.010000</td>\n",
       "      <td>0.000000</td>\n",
       "      <td>0.000000</td>\n",
       "      <td>0.010000</td>\n",
       "      <td>0.010000</td>\n",
       "      <td>0.080000</td>\n",
       "      <td>0.290000</td>\n",
       "      <td>0.600000</td>\n",
       "    </tr>\n",
       "    <tr>\n",
       "      <th>super_strict_60</th>\n",
       "      <td>0.000000</td>\n",
       "      <td>0.000000</td>\n",
       "      <td>0.000000</td>\n",
       "      <td>0.000000</td>\n",
       "      <td>0.008850</td>\n",
       "      <td>0.079646</td>\n",
       "      <td>0.274336</td>\n",
       "      <td>0.637168</td>\n",
       "    </tr>\n",
       "  </tbody>\n",
       "</table>\n",
       "</div>"
      ],
      "text/plain": [
       "                                count                                          \\\n",
       "review_scores_location           2.0       4.0       5.0       6.0       7.0    \n",
       "cancellation_policy                                                             \n",
       "flexible                     0.000849  0.001080  0.000309  0.008333  0.005864   \n",
       "moderate                     0.000579  0.000257  0.000322  0.003090  0.005793   \n",
       "strict                       0.000000  0.000000  0.000000  0.000000  0.000000   \n",
       "strict_14_with_grace_period  0.000734  0.000550  0.000489  0.003730  0.005137   \n",
       "super_strict_30              0.010000  0.000000  0.000000  0.010000  0.010000   \n",
       "super_strict_60              0.000000  0.000000  0.000000  0.000000  0.008850   \n",
       "\n",
       "                                                           \n",
       "review_scores_location           8.0       9.0       10.0  \n",
       "cancellation_policy                                        \n",
       "flexible                     0.062958  0.215724  0.704884  \n",
       "moderate                     0.041648  0.242935  0.705375  \n",
       "strict                       0.000000  0.000000  1.000000  \n",
       "strict_14_with_grace_period  0.034917  0.209381  0.745062  \n",
       "super_strict_30              0.080000  0.290000  0.600000  \n",
       "super_strict_60              0.079646  0.274336  0.637168  "
      ]
     },
     "execution_count": 69,
     "metadata": {},
     "output_type": "execute_result"
    }
   ],
   "source": [
    "pd.crosstab(values=airbnb[\"price_num\"],\n",
    "                   index=airbnb[\"cancellation_policy\"],\n",
    "                   columns=airbnb[\"review_scores_location\"],\n",
    "                   aggfunc=[\"count\"],normalize=\"index\")"
   ]
  },
  {
   "cell_type": "code",
   "execution_count": 70,
   "metadata": {},
   "outputs": [
    {
     "data": {
      "text/html": [
       "<div>\n",
       "<style scoped>\n",
       "    .dataframe tbody tr th:only-of-type {\n",
       "        vertical-align: middle;\n",
       "    }\n",
       "\n",
       "    .dataframe tbody tr th {\n",
       "        vertical-align: top;\n",
       "    }\n",
       "\n",
       "    .dataframe thead tr th {\n",
       "        text-align: left;\n",
       "    }\n",
       "\n",
       "    .dataframe thead tr:last-of-type th {\n",
       "        text-align: right;\n",
       "    }\n",
       "</style>\n",
       "<table border=\"1\" class=\"dataframe\">\n",
       "  <thead>\n",
       "    <tr>\n",
       "      <th></th>\n",
       "      <th colspan=\"8\" halign=\"left\">count</th>\n",
       "    </tr>\n",
       "    <tr>\n",
       "      <th>review_scores_location</th>\n",
       "      <th>2.0</th>\n",
       "      <th>4.0</th>\n",
       "      <th>5.0</th>\n",
       "      <th>6.0</th>\n",
       "      <th>7.0</th>\n",
       "      <th>8.0</th>\n",
       "      <th>9.0</th>\n",
       "      <th>10.0</th>\n",
       "    </tr>\n",
       "    <tr>\n",
       "      <th>price_disc2</th>\n",
       "      <th></th>\n",
       "      <th></th>\n",
       "      <th></th>\n",
       "      <th></th>\n",
       "      <th></th>\n",
       "      <th></th>\n",
       "      <th></th>\n",
       "      <th></th>\n",
       "    </tr>\n",
       "  </thead>\n",
       "  <tbody>\n",
       "    <tr>\n",
       "      <th>(-0.001, 59.0]</th>\n",
       "      <td>0.000776</td>\n",
       "      <td>0.001293</td>\n",
       "      <td>0.000431</td>\n",
       "      <td>0.006723</td>\n",
       "      <td>0.010343</td>\n",
       "      <td>0.070850</td>\n",
       "      <td>0.305551</td>\n",
       "      <td>0.604034</td>\n",
       "    </tr>\n",
       "    <tr>\n",
       "      <th>(59.0, 80.0]</th>\n",
       "      <td>0.000417</td>\n",
       "      <td>0.000333</td>\n",
       "      <td>0.000667</td>\n",
       "      <td>0.005166</td>\n",
       "      <td>0.005832</td>\n",
       "      <td>0.048659</td>\n",
       "      <td>0.238627</td>\n",
       "      <td>0.700300</td>\n",
       "    </tr>\n",
       "    <tr>\n",
       "      <th>(80.0, 120.0]</th>\n",
       "      <td>0.000982</td>\n",
       "      <td>0.000357</td>\n",
       "      <td>0.000089</td>\n",
       "      <td>0.003751</td>\n",
       "      <td>0.002947</td>\n",
       "      <td>0.031973</td>\n",
       "      <td>0.191926</td>\n",
       "      <td>0.767974</td>\n",
       "    </tr>\n",
       "    <tr>\n",
       "      <th>(120.0, 9379.0]</th>\n",
       "      <td>0.000780</td>\n",
       "      <td>0.000390</td>\n",
       "      <td>0.000292</td>\n",
       "      <td>0.003508</td>\n",
       "      <td>0.002826</td>\n",
       "      <td>0.027967</td>\n",
       "      <td>0.145781</td>\n",
       "      <td>0.818456</td>\n",
       "    </tr>\n",
       "  </tbody>\n",
       "</table>\n",
       "</div>"
      ],
      "text/plain": [
       "                           count                                          \\\n",
       "review_scores_location      2.0       4.0       5.0       6.0       7.0    \n",
       "price_disc2                                                                \n",
       "(-0.001, 59.0]          0.000776  0.001293  0.000431  0.006723  0.010343   \n",
       "(59.0, 80.0]            0.000417  0.000333  0.000667  0.005166  0.005832   \n",
       "(80.0, 120.0]           0.000982  0.000357  0.000089  0.003751  0.002947   \n",
       "(120.0, 9379.0]         0.000780  0.000390  0.000292  0.003508  0.002826   \n",
       "\n",
       "                                                      \n",
       "review_scores_location      8.0       9.0       10.0  \n",
       "price_disc2                                           \n",
       "(-0.001, 59.0]          0.070850  0.305551  0.604034  \n",
       "(59.0, 80.0]            0.048659  0.238627  0.700300  \n",
       "(80.0, 120.0]           0.031973  0.191926  0.767974  \n",
       "(120.0, 9379.0]         0.027967  0.145781  0.818456  "
      ]
     },
     "execution_count": 70,
     "metadata": {},
     "output_type": "execute_result"
    }
   ],
   "source": [
    "pd.crosstab(values=airbnb[\"price_num\"],\n",
    "                   index=airbnb[\"price_disc2\"],\n",
    "                   columns=airbnb[\"review_scores_location\"],\n",
    "                   aggfunc=[\"count\"],normalize=\"index\")"
   ]
  },
  {
   "cell_type": "code",
   "execution_count": 71,
   "metadata": {},
   "outputs": [
    {
     "data": {
      "text/plain": [
       "<matplotlib.colorbar.Colorbar at 0x1a6071dbe08>"
      ]
     },
     "execution_count": 71,
     "metadata": {},
     "output_type": "execute_result"
    },
    {
     "data": {
      "image/png": "[encoded data removed]",
      "text/plain": [
       "<Figure size 432x288 with 2 Axes>"
      ]
     },
     "metadata": {
      "needs_background": "light"
     },
     "output_type": "display_data"
    }
   ],
   "source": [
    "plt.scatter(\"longitude\",\"latitude\", data=airbnb[airbnb[\"price_num\"]<500], s=1, c=\"price_num\")\n",
    "plt.colorbar()"
   ]
  },
  {
   "cell_type": "markdown",
   "metadata": {
    "slideshow": {
     "slide_type": "slide"
    }
   },
   "source": [
    "# L'utilisation de GroupBy sur des DataFrame\n",
    "\n",
    "- `.groupby` permet de rassembler des observations en fonction d’une variable dite de groupe\n",
    "\n",
    "\n",
    "- Par exemple, `frame.groupby('X').mean()` donnera les moyennes par groupes de `X`\n",
    "\n",
    "\n",
    "- On peut aussi utiliser `.size()` pour connaître la taille des groupes et utiliser d’autres fonctions (`.sum()`)\n",
    "\n",
    "\n",
    "- On peut effectuer de nombreuses opérations de traitement avec le groupby\n"
   ]
  },
  {
   "cell_type": "markdown",
   "metadata": {
    "slideshow": {
     "slide_type": "subslide"
    }
   },
   "source": [
    "**Exercice :**\n",
    "    \n",
    "- Données sur les salaires\n",
    "\n",
    "\n",
    "- On utilise le `groupby()` pour rassembler les types d’emploi\n",
    "\n",
    "\n",
    "- Et on calcule des statistiques pour chaque type\n",
    "\n",
    "\n",
    "On peut utiliser la méthode `.agg()` avec par exemple `'mean'` comme paramètre\n",
    "\n",
    "On utilise aussi fréquemment la méthode `.apply()` combinée à une fonction lambda"
   ]
  },
  {
   "cell_type": "code",
   "execution_count": 72,
   "metadata": {},
   "outputs": [],
   "source": [
    "airbnb_group = airbnb.groupby(\"review_scores_location\")"
   ]
  },
  {
   "cell_type": "code",
   "execution_count": 73,
   "metadata": {},
   "outputs": [
    {
     "data": {
      "text/html": [
       "<div>\n",
       "<style scoped>\n",
       "    .dataframe tbody tr th:only-of-type {\n",
       "        vertical-align: middle;\n",
       "    }\n",
       "\n",
       "    .dataframe tbody tr th {\n",
       "        vertical-align: top;\n",
       "    }\n",
       "\n",
       "    .dataframe thead th {\n",
       "        text-align: right;\n",
       "    }\n",
       "</style>\n",
       "<table border=\"1\" class=\"dataframe\">\n",
       "  <thead>\n",
       "    <tr style=\"text-align: right;\">\n",
       "      <th></th>\n",
       "      <th>count</th>\n",
       "      <th>mean</th>\n",
       "      <th>std</th>\n",
       "      <th>min</th>\n",
       "      <th>25%</th>\n",
       "      <th>50%</th>\n",
       "      <th>75%</th>\n",
       "      <th>max</th>\n",
       "    </tr>\n",
       "    <tr>\n",
       "      <th>review_scores_location</th>\n",
       "      <th></th>\n",
       "      <th></th>\n",
       "      <th></th>\n",
       "      <th></th>\n",
       "      <th></th>\n",
       "      <th></th>\n",
       "      <th></th>\n",
       "      <th></th>\n",
       "    </tr>\n",
       "  </thead>\n",
       "  <tbody>\n",
       "    <tr>\n",
       "      <th>2.0</th>\n",
       "      <td>33.0</td>\n",
       "      <td>126.090909</td>\n",
       "      <td>127.207106</td>\n",
       "      <td>23.0</td>\n",
       "      <td>55.0</td>\n",
       "      <td>92.0</td>\n",
       "      <td>120.0</td>\n",
       "      <td>700.0</td>\n",
       "    </tr>\n",
       "    <tr>\n",
       "      <th>4.0</th>\n",
       "      <td>27.0</td>\n",
       "      <td>144.703704</td>\n",
       "      <td>375.570009</td>\n",
       "      <td>18.0</td>\n",
       "      <td>37.5</td>\n",
       "      <td>57.0</td>\n",
       "      <td>97.5</td>\n",
       "      <td>2000.0</td>\n",
       "    </tr>\n",
       "    <tr>\n",
       "      <th>5.0</th>\n",
       "      <td>17.0</td>\n",
       "      <td>80.058824</td>\n",
       "      <td>52.544589</td>\n",
       "      <td>23.0</td>\n",
       "      <td>59.0</td>\n",
       "      <td>65.0</td>\n",
       "      <td>78.0</td>\n",
       "      <td>229.0</td>\n",
       "    </tr>\n",
       "    <tr>\n",
       "      <th>6.0</th>\n",
       "      <td>218.0</td>\n",
       "      <td>100.866972</td>\n",
       "      <td>129.090958</td>\n",
       "      <td>20.0</td>\n",
       "      <td>50.0</td>\n",
       "      <td>70.0</td>\n",
       "      <td>100.0</td>\n",
       "      <td>1000.0</td>\n",
       "    </tr>\n",
       "    <tr>\n",
       "      <th>7.0</th>\n",
       "      <td>252.0</td>\n",
       "      <td>79.960317</td>\n",
       "      <td>78.992349</td>\n",
       "      <td>20.0</td>\n",
       "      <td>45.0</td>\n",
       "      <td>60.0</td>\n",
       "      <td>80.0</td>\n",
       "      <td>850.0</td>\n",
       "    </tr>\n",
       "    <tr>\n",
       "      <th>8.0</th>\n",
       "      <td>2051.0</td>\n",
       "      <td>97.102389</td>\n",
       "      <td>289.713310</td>\n",
       "      <td>8.0</td>\n",
       "      <td>49.0</td>\n",
       "      <td>65.0</td>\n",
       "      <td>95.0</td>\n",
       "      <td>8932.0</td>\n",
       "    </tr>\n",
       "    <tr>\n",
       "      <th>9.0</th>\n",
       "      <td>10054.0</td>\n",
       "      <td>90.891088</td>\n",
       "      <td>145.389518</td>\n",
       "      <td>9.0</td>\n",
       "      <td>50.0</td>\n",
       "      <td>70.0</td>\n",
       "      <td>99.0</td>\n",
       "      <td>9379.0</td>\n",
       "    </tr>\n",
       "    <tr>\n",
       "      <th>10.0</th>\n",
       "      <td>32411.0</td>\n",
       "      <td>115.296844</td>\n",
       "      <td>135.184223</td>\n",
       "      <td>0.0</td>\n",
       "      <td>60.0</td>\n",
       "      <td>85.0</td>\n",
       "      <td>125.0</td>\n",
       "      <td>8576.0</td>\n",
       "    </tr>\n",
       "  </tbody>\n",
       "</table>\n",
       "</div>"
      ],
      "text/plain": [
       "                          count        mean         std   min   25%   50%  \\\n",
       "review_scores_location                                                      \n",
       "2.0                        33.0  126.090909  127.207106  23.0  55.0  92.0   \n",
       "4.0                        27.0  144.703704  375.570009  18.0  37.5  57.0   \n",
       "5.0                        17.0   80.058824   52.544589  23.0  59.0  65.0   \n",
       "6.0                       218.0  100.866972  129.090958  20.0  50.0  70.0   \n",
       "7.0                       252.0   79.960317   78.992349  20.0  45.0  60.0   \n",
       "8.0                      2051.0   97.102389  289.713310   8.0  49.0  65.0   \n",
       "9.0                     10054.0   90.891088  145.389518   9.0  50.0  70.0   \n",
       "10.0                    32411.0  115.296844  135.184223   0.0  60.0  85.0   \n",
       "\n",
       "                          75%     max  \n",
       "review_scores_location                 \n",
       "2.0                     120.0   700.0  \n",
       "4.0                      97.5  2000.0  \n",
       "5.0                      78.0   229.0  \n",
       "6.0                     100.0  1000.0  \n",
       "7.0                      80.0   850.0  \n",
       "8.0                      95.0  8932.0  \n",
       "9.0                      99.0  9379.0  \n",
       "10.0                    125.0  8576.0  "
      ]
     },
     "execution_count": 73,
     "metadata": {},
     "output_type": "execute_result"
    }
   ],
   "source": [
    "airbnb_group[\"price_num\"].describe()"
   ]
  },
  {
   "cell_type": "code",
   "execution_count": 74,
   "metadata": {},
   "outputs": [
    {
     "data": {
      "text/plain": [
       "transit operator                                    9424\n",
       "special nurse                                       5791\n",
       "registered nurse                                    4955\n",
       "custodian                                           3214\n",
       "firefighter                                         3153\n",
       "                                                    ... \n",
       "asst. chief probation officer-juvenile probation       1\n",
       "is technician assistant                                1\n",
       "acpo,juvp, juv prob (sfers)                            1\n",
       "power plant supervisor i                               1\n",
       "veterniary laboratory technologist                     1\n",
       "Name: JobTitle, Length: 1637, dtype: int64"
      ]
     },
     "execution_count": 74,
     "metadata": {},
     "output_type": "execute_result"
    }
   ],
   "source": [
    "salaries[\"JobTitle\"].str.lower().value_counts()"
   ]
  },
  {
   "cell_type": "code",
   "execution_count": 75,
   "metadata": {},
   "outputs": [
    {
     "data": {
      "text/plain": [
       "Transit Operator                                 7036\n",
       "Special Nurse                                    4389\n",
       "Registered Nurse                                 3736\n",
       "Public Svc Aide-Public Works                     2518\n",
       "Police Officer 3                                 2421\n",
       "                                                 ... \n",
       "CEMENT FINISHER SUPERVISOR II                       1\n",
       "SECRETARY, COMMISSION ON THE ENVIRONMENT            1\n",
       "MEDIA/SECURITY SYSTEMS SUPERVISOR                   1\n",
       "LEGISLATIVE ASSISTANT, CITY ATTORNEY'S OFFICE       1\n",
       "MANAGER, UNIFIED FAMILY COURT SERVICES              1\n",
       "Name: JobTitle, Length: 2159, dtype: int64"
      ]
     },
     "execution_count": 75,
     "metadata": {},
     "output_type": "execute_result"
    }
   ],
   "source": [
    "salaries[\"JobTitle\"].value_counts()"
   ]
  },
  {
   "cell_type": "code",
   "execution_count": 76,
   "metadata": {},
   "outputs": [],
   "source": [
    "salaries[\"JobTitle\"] = salaries[\"JobTitle\"].str.lower()"
   ]
  },
  {
   "cell_type": "code",
   "execution_count": 77,
   "metadata": {},
   "outputs": [
    {
     "name": "stdout",
     "output_type": "stream",
     "text": [
      "<class 'pandas.core.frame.DataFrame'>\n",
      "RangeIndex: 148654 entries, 0 to 148653\n",
      "Data columns (total 13 columns):\n",
      " #   Column            Non-Null Count   Dtype  \n",
      "---  ------            --------------   -----  \n",
      " 0   Id                148654 non-null  int64  \n",
      " 1   EmployeeName      148654 non-null  object \n",
      " 2   JobTitle          148654 non-null  object \n",
      " 3   BasePay           148654 non-null  object \n",
      " 4   OvertimePay       148654 non-null  object \n",
      " 5   OtherPay          148654 non-null  object \n",
      " 6   Benefits          148654 non-null  object \n",
      " 7   TotalPay          148654 non-null  float64\n",
      " 8   TotalPayBenefits  148654 non-null  float64\n",
      " 9   Year              148654 non-null  int64  \n",
      " 10  Notes             148654 non-null  object \n",
      " 11  Agency            148654 non-null  object \n",
      " 12  Status            148654 non-null  object \n",
      "dtypes: float64(2), int64(2), object(9)\n",
      "memory usage: 14.7+ MB\n"
     ]
    }
   ],
   "source": [
    "salaries.info()"
   ]
  },
  {
   "cell_type": "code",
   "execution_count": 78,
   "metadata": {},
   "outputs": [],
   "source": [
    "salaries_group = salaries.groupby(\"JobTitle\")"
   ]
  },
  {
   "cell_type": "code",
   "execution_count": 79,
   "metadata": {},
   "outputs": [
    {
     "data": {
      "text/html": [
       "<div>\n",
       "<style scoped>\n",
       "    .dataframe tbody tr th:only-of-type {\n",
       "        vertical-align: middle;\n",
       "    }\n",
       "\n",
       "    .dataframe tbody tr th {\n",
       "        vertical-align: top;\n",
       "    }\n",
       "\n",
       "    .dataframe thead th {\n",
       "        text-align: right;\n",
       "    }\n",
       "</style>\n",
       "<table border=\"1\" class=\"dataframe\">\n",
       "  <thead>\n",
       "    <tr style=\"text-align: right;\">\n",
       "      <th></th>\n",
       "      <th>mean</th>\n",
       "      <th>count</th>\n",
       "      <th>etendue</th>\n",
       "    </tr>\n",
       "    <tr>\n",
       "      <th>JobTitle</th>\n",
       "      <th></th>\n",
       "      <th></th>\n",
       "      <th></th>\n",
       "    </tr>\n",
       "  </thead>\n",
       "  <tbody>\n",
       "    <tr>\n",
       "      <th>general manager-metropolitan transit authority</th>\n",
       "      <td>399211.275000</td>\n",
       "      <td>2</td>\n",
       "      <td>336768.31</td>\n",
       "    </tr>\n",
       "    <tr>\n",
       "      <th>chief investment officer</th>\n",
       "      <td>339653.700000</td>\n",
       "      <td>1</td>\n",
       "      <td>0.00</td>\n",
       "    </tr>\n",
       "    <tr>\n",
       "      <th>chief, fire department</th>\n",
       "      <td>325971.683333</td>\n",
       "      <td>3</td>\n",
       "      <td>22162.41</td>\n",
       "    </tr>\n",
       "    <tr>\n",
       "      <th>chief of police</th>\n",
       "      <td>313885.882500</td>\n",
       "      <td>4</td>\n",
       "      <td>71289.48</td>\n",
       "    </tr>\n",
       "    <tr>\n",
       "      <th>deputy director of investments</th>\n",
       "      <td>307899.460000</td>\n",
       "      <td>1</td>\n",
       "      <td>0.00</td>\n",
       "    </tr>\n",
       "    <tr>\n",
       "      <th>...</th>\n",
       "      <td>...</td>\n",
       "      <td>...</td>\n",
       "      <td>...</td>\n",
       "    </tr>\n",
       "    <tr>\n",
       "      <th>commissioner 16.700c, no pay</th>\n",
       "      <td>25.760000</td>\n",
       "      <td>50</td>\n",
       "      <td>1288.00</td>\n",
       "    </tr>\n",
       "    <tr>\n",
       "      <th>drug court coordinator</th>\n",
       "      <td>0.000000</td>\n",
       "      <td>1</td>\n",
       "      <td>0.00</td>\n",
       "    </tr>\n",
       "    <tr>\n",
       "      <th>not provided</th>\n",
       "      <td>0.000000</td>\n",
       "      <td>4</td>\n",
       "      <td>0.00</td>\n",
       "    </tr>\n",
       "    <tr>\n",
       "      <th>public safety comm tech</th>\n",
       "      <td>0.000000</td>\n",
       "      <td>1</td>\n",
       "      <td>0.00</td>\n",
       "    </tr>\n",
       "    <tr>\n",
       "      <th>is technician assistant</th>\n",
       "      <td>0.000000</td>\n",
       "      <td>1</td>\n",
       "      <td>0.00</td>\n",
       "    </tr>\n",
       "  </tbody>\n",
       "</table>\n",
       "<p>1637 rows × 3 columns</p>\n",
       "</div>"
      ],
      "text/plain": [
       "                                                         mean  count  \\\n",
       "JobTitle                                                               \n",
       "general manager-metropolitan transit authority  399211.275000      2   \n",
       "chief investment officer                        339653.700000      1   \n",
       "chief, fire department                          325971.683333      3   \n",
       "chief of police                                 313885.882500      4   \n",
       "deputy director of investments                  307899.460000      1   \n",
       "...                                                       ...    ...   \n",
       "commissioner 16.700c, no pay                        25.760000     50   \n",
       "drug court coordinator                               0.000000      1   \n",
       "not provided                                         0.000000      4   \n",
       "public safety comm tech                              0.000000      1   \n",
       "is technician assistant                              0.000000      1   \n",
       "\n",
       "                                                  etendue  \n",
       "JobTitle                                                   \n",
       "general manager-metropolitan transit authority  336768.31  \n",
       "chief investment officer                             0.00  \n",
       "chief, fire department                           22162.41  \n",
       "chief of police                                  71289.48  \n",
       "deputy director of investments                       0.00  \n",
       "...                                                   ...  \n",
       "commissioner 16.700c, no pay                      1288.00  \n",
       "drug court coordinator                               0.00  \n",
       "not provided                                         0.00  \n",
       "public safety comm tech                              0.00  \n",
       "is technician assistant                              0.00  \n",
       "\n",
       "[1637 rows x 3 columns]"
      ]
     },
     "execution_count": 79,
     "metadata": {},
     "output_type": "execute_result"
    }
   ],
   "source": [
    "salaries_group[\"TotalPay\"].agg([\"mean\",\"count\",etendue]).sort_values(\"mean\",ascending=False)"
   ]
  },
  {
   "cell_type": "code",
   "execution_count": null,
   "metadata": {},
   "outputs": [],
   "source": []
  }
 ],
 "metadata": {
  "celltoolbar": "Slideshow",
  "kernelspec": {
   "display_name": "Python 3",
   "language": "python",
   "name": "python3"
  },
  "language_info": {
   "codemirror_mode": {
    "name": "ipython",
    "version": 3
   },
   "file_extension": ".py",
   "mimetype": "text/x-python",
   "name": "python",
   "nbconvert_exporter": "python",
   "pygments_lexer": "ipython3",
   "version": "3.7.6"
  }
 },
 "nbformat": 4,
 "nbformat_minor": 4
}
