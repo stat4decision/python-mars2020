{
 "cells": [
  {
   "cell_type": "markdown",
   "metadata": {
    "slideshow": {
     "slide_type": "subslide"
    }
   },
   "source": [
    "# Le machine learning\n",
    "\n",
    "- Machine Learning : Techniques de calcul permettant aux ordinateurs d’apprendre à exécuter des tâches en s’inspirant de patterns perçus sur des données, avec peu d’intervention humaine. Les tâches se résument souvent à de la prédiction.\n",
    "\n",
    "![image](./images/ml1.png)\n",
    "    "
   ]
  },
  {
   "cell_type": "markdown",
   "metadata": {
    "slideshow": {
     "slide_type": "subslide"
    }
   },
   "source": [
    "# Quelques exemples\n",
    "\n",
    "- Prestation de service : identification des paramètres de prédisposition à la résiliation (churn)\n",
    "- Marketing: identification de segments distincts de consommateurs \n",
    "- Production : identification de paramètres induisant des défaillances\n",
    "- Pharmaceutique: classification de médicaments selon le profil chimique\n"
   ]
  },
  {
   "cell_type": "markdown",
   "metadata": {
    "slideshow": {
     "slide_type": "slide"
    }
   },
   "source": [
    "# Le data mining vs le machine learning\n",
    "\n",
    "- Data Mining : recherche d’information et de patterns cachés dans une base de données isolée ou en croisant plusieurs bases. C’est l’être humain qui explore et prend des décisions.\n",
    "- Le data mining s’appuie sur des techniques et algorithmes issus de la statistique et de la gestion de bases de données.\n",
    "- Les données exploitées ont souvent une taille considérable.\n"
   ]
  },
  {
   "cell_type": "markdown",
   "metadata": {
    "slideshow": {
     "slide_type": "subslide"
    }
   },
   "source": [
    "![image](./images/trend-ml.png)"
   ]
  },
  {
   "cell_type": "markdown",
   "metadata": {
    "slideshow": {
     "slide_type": "subslide"
    }
   },
   "source": [
    "# Les outils\n",
    "\n",
    "![image](./images/poll-ml.png)"
   ]
  },
  {
   "cell_type": "markdown",
   "metadata": {
    "slideshow": {
     "slide_type": "subslide"
    }
   },
   "source": [
    "# Les types de machine learning\n",
    "\n",
    "- Les algorithmes de machine learning peuvent être rassemblés dans 3 groupes principaux :\n",
    "   - L'apprentissage supervisé\n",
    "   - Cible (variable dépendante qualitative ou quantitative)\n",
    "   - Prédicteurs (variables indépendantes)\n",
    "   - Régression, arbre de decision, foret aléatoire, kNN, regression logistique, SVM…\n",
    "\n",
    "- L'apprentissage non supervisé\n",
    "    - Pas de variable dépendante, pas de modélisation\n",
    "    - Classer des individus dans différents groups ou trouver des associations\n",
    "    - Apriori algorithm, K-means.\n",
    "\n",
    "- L'apprentissage par renforcement\n",
    "    - Apprentissage pour prendre des décisions spécifique afin d’aboutir à un but précis\n",
    "    - Markov Decision Process"
   ]
  },
  {
   "cell_type": "markdown",
   "metadata": {
    "slideshow": {
     "slide_type": "slide"
    }
   },
   "source": [
    "# L’analyse de données et le machine learning avec Python\n",
    "\n",
    "Le package la plus adaptée pour faire du data mining et du machine learning est la package **scikit-learn**\n",
    "\n",
    "\n",
    "Ce package propose des fonctions prédéfinies pour un grand nombre de méthodes\n",
    "\n",
    "- La classification : SVM, plus proches voisins, random forest…\n",
    "- Les régressions : linéaire, ridge, Lasso…\n",
    "- Le clustering : k-means…\n",
    "- L’analyse de données :  ACP, DA…\n",
    "\n",
    "Dans le cadre de cette formation, l'objectf n'est pas de décrire la théorie des méthodes mais plutôt de comprendre l'utilisation de Python pour les appliquer."
   ]
  },
  {
   "cell_type": "markdown",
   "metadata": {
    "slideshow": {
     "slide_type": "slide"
    }
   },
   "source": [
    "# L’apprentissage supervisé avec Scikit-Learn\n",
    "Les méthodes d’apprentissage supervisé sont les méthodes actuellement les plus\n",
    "utilisées en data science. Il s’agit d’essayer de prédire une variable cible et d’utiliser\n",
    "différentes méthodes pour arriver à cette fin.\n",
    "Nous allons illustrer ces méthodes de traitement de données avec du code et des\n",
    "cas pratiques."
   ]
  },
  {
   "cell_type": "markdown",
   "metadata": {
    "slideshow": {
     "slide_type": "subslide"
    }
   },
   "source": [
    "### Les données et leur transformation\n",
    "Ce jeu de données est composé de 3333 individus et de 18 variables. Il est stocké dans un fichier csv, nommé telecom.csv, accessible dans le répertoire Data. On le récupère en utilisant Pandas :"
   ]
  },
  {
   "cell_type": "code",
   "execution_count": 1,
   "metadata": {
    "slideshow": {
     "slide_type": "fragment"
    }
   },
   "outputs": [],
   "source": [
    "import pandas as pd\n",
    "import numpy as np"
   ]
  },
  {
   "cell_type": "code",
   "execution_count": 2,
   "metadata": {
    "slideshow": {
     "slide_type": "fragment"
    }
   },
   "outputs": [],
   "source": [
    "churn=pd.read_csv(\"./data/telecom.csv\")"
   ]
  },
  {
   "cell_type": "markdown",
   "metadata": {
    "slideshow": {
     "slide_type": "subslide"
    }
   },
   "source": [
    "## Les données\n",
    "\n",
    "Ce jeu de données n’a pas de données manquantes et nous allons devoir effectuer\n",
    "quelques transformations pour l’adapter à nos traitements. Nous voyons par exemple qu’il est composé de trois colonnes object.\n",
    "\n",
    "Nous pouvons afficher les statistiques descriptives pour les colonnes object :"
   ]
  },
  {
   "cell_type": "code",
   "execution_count": 3,
   "metadata": {
    "slideshow": {
     "slide_type": "subslide"
    }
   },
   "outputs": [
    {
     "data": {
      "text/html": [
       "<div>\n",
       "<style scoped>\n",
       "    .dataframe tbody tr th:only-of-type {\n",
       "        vertical-align: middle;\n",
       "    }\n",
       "\n",
       "    .dataframe tbody tr th {\n",
       "        vertical-align: top;\n",
       "    }\n",
       "\n",
       "    .dataframe thead th {\n",
       "        text-align: right;\n",
       "    }\n",
       "</style>\n",
       "<table border=\"1\" class=\"dataframe\">\n",
       "  <thead>\n",
       "    <tr style=\"text-align: right;\">\n",
       "      <th></th>\n",
       "      <th>count</th>\n",
       "      <th>unique</th>\n",
       "      <th>top</th>\n",
       "      <th>freq</th>\n",
       "    </tr>\n",
       "  </thead>\n",
       "  <tbody>\n",
       "    <tr>\n",
       "      <th>State</th>\n",
       "      <td>3333</td>\n",
       "      <td>51</td>\n",
       "      <td>WV</td>\n",
       "      <td>106</td>\n",
       "    </tr>\n",
       "    <tr>\n",
       "      <th>Phone</th>\n",
       "      <td>3333</td>\n",
       "      <td>3333</td>\n",
       "      <td>350-7344</td>\n",
       "      <td>1</td>\n",
       "    </tr>\n",
       "    <tr>\n",
       "      <th>Int'l Plan</th>\n",
       "      <td>3333</td>\n",
       "      <td>2</td>\n",
       "      <td>no</td>\n",
       "      <td>3010</td>\n",
       "    </tr>\n",
       "    <tr>\n",
       "      <th>VMail Plan</th>\n",
       "      <td>3333</td>\n",
       "      <td>2</td>\n",
       "      <td>no</td>\n",
       "      <td>2411</td>\n",
       "    </tr>\n",
       "    <tr>\n",
       "      <th>Churn?</th>\n",
       "      <td>3333</td>\n",
       "      <td>2</td>\n",
       "      <td>False.</td>\n",
       "      <td>2850</td>\n",
       "    </tr>\n",
       "  </tbody>\n",
       "</table>\n",
       "</div>"
      ],
      "text/plain": [
       "           count unique       top  freq\n",
       "State       3333     51        WV   106\n",
       "Phone       3333   3333  350-7344     1\n",
       "Int'l Plan  3333      2        no  3010\n",
       "VMail Plan  3333      2        no  2411\n",
       "Churn?      3333      2    False.  2850"
      ]
     },
     "execution_count": 3,
     "metadata": {},
     "output_type": "execute_result"
    }
   ],
   "source": [
    "churn.describe(include=\"object\").transpose()"
   ]
  },
  {
   "cell_type": "markdown",
   "metadata": {
    "slideshow": {
     "slide_type": "slide"
    }
   },
   "source": [
    "## Transformation des données\n",
    "\n",
    "On voit que les données sont toutes binaires. \n",
    "\n",
    "Pour les variables binaires, il nous suffit de les recoder avec Scikit-Learn pour obtenir des données exploitables. Par\n",
    "ailleurs, il existe une autre variable qualitative dans notre jeu de données, Area Code,\n",
    "qui est numérique mais avec trois modalités :"
   ]
  },
  {
   "cell_type": "code",
   "execution_count": 4,
   "metadata": {
    "slideshow": {
     "slide_type": "fragment"
    }
   },
   "outputs": [
    {
     "data": {
      "text/plain": [
       "415    1655\n",
       "510     840\n",
       "408     838\n",
       "Name: Area Code, dtype: int64"
      ]
     },
     "execution_count": 4,
     "metadata": {},
     "output_type": "execute_result"
    }
   ],
   "source": [
    "churn[\"Area Code\"].value_counts()"
   ]
  },
  {
   "cell_type": "markdown",
   "metadata": {
    "slideshow": {
     "slide_type": "slide"
    }
   },
   "source": [
    "## La préparation des données\n",
    "\n",
    "Nous allons utiliser le processus de traitement classique pour transformer nos\n",
    "données avec Scikit-Learn. Dans ce cas, nous n’avons pas de données manquantes,\n",
    "nous travaillons donc sur la transformation des variables qualitatives."
   ]
  },
  {
   "cell_type": "code",
   "execution_count": 5,
   "metadata": {
    "slideshow": {
     "slide_type": "fragment"
    }
   },
   "outputs": [],
   "source": [
    "from sklearn.preprocessing import LabelEncoder, OneHotEncoder,Imputer\n",
    "from sklearn.impute import SimpleImputer\n",
    "from sklearn.compose import ColumnTransformer "
   ]
  },
  {
   "cell_type": "markdown",
   "metadata": {
    "slideshow": {
     "slide_type": "fragment"
    }
   },
   "source": [
    "LabelEncoder va nous permettre de transformer les valeurs textuelles en entiers.\n",
    "Nous pouvons utiliser pour chaque variable qualitative :"
   ]
  },
  {
   "cell_type": "code",
   "execution_count": 6,
   "metadata": {
    "slideshow": {
     "slide_type": "subslide"
    }
   },
   "outputs": [],
   "source": [
    "# on crée un objet de la classe LabelEncoder\n",
    "churn_encode = LabelEncoder()"
   ]
  },
  {
   "cell_type": "code",
   "execution_count": 7,
   "metadata": {},
   "outputs": [],
   "source": [
    "churn[\"Churn?\"] = churn_encode.fit_transform(churn[\"Churn?\"])"
   ]
  },
  {
   "cell_type": "code",
   "execution_count": 8,
   "metadata": {},
   "outputs": [
    {
     "data": {
      "text/plain": [
       "array(['False.', 'True.'], dtype=object)"
      ]
     },
     "execution_count": 8,
     "metadata": {},
     "output_type": "execute_result"
    }
   ],
   "source": [
    "churn_encode.classes_"
   ]
  },
  {
   "cell_type": "code",
   "execution_count": 9,
   "metadata": {},
   "outputs": [],
   "source": [
    "churn[\"Churn?\"] = churn_encode.inverse_transform(churn[\"Churn?\"])"
   ]
  },
  {
   "cell_type": "markdown",
   "metadata": {
    "slideshow": {
     "slide_type": "subslide"
    }
   },
   "source": [
    "## Nouveauté : ColumnTransformer\n",
    "\n",
    "On peut maintenant tranformer plusieurs colonnes simultanément\n",
    "\n",
    "Essayez d'utliser cet outil :"
   ]
  },
  {
   "cell_type": "code",
   "execution_count": 10,
   "metadata": {},
   "outputs": [],
   "source": [
    "import numpy as np\n",
    "import pandas as pd\n",
    "# il s'agit de la classe qui nous intéresse\n",
    "from sklearn.compose import ColumnTransformer\n",
    "\n",
    "# on utilisera un pipeline pour enchaîner les traitements\n",
    "from sklearn.pipeline import Pipeline\n",
    "\n",
    "# les méthodes de prétraitement\n",
    "from sklearn.impute import SimpleImputer\n",
    "from sklearn.preprocessing import StandardScaler, OneHotEncoder\n",
    "\n",
    "# les outils de machine learning\n",
    "from sklearn.linear_model import LogisticRegression\n",
    "from sklearn.model_selection import train_test_split"
   ]
  },
  {
   "cell_type": "code",
   "execution_count": 11,
   "metadata": {},
   "outputs": [
    {
     "data": {
      "text/plain": [
       "Index(['State', 'Account Length', 'Area Code', 'Phone', 'Int'l Plan',\n",
       "       'VMail Plan', 'VMail Message', 'Day Mins', 'Day Calls', 'Day Charge',\n",
       "       'Eve Mins', 'Eve Calls', 'Eve Charge', 'Night Mins', 'Night Calls',\n",
       "       'Night Charge', 'Intl Mins', 'Intl Calls', 'Intl Charge',\n",
       "       'CustServ Calls', 'Churn?'],\n",
       "      dtype='object')"
      ]
     },
     "execution_count": 11,
     "metadata": {},
     "output_type": "execute_result"
    }
   ],
   "source": [
    "churn.columns"
   ]
  },
  {
   "cell_type": "code",
   "execution_count": 12,
   "metadata": {},
   "outputs": [],
   "source": [
    "# on définit les colonnes et les transformations pour \n",
    "# les colonnes quantitatives\n",
    "col_quanti = ['Day Mins', 'Day Calls', 'Day Charge',\n",
    "       'Eve Mins', 'Eve Calls', 'Eve Charge', 'Night Mins', 'Night Calls',\n",
    "       'Night Charge', 'Intl Mins', 'Intl Calls', 'Intl Charge',\n",
    "       'CustServ Calls']\n",
    "\n",
    "transfo_quanti = Pipeline(steps=[\n",
    "    ('imputation', SimpleImputer(strategy='median')),\n",
    "    ('standard', StandardScaler())])\n",
    "\n",
    "# on définit les colonnes et les transformations pour\n",
    "# les variables qualitatives\n",
    "col_quali = ['Area Code', \"Int'l Plan\", 'VMail Plan']\n",
    "\n",
    "transfo_quali = Pipeline(steps=[\n",
    "    ('imputation', SimpleImputer(strategy='constant', fill_value='manquant')),\n",
    "    ('onehot', OneHotEncoder(handle_unknown='ignore'))])\n",
    "\n",
    "# on définit l'objet de la classe ColumnTransformer\n",
    "# qui va permettre d'appliquer toutes les étapes\n",
    "preparation = ColumnTransformer(\n",
    "    transformers=[\n",
    "        ('quanti', transfo_quanti , col_quanti),\n",
    "        ('quali', transfo_quali , col_quali)])"
   ]
  },
  {
   "cell_type": "code",
   "execution_count": 13,
   "metadata": {},
   "outputs": [],
   "source": [
    "churn_transfo =preparation.fit_transform(churn)"
   ]
  },
  {
   "cell_type": "code",
   "execution_count": 14,
   "metadata": {},
   "outputs": [
    {
     "data": {
      "text/plain": [
       "(3333, 20)"
      ]
     },
     "execution_count": 14,
     "metadata": {},
     "output_type": "execute_result"
    }
   ],
   "source": [
    "churn_transfo.shape"
   ]
  },
  {
   "cell_type": "markdown",
   "metadata": {
    "slideshow": {
     "slide_type": "slide"
    }
   },
   "source": [
    "## Prédire l’attrition des clients\n",
    "Lorsqu’on veut prédire une variable binaire, on devra avoir une colonne du type\n",
    "binaire. On préfère généralement un codage 0/1 afin de garder un type entier simple à gérer. \n",
    "\n",
    "Les variables explicatives x auront été préparées de manière intelligente afin de bien appliquer nos modèles.\n",
    "\n",
    "On crée donc x et y :"
   ]
  },
  {
   "cell_type": "code",
   "execution_count": 15,
   "metadata": {
    "slideshow": {
     "slide_type": "fragment"
    }
   },
   "outputs": [],
   "source": [
    "x = churn_transfo\n",
    "y= churn[\"Churn?\"]"
   ]
  },
  {
   "cell_type": "markdown",
   "metadata": {
    "slideshow": {
     "slide_type": "slide"
    }
   },
   "source": [
    "## Séparation des données\n",
    "\n",
    "Pour la séparation, on utilise la fonction train_test_split() de Scikit-Learn.\n",
    "\n",
    "Cette fonction permet de créer automatiquement autant de structures que nécessaire\n",
    "à partir de nos données. \n",
    "\n",
    "Elle utilise une randomisation des individus et ensuite une séparation en fonction d’un paramètre du type test_size :"
   ]
  },
  {
   "cell_type": "code",
   "execution_count": 16,
   "metadata": {
    "slideshow": {
     "slide_type": "fragment"
    }
   },
   "outputs": [],
   "source": [
    "# on importe la fonction\n",
    "from sklearn.model_selection import train_test_split\n"
   ]
  },
  {
   "cell_type": "markdown",
   "metadata": {
    "slideshow": {
     "slide_type": "subslide"
    }
   },
   "source": [
    "Dans certains cas, il peut arriver qu’il y ait une forte disparité de distribution des\n",
    "modalités entre les proportions d’acceptation et de refus. On peut vouloir faire en\n",
    "sorte que les répartitions des modalités de y soient égales dans les différents échantillons,\n",
    "on pourra alors utiliser une stratification. On va utiliser une stratification en\n",
    "prenant y comme base pour effectuer la stratification :"
   ]
  },
  {
   "cell_type": "code",
   "execution_count": 17,
   "metadata": {
    "slideshow": {
     "slide_type": "fragment"
    }
   },
   "outputs": [],
   "source": [
    "x_train, x_test, y_train, y_test = train_test_split(x, y, test_size=0.3)"
   ]
  },
  {
   "cell_type": "markdown",
   "metadata": {
    "slideshow": {
     "slide_type": "subslide"
    }
   },
   "source": [
    "Ainsi les deux échantillons _train et _test ont la même distribution"
   ]
  },
  {
   "cell_type": "code",
   "execution_count": 18,
   "metadata": {
    "slideshow": {
     "slide_type": "fragment"
    }
   },
   "outputs": [],
   "source": [
    "# y_test.value_counts(normalize=True)"
   ]
  },
  {
   "cell_type": "code",
   "execution_count": 19,
   "metadata": {
    "slideshow": {
     "slide_type": "fragment"
    }
   },
   "outputs": [],
   "source": [
    "# y_train.value_counts(normalize=True)"
   ]
  },
  {
   "cell_type": "markdown",
   "metadata": {
    "slideshow": {
     "slide_type": "slide"
    }
   },
   "source": [
    "## Le choix et l’ajustement de l’algorithme"
   ]
  },
  {
   "cell_type": "markdown",
   "metadata": {},
   "source": [
    "Tout au long de ce Notebook, nous allons essayer d'ajouter un nouveau modèle, il s'agit du modèle GBM\n",
    "```python\n",
    "from sklearn.ensemble import GradientBoostingClassifier\n",
    "```"
   ]
  },
  {
   "cell_type": "code",
   "execution_count": 20,
   "metadata": {
    "slideshow": {
     "slide_type": "fragment"
    }
   },
   "outputs": [],
   "source": [
    "from sklearn.neighbors import KNeighborsClassifier\n",
    "from sklearn.ensemble import RandomForestClassifier\n",
    "from sklearn.ensemble import GradientBoostingClassifier"
   ]
  },
  {
   "cell_type": "markdown",
   "metadata": {
    "slideshow": {
     "slide_type": "fragment"
    }
   },
   "source": [
    "Ensuite, on crée un objet à partir de la classe du modèle en lui fournissant les\n",
    "hyperparamètres dont il a besoin :"
   ]
  },
  {
   "cell_type": "code",
   "execution_count": 21,
   "metadata": {
    "slideshow": {
     "slide_type": "fragment"
    }
   },
   "outputs": [],
   "source": [
    "modele_rf=RandomForestClassifier(n_estimators=100)\n",
    "modele_knn=KNeighborsClassifier(n_neighbors=5)\n",
    "modele_gbm = GradientBoostingClassifier()"
   ]
  },
  {
   "cell_type": "markdown",
   "metadata": {
    "slideshow": {
     "slide_type": "subslide"
    }
   },
   "source": [
    "Dans ce cas, on prend les hyperparamètres par défaut.\n",
    "\n",
    "On peut ensuite ajuster notre modèle en utilisant les données :"
   ]
  },
  {
   "cell_type": "code",
   "execution_count": 22,
   "metadata": {
    "slideshow": {
     "slide_type": "fragment"
    }
   },
   "outputs": [],
   "source": [
    "modele_rf.fit(x_train,y_train)\n",
    "modele_knn.fit(x_train,y_train)\n",
    "modele_gbm.fit(x_train,y_train)\n",
    "pass"
   ]
  },
  {
   "cell_type": "markdown",
   "metadata": {
    "slideshow": {
     "slide_type": "subslide"
    }
   },
   "source": [
    "Une fois qu’on a estimé les paramètres du modèle, on va pouvoir extraire des\n",
    "informations. De nouveaux attributs de chaque classe apparaissent, ils se terminent par le symbole underscore _ :"
   ]
  },
  {
   "cell_type": "code",
   "execution_count": 23,
   "metadata": {
    "slideshow": {
     "slide_type": "fragment"
    }
   },
   "outputs": [
    {
     "data": {
      "text/plain": [
       "array([0.13317782, 0.03416497, 0.14923733, 0.06429248, 0.03257176,\n",
       "       0.06734432, 0.04543742, 0.03261017, 0.04209351, 0.04896693,\n",
       "       0.05840945, 0.05521932, 0.11255417, 0.00576619, 0.00610826,\n",
       "       0.00505777, 0.03445927, 0.03309312, 0.0180472 , 0.02138853])"
      ]
     },
     "execution_count": 23,
     "metadata": {},
     "output_type": "execute_result"
    }
   ],
   "source": [
    "modele_rf.feature_importances_"
   ]
  },
  {
   "cell_type": "markdown",
   "metadata": {
    "slideshow": {
     "slide_type": "subslide"
    }
   },
   "source": [
    "Ce qui va nous intéresse avant tout, c’est de prédire avec notre modèle. Pour cela nous allons utiliser la méthode .predict() :"
   ]
  },
  {
   "cell_type": "code",
   "execution_count": 24,
   "metadata": {
    "slideshow": {
     "slide_type": "fragment"
    }
   },
   "outputs": [],
   "source": [
    "y_predict_rf = modele_rf.predict(x_test)\n",
    "y_predict_knn = modele_knn.predict(x_test)\n",
    "y_predict_gbm = modele_gbm.predict(x_test)"
   ]
  },
  {
   "cell_type": "markdown",
   "metadata": {
    "slideshow": {
     "slide_type": "fragment"
    }
   },
   "source": [
    "On obtient ainsi une valeur prédite pour les éléments de notre échantillon de\n",
    "validation."
   ]
  },
  {
   "cell_type": "markdown",
   "metadata": {
    "slideshow": {
     "slide_type": "slide"
    }
   },
   "source": [
    "## Les indicateurs pour valider un modèle\n",
    "La partie validation d’un modèle d’apprentissage supervisé est extrêmement\n",
    "importante. L’objectif d’un modèle d’apprentissage supervisé est de prédire une\n",
    "valeur la plus proche possible de la réalité. Nous différencions trois types d’indices\n",
    "en fonction du type de variable cible. Tous les indicateurs de qualité du modèle sont\n",
    "stockés dans le module *metrics* de Scikit-Learn."
   ]
  },
  {
   "cell_type": "markdown",
   "metadata": {
    "slideshow": {
     "slide_type": "subslide"
    }
   },
   "source": [
    "## Le pourcentage de bien classés\n",
    "Il s’agit de l’indicateur le plus connu. On le nomme accuracy. Il est calculé à partir du rapport entre le nombre d’individus bien classés et le nombre total d’individus dans l’échantillon."
   ]
  },
  {
   "cell_type": "code",
   "execution_count": 25,
   "metadata": {
    "slideshow": {
     "slide_type": "fragment"
    }
   },
   "outputs": [
    {
     "name": "stdout",
     "output_type": "stream",
     "text": [
      "Pourcentage de bien classés pour le modèle RF : 0.948\n",
      "Pourcentage de bien classés pour le modèle kNN :0.888\n"
     ]
    }
   ],
   "source": [
    "from sklearn.metrics import accuracy_score, recall_score\n",
    "\n",
    "accuracy_modele_rf = accuracy_score(y_test,y_predict_rf)\n",
    "accuracy_modele_knn = accuracy_score(y_test,y_predict_knn)\n",
    "print(\"Pourcentage de bien classés pour le modèle RF : %.3f\" %(accuracy_modele_rf))\n",
    "print(\"Pourcentage de bien classés pour le modèle kNN :%.3f\" %(accuracy_modele_knn))"
   ]
  },
  {
   "cell_type": "markdown",
   "metadata": {
    "slideshow": {
     "slide_type": "subslide"
    }
   },
   "source": [
    "## La matrice de confusion\n",
    "Il s’agit d’un autre indicateur important pour juger de la qualité d’un modèle, il n’est pas défini par une seule valeur mais par une matrice dans laquelle on peut lire le croisement entre les valeurs observées et les valeurs prédites à partir du modèle. \n",
    "\n",
    "Pour calculer cette matrice, on pourra utiliser :"
   ]
  },
  {
   "cell_type": "code",
   "execution_count": 26,
   "metadata": {
    "slideshow": {
     "slide_type": "fragment"
    }
   },
   "outputs": [
    {
     "name": "stdout",
     "output_type": "stream",
     "text": [
      "Matrice de confusion pour le modèle RF :\n",
      "[[824  10]\n",
      " [ 42 124]]\n",
      "Matrice de confusion pour le modèle kNN :\n",
      "[[830   4]\n",
      " [108  58]]\n"
     ]
    }
   ],
   "source": [
    "from sklearn.metrics import confusion_matrix\n",
    "confusion_matrix_rf=confusion_matrix(y_test,y_predict_rf)\n",
    "confusion_matrix_knn=confusion_matrix(y_test,y_predict_knn)\n",
    "print(\"Matrice de confusion pour le modèle RF :\",\n",
    "confusion_matrix_rf, sep=\"\\n\")\n",
    "print(\"Matrice de confusion pour le modèle kNN :\",\n",
    "confusion_matrix_knn, sep=\"\\n\")\n",
    "# ajouter le 3ème modèle"
   ]
  },
  {
   "cell_type": "markdown",
   "metadata": {
    "slideshow": {
     "slide_type": "subslide"
    }
   },
   "source": [
    "## Le rappel (recall), la précision et le f1-score\n",
    "\n",
    "Scikit-Learn possède des fonctions pour chacun de ces indicateurs, mais il peut\n",
    "être intéressant d’utiliser une autre fonction qui les affiche pour chaque classe :\n",
    "\n",
    "tp / (tp + fn)"
   ]
  },
  {
   "cell_type": "code",
   "execution_count": 27,
   "metadata": {
    "slideshow": {
     "slide_type": "subslide"
    }
   },
   "outputs": [
    {
     "name": "stdout",
     "output_type": "stream",
     "text": [
      "Rapport pour le modèle RF :\n",
      "              precision    recall  f1-score   support\n",
      "\n",
      "      False.       0.95      0.99      0.97       834\n",
      "       True.       0.93      0.75      0.83       166\n",
      "\n",
      "    accuracy                           0.95      1000\n",
      "   macro avg       0.94      0.87      0.90      1000\n",
      "weighted avg       0.95      0.95      0.95      1000\n",
      "\n"
     ]
    }
   ],
   "source": [
    "from sklearn.metrics import classification_report\n",
    "print(\"Rapport pour le modèle RF :\",\n",
    "      classification_report(y_test,y_predict_rf) ,sep=\"\\n\")"
   ]
  },
  {
   "cell_type": "code",
   "execution_count": 28,
   "metadata": {
    "slideshow": {
     "slide_type": "subslide"
    }
   },
   "outputs": [
    {
     "name": "stdout",
     "output_type": "stream",
     "text": [
      "Rapport pour le modèle kNN :\n",
      "              precision    recall  f1-score   support\n",
      "\n",
      "      False.       0.88      1.00      0.94       834\n",
      "       True.       0.94      0.35      0.51       166\n",
      "\n",
      "    accuracy                           0.89      1000\n",
      "   macro avg       0.91      0.67      0.72      1000\n",
      "weighted avg       0.89      0.89      0.87      1000\n",
      "\n"
     ]
    }
   ],
   "source": [
    "print(\"Rapport pour le modèle kNN :\",\n",
    "      classification_report(y_test,y_predict_knn) ,sep=\"\\n\")"
   ]
  },
  {
   "cell_type": "markdown",
   "metadata": {
    "slideshow": {
     "slide_type": "subslide"
    }
   },
   "source": [
    "## L’aire sous la courbe ROC\n",
    "La courbe ROC est un indicateur important mais on préfère souvent une valeur plutôt\n",
    "qu’une courbe afin de comparer nos modèles. Pour cela, on utilise l’aire sous la courbe\n",
    "ROC (AUC). Cette aire est calculée directement à partir de la courbe ROC. Ainsi, un\n",
    "modèle aléatoire aura une AUC de 0.5 et un modèle parfait aura une AUC de 1."
   ]
  },
  {
   "cell_type": "code",
   "execution_count": 29,
   "metadata": {
    "slideshow": {
     "slide_type": "fragment"
    }
   },
   "outputs": [
    {
     "name": "stdout",
     "output_type": "stream",
     "text": [
      "Aire sous la courbe ROC pour le modèle RF : 0.9129070237785675\n",
      "Aire sous la courbe ROC pour le modèle kNN : 0.8131193840108637\n"
     ]
    }
   ],
   "source": [
    "from sklearn.metrics import roc_auc_score\n",
    "auc_modele_rf=roc_auc_score(y_test, modele_rf.predict_proba(x_test)[:,1])\n",
    "auc_modele_knn=roc_auc_score(y_test,modele_knn.predict_proba(x_test)[:,1])\n",
    "\n",
    "print(\"Aire sous la courbe ROC pour le modèle RF :\" ,auc_modele_rf)\n",
    "print(\"Aire sous la courbe ROC pour le modèle kNN :\" ,auc_modele_knn)\n",
    "# ajouter le 3ème modèle"
   ]
  },
  {
   "cell_type": "markdown",
   "metadata": {
    "slideshow": {
     "slide_type": "subslide"
    }
   },
   "source": [
    "## La validation croisée\n",
    "Jusqu’ici nous avons utilisé des indicateurs basés sur une seule occurrence de test. Ceci veut dire qu’on ne teste notre modèle que sur un seul échantillon.\n",
    "\n",
    "Une approche alternative souvent utilisée est la validation croisée. Celle-ci est en fait basée sur la répétition de l’estimation et de la validation sur des données différentes.\n",
    "\n",
    "Pour obtenir ce cv-score, on utilise :"
   ]
  },
  {
   "cell_type": "code",
   "execution_count": 30,
   "metadata": {
    "slideshow": {
     "slide_type": "fragment"
    }
   },
   "outputs": [
    {
     "name": "stdout",
     "output_type": "stream",
     "text": [
      "AUC pour RF : 0.913 (+/- 0.046)\n",
      "AUC pour kNN : 0.793 (+/- 0.077)\n"
     ]
    }
   ],
   "source": [
    "from sklearn.model_selection import cross_val_score\n",
    "\n",
    "scores_rf = cross_val_score(modele_rf, x_train, y_train, cv=5, scoring='roc_auc')\n",
    "scores_knn = cross_val_score(modele_knn, x_train, y_train, cv=5, scoring='roc_auc')\n",
    "\n",
    "print(\"AUC pour RF : %.3f (+/- %.3f)\"% (scores_rf.mean(), scores_rf.std() * 2))\n",
    "print(\"AUC pour kNN : %.3f (+/- %.3f)\"% (scores_knn.mean(),scores_knn.std() * 2))\n",
    "# ajouter le 3ème modèle"
   ]
  },
  {
   "cell_type": "markdown",
   "metadata": {
    "slideshow": {
     "slide_type": "subslide"
    }
   },
   "source": [
    "## L’ajustement des hyperparamètres d’un modèle\n",
    "\n",
    "L’une des tâches du data scientist est de trouver le meilleur modèle possible. La\n",
    "plupart des modèles de machine learning ont des hyperparamètres. Il s’agit de paramètres\n",
    "du modèle qui sont définis en amont de l’ajustement.\n",
    "\n",
    "Scikit-Learn propose une classe GridSearchCV permettant d’implémenter cette\n",
    "recherche d’hyperparamètres :"
   ]
  },
  {
   "cell_type": "code",
   "execution_count": 31,
   "metadata": {
    "slideshow": {
     "slide_type": "fragment"
    }
   },
   "outputs": [],
   "source": [
    "from sklearn.model_selection import GridSearchCV"
   ]
  },
  {
   "cell_type": "markdown",
   "metadata": {
    "slideshow": {
     "slide_type": "subslide"
    }
   },
   "source": [
    "On va donc devoir définir les hyperparamètres que l’on souhaite tester. Pour cela,\n",
    "on utilisera un dictionnaire d’hyperparamètres, par exemple :"
   ]
  },
  {
   "cell_type": "code",
   "execution_count": 32,
   "metadata": {
    "slideshow": {
     "slide_type": "fragment"
    }
   },
   "outputs": [],
   "source": [
    "dico_param= {\"max_depth\":[3,5,7,10], \"n_estimators\":[10,20,50,100]}"
   ]
  },
  {
   "cell_type": "markdown",
   "metadata": {
    "slideshow": {
     "slide_type": "fragment"
    }
   },
   "source": [
    "On va encore utiliser l’accuracy pour valider notre modèle. Finalement, nous allons\n",
    "utiliser une validation croisée à cinq groupes pour valider les résultats.\n",
    "Le nouvel objet est le suivant :"
   ]
  },
  {
   "cell_type": "code",
   "execution_count": 33,
   "metadata": {
    "slideshow": {
     "slide_type": "fragment"
    }
   },
   "outputs": [],
   "source": [
    "recherche_hyper = GridSearchCV(RandomForestClassifier(), \n",
    "                               dico_param, \n",
    "                               scoring=\"roc_auc\",cv=5)"
   ]
  },
  {
   "cell_type": "markdown",
   "metadata": {
    "slideshow": {
     "slide_type": "fragment"
    }
   },
   "source": [
    "Une fois qu’on a créé cet objet, on peut lui joindre les données afin d’estimer les\n",
    "meilleurs paramètres du modèle.\n",
    "\n",
    "Cette étape peut être très longue."
   ]
  },
  {
   "cell_type": "code",
   "execution_count": 34,
   "metadata": {
    "slideshow": {
     "slide_type": "subslide"
    }
   },
   "outputs": [
    {
     "data": {
      "text/plain": [
       "GridSearchCV(cv=5, error_score='raise-deprecating',\n",
       "             estimator=RandomForestClassifier(bootstrap=True, class_weight=None,\n",
       "                                              criterion='gini', max_depth=None,\n",
       "                                              max_features='auto',\n",
       "                                              max_leaf_nodes=None,\n",
       "                                              min_impurity_decrease=0.0,\n",
       "                                              min_impurity_split=None,\n",
       "                                              min_samples_leaf=1,\n",
       "                                              min_samples_split=2,\n",
       "                                              min_weight_fraction_leaf=0.0,\n",
       "                                              n_estimators='warn', n_jobs=None,\n",
       "                                              oob_score=False,\n",
       "                                              random_state=None, verbose=0,\n",
       "                                              warm_start=False),\n",
       "             iid='warn', n_jobs=None,\n",
       "             param_grid={'max_depth': [3, 5, 7, 10],\n",
       "                         'n_estimators': [10, 20, 50, 100]},\n",
       "             pre_dispatch='2*n_jobs', refit=True, return_train_score=False,\n",
       "             scoring='roc_auc', verbose=0)"
      ]
     },
     "execution_count": 34,
     "metadata": {},
     "output_type": "execute_result"
    }
   ],
   "source": [
    "recherche_hyper.fit(x_train, y_train)"
   ]
  },
  {
   "cell_type": "code",
   "execution_count": 35,
   "metadata": {},
   "outputs": [
    {
     "name": "stdout",
     "output_type": "stream",
     "text": [
      "{'max_depth': 10, 'n_estimators': 100}\n"
     ]
    }
   ],
   "source": [
    "print(recherche_hyper.best_params_)"
   ]
  },
  {
   "cell_type": "code",
   "execution_count": 36,
   "metadata": {},
   "outputs": [
    {
     "name": "stdout",
     "output_type": "stream",
     "text": [
      "0.9151403490960718\n"
     ]
    }
   ],
   "source": [
    "print(recherche_hyper.best_score_)"
   ]
  },
  {
   "cell_type": "code",
   "execution_count": 37,
   "metadata": {},
   "outputs": [
    {
     "data": {
      "text/html": [
       "<div>\n",
       "<style scoped>\n",
       "    .dataframe tbody tr th:only-of-type {\n",
       "        vertical-align: middle;\n",
       "    }\n",
       "\n",
       "    .dataframe tbody tr th {\n",
       "        vertical-align: top;\n",
       "    }\n",
       "\n",
       "    .dataframe thead th {\n",
       "        text-align: right;\n",
       "    }\n",
       "</style>\n",
       "<table border=\"1\" class=\"dataframe\">\n",
       "  <thead>\n",
       "    <tr style=\"text-align: right;\">\n",
       "      <th></th>\n",
       "      <th>mean_fit_time</th>\n",
       "      <th>std_fit_time</th>\n",
       "      <th>mean_score_time</th>\n",
       "      <th>std_score_time</th>\n",
       "      <th>param_max_depth</th>\n",
       "      <th>param_n_estimators</th>\n",
       "      <th>params</th>\n",
       "      <th>split0_test_score</th>\n",
       "      <th>split1_test_score</th>\n",
       "      <th>split2_test_score</th>\n",
       "      <th>split3_test_score</th>\n",
       "      <th>split4_test_score</th>\n",
       "      <th>mean_test_score</th>\n",
       "      <th>std_test_score</th>\n",
       "      <th>rank_test_score</th>\n",
       "    </tr>\n",
       "  </thead>\n",
       "  <tbody>\n",
       "    <tr>\n",
       "      <th>0</th>\n",
       "      <td>0.040452</td>\n",
       "      <td>0.004187</td>\n",
       "      <td>0.005824</td>\n",
       "      <td>0.000321</td>\n",
       "      <td>3</td>\n",
       "      <td>10</td>\n",
       "      <td>{'max_depth': 3, 'n_estimators': 10}</td>\n",
       "      <td>0.895556</td>\n",
       "      <td>0.876415</td>\n",
       "      <td>0.810627</td>\n",
       "      <td>0.917090</td>\n",
       "      <td>0.879436</td>\n",
       "      <td>0.875842</td>\n",
       "      <td>0.035637</td>\n",
       "      <td>16</td>\n",
       "    </tr>\n",
       "    <tr>\n",
       "      <th>1</th>\n",
       "      <td>0.082427</td>\n",
       "      <td>0.001575</td>\n",
       "      <td>0.008160</td>\n",
       "      <td>0.000411</td>\n",
       "      <td>3</td>\n",
       "      <td>20</td>\n",
       "      <td>{'max_depth': 3, 'n_estimators': 20}</td>\n",
       "      <td>0.902382</td>\n",
       "      <td>0.914276</td>\n",
       "      <td>0.835578</td>\n",
       "      <td>0.914057</td>\n",
       "      <td>0.860609</td>\n",
       "      <td>0.885408</td>\n",
       "      <td>0.031739</td>\n",
       "      <td>15</td>\n",
       "    </tr>\n",
       "    <tr>\n",
       "      <th>2</th>\n",
       "      <td>0.199833</td>\n",
       "      <td>0.013866</td>\n",
       "      <td>0.014770</td>\n",
       "      <td>0.000737</td>\n",
       "      <td>3</td>\n",
       "      <td>50</td>\n",
       "      <td>{'max_depth': 3, 'n_estimators': 50}</td>\n",
       "      <td>0.890064</td>\n",
       "      <td>0.918657</td>\n",
       "      <td>0.841605</td>\n",
       "      <td>0.913132</td>\n",
       "      <td>0.878176</td>\n",
       "      <td>0.888341</td>\n",
       "      <td>0.027645</td>\n",
       "      <td>14</td>\n",
       "    </tr>\n",
       "    <tr>\n",
       "      <th>3</th>\n",
       "      <td>0.402381</td>\n",
       "      <td>0.014606</td>\n",
       "      <td>0.023899</td>\n",
       "      <td>0.000826</td>\n",
       "      <td>3</td>\n",
       "      <td>100</td>\n",
       "      <td>{'max_depth': 3, 'n_estimators': 100}</td>\n",
       "      <td>0.893410</td>\n",
       "      <td>0.925132</td>\n",
       "      <td>0.842727</td>\n",
       "      <td>0.920064</td>\n",
       "      <td>0.868920</td>\n",
       "      <td>0.890068</td>\n",
       "      <td>0.031065</td>\n",
       "      <td>13</td>\n",
       "    </tr>\n",
       "    <tr>\n",
       "      <th>4</th>\n",
       "      <td>0.051462</td>\n",
       "      <td>0.001354</td>\n",
       "      <td>0.005984</td>\n",
       "      <td>0.000002</td>\n",
       "      <td>5</td>\n",
       "      <td>10</td>\n",
       "      <td>{'max_depth': 5, 'n_estimators': 10}</td>\n",
       "      <td>0.903620</td>\n",
       "      <td>0.927012</td>\n",
       "      <td>0.840659</td>\n",
       "      <td>0.924455</td>\n",
       "      <td>0.884300</td>\n",
       "      <td>0.896029</td>\n",
       "      <td>0.031701</td>\n",
       "      <td>12</td>\n",
       "    </tr>\n",
       "    <tr>\n",
       "      <th>5</th>\n",
       "      <td>0.098713</td>\n",
       "      <td>0.001551</td>\n",
       "      <td>0.008171</td>\n",
       "      <td>0.000408</td>\n",
       "      <td>5</td>\n",
       "      <td>20</td>\n",
       "      <td>{'max_depth': 5, 'n_estimators': 20}</td>\n",
       "      <td>0.912825</td>\n",
       "      <td>0.929261</td>\n",
       "      <td>0.852928</td>\n",
       "      <td>0.930462</td>\n",
       "      <td>0.886900</td>\n",
       "      <td>0.902496</td>\n",
       "      <td>0.029332</td>\n",
       "      <td>9</td>\n",
       "    </tr>\n",
       "    <tr>\n",
       "      <th>6</th>\n",
       "      <td>0.243754</td>\n",
       "      <td>0.003912</td>\n",
       "      <td>0.015028</td>\n",
       "      <td>0.000650</td>\n",
       "      <td>5</td>\n",
       "      <td>50</td>\n",
       "      <td>{'max_depth': 5, 'n_estimators': 50}</td>\n",
       "      <td>0.922223</td>\n",
       "      <td>0.935930</td>\n",
       "      <td>0.862815</td>\n",
       "      <td>0.923353</td>\n",
       "      <td>0.878648</td>\n",
       "      <td>0.904622</td>\n",
       "      <td>0.028501</td>\n",
       "      <td>5</td>\n",
       "    </tr>\n",
       "    <tr>\n",
       "      <th>7</th>\n",
       "      <td>0.477116</td>\n",
       "      <td>0.005430</td>\n",
       "      <td>0.024841</td>\n",
       "      <td>0.000638</td>\n",
       "      <td>5</td>\n",
       "      <td>100</td>\n",
       "      <td>{'max_depth': 5, 'n_estimators': 100}</td>\n",
       "      <td>0.910079</td>\n",
       "      <td>0.936065</td>\n",
       "      <td>0.869195</td>\n",
       "      <td>0.929733</td>\n",
       "      <td>0.877939</td>\n",
       "      <td>0.904621</td>\n",
       "      <td>0.026884</td>\n",
       "      <td>6</td>\n",
       "    </tr>\n",
       "    <tr>\n",
       "      <th>8</th>\n",
       "      <td>0.068284</td>\n",
       "      <td>0.008404</td>\n",
       "      <td>0.007464</td>\n",
       "      <td>0.001339</td>\n",
       "      <td>7</td>\n",
       "      <td>10</td>\n",
       "      <td>{'max_depth': 7, 'n_estimators': 10}</td>\n",
       "      <td>0.920057</td>\n",
       "      <td>0.940136</td>\n",
       "      <td>0.843751</td>\n",
       "      <td>0.918744</td>\n",
       "      <td>0.876955</td>\n",
       "      <td>0.899963</td>\n",
       "      <td>0.034805</td>\n",
       "      <td>11</td>\n",
       "    </tr>\n",
       "    <tr>\n",
       "      <th>9</th>\n",
       "      <td>0.121497</td>\n",
       "      <td>0.004916</td>\n",
       "      <td>0.008366</td>\n",
       "      <td>0.000810</td>\n",
       "      <td>7</td>\n",
       "      <td>20</td>\n",
       "      <td>{'max_depth': 7, 'n_estimators': 20}</td>\n",
       "      <td>0.904162</td>\n",
       "      <td>0.926605</td>\n",
       "      <td>0.877152</td>\n",
       "      <td>0.917838</td>\n",
       "      <td>0.889716</td>\n",
       "      <td>0.903106</td>\n",
       "      <td>0.018013</td>\n",
       "      <td>8</td>\n",
       "    </tr>\n",
       "    <tr>\n",
       "      <th>10</th>\n",
       "      <td>0.297817</td>\n",
       "      <td>0.006182</td>\n",
       "      <td>0.015938</td>\n",
       "      <td>0.000037</td>\n",
       "      <td>7</td>\n",
       "      <td>50</td>\n",
       "      <td>{'max_depth': 7, 'n_estimators': 50}</td>\n",
       "      <td>0.914024</td>\n",
       "      <td>0.929474</td>\n",
       "      <td>0.850900</td>\n",
       "      <td>0.924455</td>\n",
       "      <td>0.907913</td>\n",
       "      <td>0.905371</td>\n",
       "      <td>0.028249</td>\n",
       "      <td>4</td>\n",
       "    </tr>\n",
       "    <tr>\n",
       "      <th>11</th>\n",
       "      <td>0.555596</td>\n",
       "      <td>0.009721</td>\n",
       "      <td>0.027800</td>\n",
       "      <td>0.002761</td>\n",
       "      <td>7</td>\n",
       "      <td>100</td>\n",
       "      <td>{'max_depth': 7, 'n_estimators': 100}</td>\n",
       "      <td>0.918820</td>\n",
       "      <td>0.942734</td>\n",
       "      <td>0.875852</td>\n",
       "      <td>0.937768</td>\n",
       "      <td>0.894876</td>\n",
       "      <td>0.914026</td>\n",
       "      <td>0.025427</td>\n",
       "      <td>2</td>\n",
       "    </tr>\n",
       "    <tr>\n",
       "      <th>12</th>\n",
       "      <td>0.070248</td>\n",
       "      <td>0.001974</td>\n",
       "      <td>0.006796</td>\n",
       "      <td>0.000409</td>\n",
       "      <td>10</td>\n",
       "      <td>10</td>\n",
       "      <td>{'max_depth': 10, 'n_estimators': 10}</td>\n",
       "      <td>0.911761</td>\n",
       "      <td>0.913306</td>\n",
       "      <td>0.860707</td>\n",
       "      <td>0.922388</td>\n",
       "      <td>0.894226</td>\n",
       "      <td>0.900493</td>\n",
       "      <td>0.021866</td>\n",
       "      <td>10</td>\n",
       "    </tr>\n",
       "    <tr>\n",
       "      <th>13</th>\n",
       "      <td>0.141906</td>\n",
       "      <td>0.005897</td>\n",
       "      <td>0.009169</td>\n",
       "      <td>0.000738</td>\n",
       "      <td>10</td>\n",
       "      <td>20</td>\n",
       "      <td>{'max_depth': 10, 'n_estimators': 20}</td>\n",
       "      <td>0.931428</td>\n",
       "      <td>0.925403</td>\n",
       "      <td>0.854799</td>\n",
       "      <td>0.920911</td>\n",
       "      <td>0.887688</td>\n",
       "      <td>0.904078</td>\n",
       "      <td>0.028920</td>\n",
       "      <td>7</td>\n",
       "    </tr>\n",
       "    <tr>\n",
       "      <th>14</th>\n",
       "      <td>0.342683</td>\n",
       "      <td>0.009153</td>\n",
       "      <td>0.019496</td>\n",
       "      <td>0.002772</td>\n",
       "      <td>10</td>\n",
       "      <td>50</td>\n",
       "      <td>{'max_depth': 10, 'n_estimators': 50}</td>\n",
       "      <td>0.915184</td>\n",
       "      <td>0.936453</td>\n",
       "      <td>0.865198</td>\n",
       "      <td>0.926976</td>\n",
       "      <td>0.900154</td>\n",
       "      <td>0.908810</td>\n",
       "      <td>0.024938</td>\n",
       "      <td>3</td>\n",
       "    </tr>\n",
       "    <tr>\n",
       "      <th>15</th>\n",
       "      <td>0.667422</td>\n",
       "      <td>0.024088</td>\n",
       "      <td>0.026141</td>\n",
       "      <td>0.004121</td>\n",
       "      <td>10</td>\n",
       "      <td>100</td>\n",
       "      <td>{'max_depth': 10, 'n_estimators': 100}</td>\n",
       "      <td>0.923113</td>\n",
       "      <td>0.936608</td>\n",
       "      <td>0.874197</td>\n",
       "      <td>0.935169</td>\n",
       "      <td>0.906534</td>\n",
       "      <td>0.915140</td>\n",
       "      <td>0.023125</td>\n",
       "      <td>1</td>\n",
       "    </tr>\n",
       "  </tbody>\n",
       "</table>\n",
       "</div>"
      ],
      "text/plain": [
       "    mean_fit_time  std_fit_time  mean_score_time  std_score_time  \\\n",
       "0        0.040452      0.004187         0.005824        0.000321   \n",
       "1        0.082427      0.001575         0.008160        0.000411   \n",
       "2        0.199833      0.013866         0.014770        0.000737   \n",
       "3        0.402381      0.014606         0.023899        0.000826   \n",
       "4        0.051462      0.001354         0.005984        0.000002   \n",
       "5        0.098713      0.001551         0.008171        0.000408   \n",
       "6        0.243754      0.003912         0.015028        0.000650   \n",
       "7        0.477116      0.005430         0.024841        0.000638   \n",
       "8        0.068284      0.008404         0.007464        0.001339   \n",
       "9        0.121497      0.004916         0.008366        0.000810   \n",
       "10       0.297817      0.006182         0.015938        0.000037   \n",
       "11       0.555596      0.009721         0.027800        0.002761   \n",
       "12       0.070248      0.001974         0.006796        0.000409   \n",
       "13       0.141906      0.005897         0.009169        0.000738   \n",
       "14       0.342683      0.009153         0.019496        0.002772   \n",
       "15       0.667422      0.024088         0.026141        0.004121   \n",
       "\n",
       "   param_max_depth param_n_estimators                                  params  \\\n",
       "0                3                 10    {'max_depth': 3, 'n_estimators': 10}   \n",
       "1                3                 20    {'max_depth': 3, 'n_estimators': 20}   \n",
       "2                3                 50    {'max_depth': 3, 'n_estimators': 50}   \n",
       "3                3                100   {'max_depth': 3, 'n_estimators': 100}   \n",
       "4                5                 10    {'max_depth': 5, 'n_estimators': 10}   \n",
       "5                5                 20    {'max_depth': 5, 'n_estimators': 20}   \n",
       "6                5                 50    {'max_depth': 5, 'n_estimators': 50}   \n",
       "7                5                100   {'max_depth': 5, 'n_estimators': 100}   \n",
       "8                7                 10    {'max_depth': 7, 'n_estimators': 10}   \n",
       "9                7                 20    {'max_depth': 7, 'n_estimators': 20}   \n",
       "10               7                 50    {'max_depth': 7, 'n_estimators': 50}   \n",
       "11               7                100   {'max_depth': 7, 'n_estimators': 100}   \n",
       "12              10                 10   {'max_depth': 10, 'n_estimators': 10}   \n",
       "13              10                 20   {'max_depth': 10, 'n_estimators': 20}   \n",
       "14              10                 50   {'max_depth': 10, 'n_estimators': 50}   \n",
       "15              10                100  {'max_depth': 10, 'n_estimators': 100}   \n",
       "\n",
       "    split0_test_score  split1_test_score  split2_test_score  \\\n",
       "0            0.895556           0.876415           0.810627   \n",
       "1            0.902382           0.914276           0.835578   \n",
       "2            0.890064           0.918657           0.841605   \n",
       "3            0.893410           0.925132           0.842727   \n",
       "4            0.903620           0.927012           0.840659   \n",
       "5            0.912825           0.929261           0.852928   \n",
       "6            0.922223           0.935930           0.862815   \n",
       "7            0.910079           0.936065           0.869195   \n",
       "8            0.920057           0.940136           0.843751   \n",
       "9            0.904162           0.926605           0.877152   \n",
       "10           0.914024           0.929474           0.850900   \n",
       "11           0.918820           0.942734           0.875852   \n",
       "12           0.911761           0.913306           0.860707   \n",
       "13           0.931428           0.925403           0.854799   \n",
       "14           0.915184           0.936453           0.865198   \n",
       "15           0.923113           0.936608           0.874197   \n",
       "\n",
       "    split3_test_score  split4_test_score  mean_test_score  std_test_score  \\\n",
       "0            0.917090           0.879436         0.875842        0.035637   \n",
       "1            0.914057           0.860609         0.885408        0.031739   \n",
       "2            0.913132           0.878176         0.888341        0.027645   \n",
       "3            0.920064           0.868920         0.890068        0.031065   \n",
       "4            0.924455           0.884300         0.896029        0.031701   \n",
       "5            0.930462           0.886900         0.902496        0.029332   \n",
       "6            0.923353           0.878648         0.904622        0.028501   \n",
       "7            0.929733           0.877939         0.904621        0.026884   \n",
       "8            0.918744           0.876955         0.899963        0.034805   \n",
       "9            0.917838           0.889716         0.903106        0.018013   \n",
       "10           0.924455           0.907913         0.905371        0.028249   \n",
       "11           0.937768           0.894876         0.914026        0.025427   \n",
       "12           0.922388           0.894226         0.900493        0.021866   \n",
       "13           0.920911           0.887688         0.904078        0.028920   \n",
       "14           0.926976           0.900154         0.908810        0.024938   \n",
       "15           0.935169           0.906534         0.915140        0.023125   \n",
       "\n",
       "    rank_test_score  \n",
       "0                16  \n",
       "1                15  \n",
       "2                14  \n",
       "3                13  \n",
       "4                12  \n",
       "5                 9  \n",
       "6                 5  \n",
       "7                 6  \n",
       "8                11  \n",
       "9                 8  \n",
       "10                4  \n",
       "11                2  \n",
       "12               10  \n",
       "13                7  \n",
       "14                3  \n",
       "15                1  "
      ]
     },
     "execution_count": 37,
     "metadata": {},
     "output_type": "execute_result"
    }
   ],
   "source": [
    "pd.DataFrame(recherche_hyper.cv_results_)"
   ]
  },
  {
   "cell_type": "markdown",
   "metadata": {
    "slideshow": {
     "slide_type": "slide"
    }
   },
   "source": [
    "## La construction d’un pipeline de traitement\n",
    "\n",
    "Bien souvent vous allez être amené à enchaîner des traitements sur des données.\n",
    "On peut bien sûr développer son code de manière à suivre les étapes une à une mais il est souvent plus intéressant de créer des suites de traitements automatisées avec Scikit-Learn. \n",
    "\n",
    "Ces suites de traitements sont appelées pipeline. Ils simplifieront votre code et permettront de passer en production simplement.\n",
    "\n",
    "Ainsi, on va pouvoir faire une analyse en composantes principales suivies d’un\n",
    "algorithme de plus proches voisins directement dans un pipeline :"
   ]
  },
  {
   "cell_type": "code",
   "execution_count": 38,
   "metadata": {
    "slideshow": {
     "slide_type": "fragment"
    }
   },
   "outputs": [],
   "source": [
    "from sklearn.pipeline import Pipeline, make_pipeline\n",
    "from sklearn.decomposition import PCA"
   ]
  },
  {
   "cell_type": "code",
   "execution_count": 39,
   "metadata": {
    "slideshow": {
     "slide_type": "subslide"
    }
   },
   "outputs": [
    {
     "name": "stderr",
     "output_type": "stream",
     "text": [
      "C:\\Users\\s4d-asus-14\\Anaconda3\\lib\\site-packages\\sklearn\\ensemble\\forest.py:245: FutureWarning: The default value of n_estimators will change from 10 in version 0.20 to 100 in 0.22.\n",
      "  \"10 in version 0.20 to 100 in 0.22.\", FutureWarning)\n"
     ]
    }
   ],
   "source": [
    "acp=PCA(n_components=8)\n",
    "knn=KNeighborsClassifier()\n",
    "rf=RandomForestClassifier()\n",
    "pipe=Pipeline(steps=[(\"acp\",acp),(\"knn\",knn)])\n",
    "pipe2=Pipeline(steps=[(\"acp\",acp),(\"rf\",rf)])\n",
    "\n",
    "pipe.fit(x_train, y_train)\n",
    "pipe2.fit(x_train, y_train)\n",
    "pass"
   ]
  },
  {
   "cell_type": "markdown",
   "metadata": {
    "slideshow": {
     "slide_type": "subslide"
    }
   },
   "source": [
    "On a ainsi enchaîné deux traitements. Si on cherche des sorties liées à chacune\n",
    "des étapes, on pourra le faire simplement. Par exemple, si l’objectif est d’extraire la part de variances expliquées par les composantes de l’analyse en composantes principales, on fera :"
   ]
  },
  {
   "cell_type": "code",
   "execution_count": 40,
   "metadata": {
    "slideshow": {
     "slide_type": "fragment"
    }
   },
   "outputs": [
    {
     "data": {
      "text/plain": [
       "array([0.1490234 , 0.14720806, 0.13917842, 0.13300297, 0.07527662,\n",
       "       0.07027315, 0.0692158 , 0.06674635])"
      ]
     },
     "execution_count": 40,
     "metadata": {},
     "output_type": "execute_result"
    }
   ],
   "source": [
    "pipe.named_steps[\"acp\"].explained_variance_ratio_"
   ]
  },
  {
   "cell_type": "code",
   "execution_count": 41,
   "metadata": {},
   "outputs": [
    {
     "data": {
      "text/plain": [
       "array(['True.', 'False.', 'False.', 'False.', 'False.', 'False.',\n",
       "       'False.', 'False.', 'False.', 'False.', 'False.', 'False.',\n",
       "       'False.', 'False.', 'False.', 'False.', 'False.', 'True.',\n",
       "       'False.', 'False.', 'False.', 'False.', 'False.', 'False.',\n",
       "       'False.', 'False.', 'False.', 'False.', 'False.', 'False.',\n",
       "       'False.', 'False.', 'False.', 'False.', 'False.', 'True.',\n",
       "       'False.', 'False.', 'False.', 'False.', 'False.', 'False.',\n",
       "       'False.', 'False.', 'False.', 'False.', 'False.', 'False.',\n",
       "       'False.', 'False.', 'False.', 'False.', 'False.', 'False.',\n",
       "       'False.', 'False.', 'False.', 'False.', 'False.', 'False.',\n",
       "       'False.', 'False.', 'False.', 'False.', 'False.', 'False.',\n",
       "       'False.', 'False.', 'False.', 'False.', 'False.', 'False.',\n",
       "       'False.', 'False.', 'False.', 'False.', 'False.', 'False.',\n",
       "       'False.', 'False.', 'False.', 'False.', 'False.', 'False.',\n",
       "       'False.', 'False.', 'False.', 'True.', 'False.', 'False.',\n",
       "       'False.', 'False.', 'False.', 'False.', 'False.', 'False.',\n",
       "       'False.', 'False.', 'False.', 'False.', 'False.', 'False.',\n",
       "       'False.', 'False.', 'False.', 'False.', 'False.', 'False.',\n",
       "       'False.', 'False.', 'False.', 'False.', 'False.', 'False.',\n",
       "       'False.', 'False.', 'False.', 'False.', 'False.', 'False.',\n",
       "       'False.', 'False.', 'False.', 'False.', 'False.', 'False.',\n",
       "       'False.', 'False.', 'False.', 'True.', 'False.', 'False.',\n",
       "       'False.', 'False.', 'False.', 'False.', 'False.', 'False.',\n",
       "       'False.', 'False.', 'False.', 'False.', 'False.', 'False.',\n",
       "       'False.', 'False.', 'False.', 'False.', 'False.', 'True.',\n",
       "       'False.', 'False.', 'False.', 'False.', 'False.', 'False.',\n",
       "       'False.', 'False.', 'False.', 'False.', 'False.', 'False.',\n",
       "       'False.', 'False.', 'False.', 'False.', 'False.', 'False.',\n",
       "       'False.', 'False.', 'False.', 'True.', 'False.', 'False.',\n",
       "       'False.', 'False.', 'False.', 'False.', 'False.', 'False.',\n",
       "       'False.', 'False.', 'False.', 'False.', 'True.', 'False.',\n",
       "       'False.', 'False.', 'False.', 'True.', 'False.', 'False.',\n",
       "       'False.', 'False.', 'False.', 'False.', 'False.', 'False.',\n",
       "       'False.', 'False.', 'False.', 'False.', 'False.', 'False.',\n",
       "       'False.', 'False.', 'False.', 'False.', 'False.', 'False.',\n",
       "       'False.', 'False.', 'False.', 'False.', 'False.', 'False.',\n",
       "       'False.', 'False.', 'False.', 'False.', 'False.', 'False.',\n",
       "       'False.', 'True.', 'False.', 'False.', 'False.', 'False.',\n",
       "       'False.', 'False.', 'False.', 'False.', 'False.', 'False.',\n",
       "       'False.', 'False.', 'False.', 'True.', 'False.', 'False.',\n",
       "       'False.', 'False.', 'False.', 'False.', 'False.', 'False.',\n",
       "       'False.', 'False.', 'False.', 'False.', 'False.', 'False.',\n",
       "       'False.', 'False.', 'False.', 'False.', 'False.', 'False.',\n",
       "       'False.', 'False.', 'False.', 'False.', 'False.', 'True.',\n",
       "       'False.', 'False.', 'False.', 'False.', 'False.', 'False.',\n",
       "       'False.', 'False.', 'False.', 'False.', 'True.', 'True.', 'False.',\n",
       "       'False.', 'False.', 'False.', 'False.', 'False.', 'False.',\n",
       "       'False.', 'False.', 'False.', 'False.', 'False.', 'False.',\n",
       "       'False.', 'False.', 'False.', 'False.', 'False.', 'False.',\n",
       "       'False.', 'False.', 'False.', 'False.', 'False.', 'False.',\n",
       "       'False.', 'False.', 'False.', 'False.', 'False.', 'False.',\n",
       "       'False.', 'False.', 'False.', 'False.', 'False.', 'False.',\n",
       "       'False.', 'False.', 'False.', 'False.', 'False.', 'False.',\n",
       "       'False.', 'False.', 'False.', 'False.', 'False.', 'False.',\n",
       "       'False.', 'False.', 'False.', 'True.', 'False.', 'False.',\n",
       "       'False.', 'False.', 'False.', 'False.', 'False.', 'False.',\n",
       "       'False.', 'False.', 'True.', 'False.', 'False.', 'False.',\n",
       "       'False.', 'False.', 'False.', 'False.', 'False.', 'True.',\n",
       "       'False.', 'False.', 'False.', 'False.', 'False.', 'False.',\n",
       "       'False.', 'False.', 'True.', 'False.', 'False.', 'False.',\n",
       "       'False.', 'False.', 'True.', 'False.', 'False.', 'False.',\n",
       "       'False.', 'False.', 'False.', 'False.', 'False.', 'True.',\n",
       "       'False.', 'False.', 'False.', 'False.', 'False.', 'False.',\n",
       "       'False.', 'False.', 'False.', 'False.', 'False.', 'False.',\n",
       "       'False.', 'False.', 'False.', 'False.', 'False.', 'False.',\n",
       "       'False.', 'False.', 'False.', 'False.', 'False.', 'False.',\n",
       "       'False.', 'False.', 'False.', 'False.', 'False.', 'False.',\n",
       "       'False.', 'False.', 'False.', 'False.', 'False.', 'False.',\n",
       "       'False.', 'False.', 'False.', 'False.', 'False.', 'False.',\n",
       "       'False.', 'False.', 'False.', 'False.', 'False.', 'False.',\n",
       "       'False.', 'False.', 'False.', 'False.', 'False.', 'True.',\n",
       "       'False.', 'False.', 'False.', 'False.', 'False.', 'False.',\n",
       "       'True.', 'False.', 'False.', 'False.', 'False.', 'False.',\n",
       "       'False.', 'False.', 'False.', 'False.', 'False.', 'False.',\n",
       "       'False.', 'False.', 'False.', 'False.', 'False.', 'False.',\n",
       "       'False.', 'True.', 'False.', 'False.', 'False.', 'False.',\n",
       "       'False.', 'False.', 'False.', 'False.', 'False.', 'False.',\n",
       "       'False.', 'False.', 'False.', 'True.', 'False.', 'False.',\n",
       "       'False.', 'False.', 'False.', 'False.', 'False.', 'False.',\n",
       "       'False.', 'False.', 'False.', 'False.', 'False.', 'False.',\n",
       "       'False.', 'False.', 'False.', 'False.', 'False.', 'False.',\n",
       "       'False.', 'False.', 'False.', 'False.', 'False.', 'True.',\n",
       "       'False.', 'False.', 'False.', 'False.', 'False.', 'True.',\n",
       "       'False.', 'True.', 'False.', 'False.', 'False.', 'False.',\n",
       "       'False.', 'False.', 'False.', 'False.', 'False.', 'False.',\n",
       "       'False.', 'True.', 'False.', 'False.', 'False.', 'False.',\n",
       "       'False.', 'False.', 'False.', 'False.', 'False.', 'False.',\n",
       "       'False.', 'True.', 'False.', 'False.', 'False.', 'False.',\n",
       "       'False.', 'False.', 'False.', 'False.', 'False.', 'False.',\n",
       "       'False.', 'False.', 'False.', 'False.', 'False.', 'False.',\n",
       "       'False.', 'False.', 'False.', 'False.', 'True.', 'False.',\n",
       "       'False.', 'False.', 'False.', 'False.', 'False.', 'False.',\n",
       "       'False.', 'False.', 'False.', 'False.', 'False.', 'False.',\n",
       "       'False.', 'False.', 'False.', 'False.', 'False.', 'False.',\n",
       "       'False.', 'False.', 'False.', 'False.', 'False.', 'False.',\n",
       "       'False.', 'False.', 'False.', 'False.', 'False.', 'False.',\n",
       "       'False.', 'False.', 'False.', 'False.', 'False.', 'False.',\n",
       "       'False.', 'False.', 'False.', 'False.', 'False.', 'False.',\n",
       "       'False.', 'False.', 'False.', 'False.', 'False.', 'False.',\n",
       "       'False.', 'False.', 'False.', 'False.', 'False.', 'False.',\n",
       "       'False.', 'True.', 'False.', 'False.', 'False.', 'False.',\n",
       "       'False.', 'False.', 'False.', 'False.', 'False.', 'False.',\n",
       "       'False.', 'False.', 'False.', 'False.', 'False.', 'False.',\n",
       "       'False.', 'False.', 'False.', 'False.', 'False.', 'False.',\n",
       "       'False.', 'False.', 'False.', 'False.', 'False.', 'False.',\n",
       "       'False.', 'False.', 'False.', 'False.', 'False.', 'False.',\n",
       "       'False.', 'False.', 'False.', 'False.', 'False.', 'False.',\n",
       "       'False.', 'False.', 'False.', 'False.', 'False.', 'False.',\n",
       "       'False.', 'False.', 'False.', 'True.', 'False.', 'True.', 'False.',\n",
       "       'False.', 'False.', 'True.', 'False.', 'False.', 'False.',\n",
       "       'False.', 'False.', 'False.', 'False.', 'False.', 'False.',\n",
       "       'False.', 'False.', 'False.', 'False.', 'False.', 'False.',\n",
       "       'False.', 'False.', 'False.', 'False.', 'False.', 'False.',\n",
       "       'False.', 'False.', 'False.', 'True.', 'False.', 'False.',\n",
       "       'False.', 'False.', 'False.', 'False.', 'False.', 'False.',\n",
       "       'False.', 'False.', 'False.', 'False.', 'False.', 'False.',\n",
       "       'False.', 'False.', 'False.', 'True.', 'False.', 'False.',\n",
       "       'False.', 'False.', 'False.', 'False.', 'False.', 'False.',\n",
       "       'False.', 'False.', 'False.', 'True.', 'False.', 'False.',\n",
       "       'False.', 'False.', 'False.', 'False.', 'True.', 'False.',\n",
       "       'False.', 'False.', 'False.', 'False.', 'False.', 'False.',\n",
       "       'False.', 'False.', 'False.', 'False.', 'False.', 'False.',\n",
       "       'False.', 'False.', 'False.', 'False.', 'False.', 'True.',\n",
       "       'False.', 'False.', 'False.', 'False.', 'False.', 'False.',\n",
       "       'False.', 'False.', 'False.', 'True.', 'False.', 'False.',\n",
       "       'False.', 'False.', 'False.', 'False.', 'False.', 'False.',\n",
       "       'False.', 'False.', 'False.', 'False.', 'False.', 'False.',\n",
       "       'False.', 'False.', 'False.', 'False.', 'True.', 'False.',\n",
       "       'False.', 'False.', 'False.', 'False.', 'False.', 'False.',\n",
       "       'False.', 'False.', 'False.', 'False.', 'False.', 'False.',\n",
       "       'False.', 'False.', 'False.', 'False.', 'False.', 'False.',\n",
       "       'False.', 'False.', 'False.', 'False.', 'False.', 'True.',\n",
       "       'False.', 'False.', 'False.', 'False.', 'False.', 'False.',\n",
       "       'False.', 'False.', 'False.', 'False.', 'False.', 'False.',\n",
       "       'True.', 'False.', 'False.', 'False.', 'False.', 'False.',\n",
       "       'False.', 'False.', 'False.', 'False.', 'False.', 'False.',\n",
       "       'False.', 'False.', 'False.', 'False.', 'False.', 'False.',\n",
       "       'True.', 'False.', 'False.', 'False.', 'False.', 'False.',\n",
       "       'False.', 'False.', 'False.', 'False.', 'False.', 'False.',\n",
       "       'False.', 'False.', 'False.', 'False.', 'False.', 'False.',\n",
       "       'False.', 'False.', 'False.', 'False.', 'False.', 'False.',\n",
       "       'True.', 'False.', 'False.', 'False.', 'False.', 'False.',\n",
       "       'False.', 'False.', 'False.', 'False.', 'False.', 'False.',\n",
       "       'True.', 'False.', 'True.', 'False.', 'False.', 'False.', 'False.',\n",
       "       'False.', 'False.', 'False.', 'True.', 'False.', 'False.',\n",
       "       'False.', 'False.', 'False.', 'False.', 'True.', 'False.',\n",
       "       'False.', 'False.', 'False.', 'False.', 'False.', 'True.',\n",
       "       'False.', 'False.', 'False.', 'False.', 'True.', 'False.',\n",
       "       'False.', 'False.', 'False.', 'False.', 'False.', 'False.',\n",
       "       'False.', 'False.', 'False.', 'False.', 'False.', 'False.',\n",
       "       'False.', 'False.', 'False.', 'False.', 'False.', 'False.',\n",
       "       'False.', 'False.', 'False.', 'False.', 'False.', 'False.',\n",
       "       'False.', 'False.', 'False.', 'False.', 'False.', 'False.',\n",
       "       'False.', 'False.', 'False.', 'False.', 'False.', 'False.',\n",
       "       'False.', 'False.', 'False.', 'True.', 'True.', 'False.', 'False.',\n",
       "       'False.', 'False.', 'False.', 'False.', 'False.', 'False.',\n",
       "       'False.', 'False.', 'False.', 'True.', 'False.', 'False.',\n",
       "       'False.', 'False.', 'False.', 'False.', 'False.', 'False.',\n",
       "       'False.', 'False.', 'False.', 'False.', 'False.', 'False.',\n",
       "       'False.', 'False.', 'False.', 'False.', 'False.', 'False.',\n",
       "       'False.', 'False.', 'False.', 'True.', 'False.', 'False.',\n",
       "       'False.', 'False.', 'False.', 'False.', 'False.', 'False.',\n",
       "       'True.', 'False.', 'False.', 'False.', 'False.', 'False.',\n",
       "       'False.', 'False.', 'False.', 'False.', 'False.', 'False.',\n",
       "       'False.', 'False.', 'False.', 'False.', 'False.', 'False.',\n",
       "       'False.', 'False.', 'False.', 'False.', 'False.', 'False.'],\n",
       "      dtype=object)"
      ]
     },
     "execution_count": 41,
     "metadata": {},
     "output_type": "execute_result"
    }
   ],
   "source": [
    "pipe.predict(x_test)"
   ]
  },
  {
   "cell_type": "markdown",
   "metadata": {
    "slideshow": {
     "slide_type": "slide"
    }
   },
   "source": [
    "## Trouver la meilleure combinaison d’hyperparamètres dans un pipeline\n",
    "\n",
    "Essayons de trouver la meilleure combinaison d’hyperparamètres dans un pipeline.\n",
    "Dans le cadre de cet exemple, nous utiliserons les SVM (support vector machines,\n",
    "également appelés séparateurs à vaste marge ou machines à vecteurs de support).\n",
    "Ce sont des méthodes assez complexes dans leur principe mais simples dans leur\n",
    "mise en oeuvre.\n",
    "\n",
    "Les hyperparamètres d’un modèle de SVM sont assez nombreux. Les plus importants\n",
    "étant le noyau choisi (linéaire, polynomial, sigmoïd, RBF…), les paramètres de\n",
    "ces noyaux (le degré pour le cas polynomiale, gamma…) et le C pour la marge floue.\n",
    "\n",
    "Dans notre exemple, on utilisera la fonction make_pipeline qui est équivalente\n",
    "à la classe précédente avec quelques simplifications :"
   ]
  },
  {
   "cell_type": "code",
   "execution_count": 42,
   "metadata": {
    "slideshow": {
     "slide_type": "subslide"
    }
   },
   "outputs": [],
   "source": [
    "from sklearn.pipeline import make_pipeline\n",
    "from sklearn.svm import SVC\n",
    "from sklearn.decomposition import PCA\n",
    "from sklearn.model_selection import GridSearchCV\n",
    "\n",
    "# construction du pipeline basé sur deux approches\n",
    "mon_pipe=make_pipeline(PCA(), SVC(probability=True))\n",
    "\n",
    "# construction du dictionnaire des paramètres\n",
    "# (attention utilisation de __)\n",
    "param_grid = dict(pca__n_components=[5, 10, x_train.shape[1]],\n",
    "                  svc__C= [1, 10, 100, 1000],\n",
    "                  svc__kernel= ['sigmoid', 'rbf'],\n",
    "                  svc__gamma= [0.001, 0.0001])\n",
    "\n",
    "# on construit l’objet GridSearch et on estime les hyper-paramètres\n",
    "# par validation croisée\n",
    "grid_search_mon_pipe = GridSearchCV(mon_pipe, param_grid = param_grid, scoring = \"roc_auc\", cv = 4)"
   ]
  },
  {
   "cell_type": "code",
   "execution_count": 43,
   "metadata": {
    "slideshow": {
     "slide_type": "fragment"
    }
   },
   "outputs": [],
   "source": [
    "grid_search_mon_pipe.fit(x_train,y_train)\n",
    "pass"
   ]
  },
  {
   "cell_type": "code",
   "execution_count": 44,
   "metadata": {
    "slideshow": {
     "slide_type": "subslide"
    }
   },
   "outputs": [
    {
     "data": {
      "text/plain": [
       "{'pca__n_components': 20,\n",
       " 'svc__C': 1000,\n",
       " 'svc__gamma': 0.001,\n",
       " 'svc__kernel': 'rbf'}"
      ]
     },
     "execution_count": 44,
     "metadata": {},
     "output_type": "execute_result"
    }
   ],
   "source": [
    "# la meilleure combinaisons de paramètres est :\n",
    "grid_search_mon_pipe.best_params_"
   ]
  },
  {
   "cell_type": "code",
   "execution_count": 45,
   "metadata": {
    "slideshow": {
     "slide_type": "fragment"
    }
   },
   "outputs": [
    {
     "data": {
      "text/plain": [
       "0.8794504463351821"
      ]
     },
     "execution_count": 45,
     "metadata": {},
     "output_type": "execute_result"
    }
   ],
   "source": [
    "grid_search_mon_pipe.best_score_"
   ]
  },
  {
   "cell_type": "markdown",
   "metadata": {
    "slideshow": {
     "slide_type": "fragment"
    }
   },
   "source": [
    "Les meilleurs hyperparamètres obtenus en utilisant l’aire sous la courbe ROC sont\n",
    "la combinaison C = 10, gamma = 0.0001, un noyau RBF pour les SVM et dix composantes\n",
    "pour notre analyse en composantes principales.\n",
    "\n",
    "Dans ce code, on définit les hyperparamètres associés à une méthode du pipeline\n",
    "avec un double underscore : __.\n",
    "\n",
    "L’utilisation des pipelines de Scikit-Learn va devenir rapidement une étape cruciale\n",
    "de vos développements en Python."
   ]
  },
  {
   "cell_type": "markdown",
   "metadata": {
    "slideshow": {
     "slide_type": "slide"
    }
   },
   "source": [
    "## Passer en production votre modèle d’apprentissage supervisé\n",
    "\n",
    "### Persistance de modèle avec Scikit-Learn\n",
    "\n",
    "Python possède plusieurs outils pour la persistance d’objets, c’est-à-dire pour stocker\n",
    "des objets dans des fichiers. Les objets de Scikit-Learn sont aussi dans cette\n",
    "situation. On utilise un format pickle qui aura l’extension .pkl.\n",
    "\n",
    "Par exemple, si nous voulons sauvegarder le dernier pipeline de traitement, nous\n",
    "allons utiliser :"
   ]
  },
  {
   "cell_type": "code",
   "execution_count": 46,
   "metadata": {
    "slideshow": {
     "slide_type": "fragment"
    }
   },
   "outputs": [
    {
     "name": "stderr",
     "output_type": "stream",
     "text": [
      "C:\\Users\\s4d-asus-14\\Anaconda3\\lib\\site-packages\\sklearn\\externals\\joblib\\__init__.py:15: DeprecationWarning: sklearn.externals.joblib is deprecated in 0.21 and will be removed in 0.23. Please import this functionality directly from joblib, which can be installed with: pip install joblib. If this warning is raised when loading pickled models, you may need to re-serialize those models with scikit-learn 0.21+.\n",
      "  warnings.warn(msg, category=DeprecationWarning)\n"
     ]
    },
    {
     "data": {
      "text/plain": [
       "['./data/modele_grid_pipe.pkl']"
      ]
     },
     "execution_count": 46,
     "metadata": {},
     "output_type": "execute_result"
    }
   ],
   "source": [
    "from sklearn.externals import joblib\n",
    "joblib.dump(grid_search_mon_pipe, './data/modele_grid_pipe.pkl')"
   ]
  },
  {
   "cell_type": "markdown",
   "metadata": {
    "slideshow": {
     "slide_type": "subslide"
    }
   },
   "source": [
    "Une fois ce modèle stocké, on peut très bien le réutiliser dans un autre cadre. Si\n",
    "nous créons un nouveau notebook, nous allons utiliser :\n",
    "\n"
   ]
  },
  {
   "cell_type": "code",
   "execution_count": 47,
   "metadata": {
    "slideshow": {
     "slide_type": "fragment"
    }
   },
   "outputs": [],
   "source": [
    "from sklearn.externals import joblib\n",
    "#grid_search_mon_pipe = joblib.load('./data/modele_grid_pipe.pkl')"
   ]
  },
  {
   "cell_type": "code",
   "execution_count": 48,
   "metadata": {},
   "outputs": [
    {
     "data": {
      "text/plain": [
       "(2333, 20)"
      ]
     },
     "execution_count": 48,
     "metadata": {},
     "output_type": "execute_result"
    }
   ],
   "source": [
    "x_train.shape"
   ]
  },
  {
   "cell_type": "markdown",
   "metadata": {
    "slideshow": {
     "slide_type": "fragment"
    }
   },
   "source": [
    "On peut ensuite appliquer le modèle avec tous les paramètres qui ont été appris :\n"
   ]
  },
  {
   "cell_type": "markdown",
   "metadata": {
    "slideshow": {
     "slide_type": "fragment"
    }
   },
   "source": [
    "```python\n",
    "grid_search_mon_pipe.predict(x_test)\n",
    "```"
   ]
  },
  {
   "cell_type": "markdown",
   "metadata": {
    "slideshow": {
     "slide_type": "fragment"
    }
   },
   "source": [
    "L’utilisation d’un fichier Pickle dans un notebook est une technique assez simple et courante."
   ]
  }
 ],
 "metadata": {
  "celltoolbar": "Format de la Cellule Texte Brut",
  "kernelspec": {
   "display_name": "Python 3",
   "language": "python",
   "name": "python3"
  },
  "language_info": {
   "codemirror_mode": {
    "name": "ipython",
    "version": 3
   },
   "file_extension": ".py",
   "mimetype": "text/x-python",
   "name": "python",
   "nbconvert_exporter": "python",
   "pygments_lexer": "ipython3",
   "version": "3.7.5"
  }
 },
 "nbformat": 4,
 "nbformat_minor": 2
}
